{
 "cells": [
  {
   "cell_type": "markdown",
   "metadata": {},
   "source": [
    "# Grocery Recommendation Project\n",
    "\n",
    "1. Data Clustering on users  \n",
    "2. Recommendation systems\n",
    "  * Content-based filtering  \n",
    "  * Collaborative filtering  \n",
    "3. Metadata NLP Search Engine\n",
    "3. Market Basket analysis  \n",
    "4. Website interface  "
   ]
  },
  {
   "cell_type": "markdown",
   "metadata": {},
   "source": [
    "For this analysis I will be working as a Data Scientist for a grocery store that is looking to discover insights from sales data that could be used for targeted direct mail marketing (specific coupons mailed to customers), targeted email marketing (\"An item you like has gone on sale!\"), and online shopper recommendations to 'add to cart' based on similar items and also based on items other people who bought that item have purchased.  \n",
    "\n",
    "If time permits, I may also perform a market basket analysis to forecast what products a customer is likely to purchase in their next order."
   ]
  },
  {
   "cell_type": "markdown",
   "metadata": {},
   "source": [
    "## Dataset information"
   ]
  },
  {
   "cell_type": "markdown",
   "metadata": {},
   "source": [
    "This data was retrieved from Kaggle and was provided by Instacart for a market basket analysis competition in 2018.  \n",
    "\n",
    "The data is divided into 6 files:\n",
    "\n",
    "- **_Aisles.csv_**: 134 Unique aisle numbers and descriptions\n",
    "- **_Departments.csv_**: 21 Unique department numbers and descriptions\n",
    "- **_Products.csv_**: 49,688 Unique product ids, with description, aisle id, and department id\n",
    "- **_Orders.csv_**: 3,421,083 Unique order id, with user id, order number, order_dow, order_hour_of_day, days_since_prior_order, and eval_set indicating if the order is in train, prior, or test\n",
    "- **_Order_products_train.csv_**: Order id, product id, add to cart order, and reorder indicator\n",
    "- **_Order_products_prior.csv_**: Order id, product id, add to cart order, and reorder indicator\n"
   ]
  },
  {
   "cell_type": "markdown",
   "metadata": {},
   "source": [
    "## Exploratory Data Analysis"
   ]
  },
  {
   "cell_type": "markdown",
   "metadata": {},
   "source": [
    "### Import and basic info\n",
    "\n",
    "**Output** - aisles, orders, products, departments, order_products_prior, order_products_train"
   ]
  },
  {
   "cell_type": "code",
   "execution_count": 1,
   "metadata": {},
   "outputs": [
    {
     "ename": "ModuleNotFoundError",
     "evalue": "No module named 'user_functions'",
     "output_type": "error",
     "traceback": [
      "\u001b[1;31m---------------------------------------------------------------------------\u001b[0m",
      "\u001b[1;31mModuleNotFoundError\u001b[0m                       Traceback (most recent call last)",
      "Cell \u001b[1;32mIn[1], line 7\u001b[0m\n\u001b[0;32m      5\u001b[0m \u001b[38;5;28;01mimport\u001b[39;00m \u001b[38;5;21;01mitertools\u001b[39;00m\n\u001b[0;32m      6\u001b[0m \u001b[38;5;28;01mimport\u001b[39;00m \u001b[38;5;21;01mtime\u001b[39;00m\n\u001b[1;32m----> 7\u001b[0m \u001b[38;5;28;01mfrom\u001b[39;00m \u001b[38;5;21;01muser_functions\u001b[39;00m \u001b[38;5;28;01mimport\u001b[39;00m \u001b[38;5;241m*\u001b[39m\n\u001b[0;32m      8\u001b[0m \u001b[38;5;28;01mfrom\u001b[39;00m \u001b[38;5;21;01mdatetime\u001b[39;00m \u001b[38;5;28;01mimport\u001b[39;00m datetime\n\u001b[0;32m      9\u001b[0m \u001b[38;5;28;01mimport\u001b[39;00m \u001b[38;5;21;01mpickle\u001b[39;00m\n",
      "\u001b[1;31mModuleNotFoundError\u001b[0m: No module named 'user_functions'"
     ]
    }
   ],
   "source": [
    "import pandas as pd\n",
    "import numpy as np\n",
    "import matplotlib.pyplot as plt\n",
    "import seaborn as sns\n",
    "import itertools\n",
    "import time\n",
    "from user_functions import *\n",
    "from datetime import datetime\n",
    "import pickle\n",
    "import warnings\n",
    "warnings.filterwarnings('ignore')"
   ]
  },
  {
   "cell_type": "code",
   "execution_count": 23,
   "metadata": {},
   "outputs": [],
   "source": [
    "# Set default visualization parameters\n",
    "\n",
    "CB91_Blue = '#2CBDFE'\n",
    "CB91_Green = '#47DBCD'\n",
    "CB91_Pink = '#F3A0F2'\n",
    "CB91_Purple = '#9D2EC5'\n",
    "CB91_Violet = '#661D98'\n",
    "CB91_Amber = '#F5B14C'\n",
    "color_list = [CB91_Blue, CB91_Pink, CB91_Green, CB91_Amber, CB91_Purple, CB91_Violet]\n",
    "plt.rcParams['axes.prop_cycle'] = plt.cycler(color=color_list)\n",
    "sns.set_context(\"notebook\", rc={\"font.size\":16, \"axes.titlesize\":20, \"axes.labelsize\":18})\n",
    "sns.set(font='Franklin Gothic Book',\n",
    "rc={'axes.axisbelow': False,\n",
    "'axes.edgecolor': 'lightgrey',\n",
    "# 'axes.edgecolor': 'white',\n",
    "'axes.facecolor': 'None',\n",
    "'axes.grid': False,\n",
    "'axes.labelcolor': 'dimgrey',\n",
    "# 'axes.labelcolor': 'white',\n",
    "'axes.spines.right': False,\n",
    "'axes.spines.top': False,\n",
    "'axes.prop_cycle': plt.cycler(color=color_list),\n",
    "'figure.facecolor': 'white',\n",
    "'lines.solid_capstyle': 'round',\n",
    "'patch.edgecolor': 'w',\n",
    "'patch.force_edgecolor': True,\n",
    "'text.color': 'dimgrey',\n",
    "# 'text.color': 'white',    \n",
    "'xtick.bottom': False,\n",
    "'xtick.color': 'dimgrey',\n",
    "# 'xtick.color': 'white',    \n",
    "'xtick.direction': 'out',\n",
    "'xtick.top': False,\n",
    "'ytick.color': 'dimgrey',\n",
    "# 'ytick.color': 'white',\n",
    "'ytick.direction': 'out',\n",
    "'ytick.left': False,\n",
    "'ytick.right': False})\n",
    "%matplotlib inline\n",
    "\n",
    "# NOTE: if you visualizations are too cluttered to read, try calling 'plt.gcf().autofmt_xdate()'!"
   ]
  },
  {
   "cell_type": "code",
   "execution_count": 24,
   "metadata": {
    "scrolled": false
   },
   "outputs": [],
   "source": [
    "aisles = pd.read_csv(\"Data/aisles.csv\")\n",
    "departments = pd.read_csv(\"Data/departments.csv\")\n",
    "order_products_prior = pd.read_csv(\"Data/order_products__prior.csv\")\n",
    "order_products_train = pd.read_csv(\"Data/order_products__train.csv\")\n",
    "orders = pd.read_csv(\"Data/orders.csv\")\n",
    "products = pd.read_csv(\"Data/products.csv\")"
   ]
  },
  {
   "cell_type": "markdown",
   "metadata": {},
   "source": [
    "### Checking for Nan values\n",
    "\n",
    "Data is very clean. Nan values in orders.days_since_prior_order, but they are valid."
   ]
  },
  {
   "cell_type": "code",
   "execution_count": 4,
   "metadata": {
    "scrolled": true
   },
   "outputs": [
    {
     "data": {
      "text/plain": [
       "aisle_id    0\n",
       "aisle       0\n",
       "dtype: int64"
      ]
     },
     "execution_count": 4,
     "metadata": {},
     "output_type": "execute_result"
    }
   ],
   "source": [
    "aisles.isna().sum()"
   ]
  },
  {
   "cell_type": "code",
   "execution_count": 5,
   "metadata": {
    "scrolled": false
   },
   "outputs": [
    {
     "data": {
      "text/plain": [
       "department_id    0\n",
       "department       0\n",
       "dtype: int64"
      ]
     },
     "execution_count": 5,
     "metadata": {},
     "output_type": "execute_result"
    }
   ],
   "source": [
    "departments.isna().sum()"
   ]
  },
  {
   "cell_type": "code",
   "execution_count": 6,
   "metadata": {},
   "outputs": [
    {
     "data": {
      "text/plain": [
       "product_id       0\n",
       "product_name     0\n",
       "aisle_id         0\n",
       "department_id    0\n",
       "dtype: int64"
      ]
     },
     "execution_count": 6,
     "metadata": {},
     "output_type": "execute_result"
    }
   ],
   "source": [
    "products.isna().sum()"
   ]
  },
  {
   "cell_type": "code",
   "execution_count": 7,
   "metadata": {},
   "outputs": [
    {
     "data": {
      "text/plain": [
       "order_id                       0\n",
       "user_id                        0\n",
       "eval_set                       0\n",
       "order_number                   0\n",
       "order_dow                      0\n",
       "order_hour_of_day              0\n",
       "days_since_prior_order    206209\n",
       "dtype: int64"
      ]
     },
     "execution_count": 7,
     "metadata": {},
     "output_type": "execute_result"
    }
   ],
   "source": [
    "orders.isna().sum()"
   ]
  },
  {
   "cell_type": "code",
   "execution_count": 8,
   "metadata": {},
   "outputs": [
    {
     "data": {
      "text/plain": [
       "30.0    369323\n",
       "7.0     320608\n",
       "6.0     240013\n",
       "4.0     221696\n",
       "3.0     217005\n",
       "5.0     214503\n",
       "2.0     193206\n",
       "8.0     181717\n",
       "1.0     145247\n",
       "9.0     118188\n",
       "14.0    100230\n",
       "10.0     95186\n",
       "13.0     83214\n",
       "11.0     80970\n",
       "12.0     76146\n",
       "0.0      67755\n",
       "15.0     66579\n",
       "16.0     46941\n",
       "21.0     45470\n",
       "17.0     39245\n",
       "20.0     38527\n",
       "18.0     35881\n",
       "19.0     34384\n",
       "22.0     32012\n",
       "28.0     26777\n",
       "23.0     23885\n",
       "27.0     22013\n",
       "24.0     20712\n",
       "25.0     19234\n",
       "29.0     19191\n",
       "26.0     19016\n",
       "Name: days_since_prior_order, dtype: int64"
      ]
     },
     "execution_count": 8,
     "metadata": {},
     "output_type": "execute_result"
    }
   ],
   "source": [
    "orders.days_since_prior_order.value_counts()\n",
    "# Nothing greater than 30 here so it must actually be '30+'"
   ]
  },
  {
   "cell_type": "code",
   "execution_count": 9,
   "metadata": {
    "scrolled": true
   },
   "outputs": [
    {
     "data": {
      "text/html": [
       "<div>\n",
       "<style scoped>\n",
       "    .dataframe tbody tr th:only-of-type {\n",
       "        vertical-align: middle;\n",
       "    }\n",
       "\n",
       "    .dataframe tbody tr th {\n",
       "        vertical-align: top;\n",
       "    }\n",
       "\n",
       "    .dataframe thead th {\n",
       "        text-align: right;\n",
       "    }\n",
       "</style>\n",
       "<table border=\"1\" class=\"dataframe\">\n",
       "  <thead>\n",
       "    <tr style=\"text-align: right;\">\n",
       "      <th></th>\n",
       "      <th>order_id</th>\n",
       "      <th>user_id</th>\n",
       "      <th>eval_set</th>\n",
       "      <th>order_number</th>\n",
       "      <th>order_dow</th>\n",
       "      <th>order_hour_of_day</th>\n",
       "      <th>days_since_prior_order</th>\n",
       "    </tr>\n",
       "  </thead>\n",
       "  <tbody>\n",
       "    <tr>\n",
       "      <th>0</th>\n",
       "      <td>2539329</td>\n",
       "      <td>1</td>\n",
       "      <td>prior</td>\n",
       "      <td>1</td>\n",
       "      <td>2</td>\n",
       "      <td>8</td>\n",
       "      <td>NaN</td>\n",
       "    </tr>\n",
       "    <tr>\n",
       "      <th>1</th>\n",
       "      <td>2398795</td>\n",
       "      <td>1</td>\n",
       "      <td>prior</td>\n",
       "      <td>2</td>\n",
       "      <td>3</td>\n",
       "      <td>7</td>\n",
       "      <td>15.0</td>\n",
       "    </tr>\n",
       "    <tr>\n",
       "      <th>2</th>\n",
       "      <td>473747</td>\n",
       "      <td>1</td>\n",
       "      <td>prior</td>\n",
       "      <td>3</td>\n",
       "      <td>3</td>\n",
       "      <td>12</td>\n",
       "      <td>21.0</td>\n",
       "    </tr>\n",
       "    <tr>\n",
       "      <th>3</th>\n",
       "      <td>2254736</td>\n",
       "      <td>1</td>\n",
       "      <td>prior</td>\n",
       "      <td>4</td>\n",
       "      <td>4</td>\n",
       "      <td>7</td>\n",
       "      <td>29.0</td>\n",
       "    </tr>\n",
       "    <tr>\n",
       "      <th>4</th>\n",
       "      <td>431534</td>\n",
       "      <td>1</td>\n",
       "      <td>prior</td>\n",
       "      <td>5</td>\n",
       "      <td>4</td>\n",
       "      <td>15</td>\n",
       "      <td>28.0</td>\n",
       "    </tr>\n",
       "  </tbody>\n",
       "</table>\n",
       "</div>"
      ],
      "text/plain": [
       "   order_id  user_id eval_set  order_number  order_dow  order_hour_of_day  \\\n",
       "0   2539329        1    prior             1          2                  8   \n",
       "1   2398795        1    prior             2          3                  7   \n",
       "2    473747        1    prior             3          3                 12   \n",
       "3   2254736        1    prior             4          4                  7   \n",
       "4    431534        1    prior             5          4                 15   \n",
       "\n",
       "   days_since_prior_order  \n",
       "0                     NaN  \n",
       "1                    15.0  \n",
       "2                    21.0  \n",
       "3                    29.0  \n",
       "4                    28.0  "
      ]
     },
     "execution_count": 9,
     "metadata": {},
     "output_type": "execute_result"
    }
   ],
   "source": [
    "orders.head()\n",
    "# order_id is a unique key for the order\n",
    "# order_number is specific to a user\n",
    "# seems like for any user, order 1 will have a Nan in days_since_prior_order since it is their first order"
   ]
  },
  {
   "cell_type": "code",
   "execution_count": 10,
   "metadata": {},
   "outputs": [
    {
     "data": {
      "text/plain": [
       "order_id             0\n",
       "product_id           0\n",
       "add_to_cart_order    0\n",
       "reordered            0\n",
       "dtype: int64"
      ]
     },
     "execution_count": 10,
     "metadata": {},
     "output_type": "execute_result"
    }
   ],
   "source": [
    "order_products_train.isna().sum()"
   ]
  },
  {
   "cell_type": "code",
   "execution_count": 11,
   "metadata": {},
   "outputs": [
    {
     "data": {
      "text/plain": [
       "order_id             0\n",
       "product_id           0\n",
       "add_to_cart_order    0\n",
       "reordered            0\n",
       "dtype: int64"
      ]
     },
     "execution_count": 11,
     "metadata": {},
     "output_type": "execute_result"
    }
   ],
   "source": [
    "order_products_prior.isna().sum()"
   ]
  },
  {
   "cell_type": "markdown",
   "metadata": {},
   "source": [
    "### Analyze 'Products'\n",
    "  \n",
    "49688 unique products "
   ]
  },
  {
   "cell_type": "code",
   "execution_count": 12,
   "metadata": {
    "scrolled": true
   },
   "outputs": [
    {
     "data": {
      "text/html": [
       "<div>\n",
       "<style scoped>\n",
       "    .dataframe tbody tr th:only-of-type {\n",
       "        vertical-align: middle;\n",
       "    }\n",
       "\n",
       "    .dataframe tbody tr th {\n",
       "        vertical-align: top;\n",
       "    }\n",
       "\n",
       "    .dataframe thead th {\n",
       "        text-align: right;\n",
       "    }\n",
       "</style>\n",
       "<table border=\"1\" class=\"dataframe\">\n",
       "  <thead>\n",
       "    <tr style=\"text-align: right;\">\n",
       "      <th></th>\n",
       "      <th>product_id</th>\n",
       "      <th>product_name</th>\n",
       "      <th>aisle_id</th>\n",
       "      <th>department_id</th>\n",
       "    </tr>\n",
       "  </thead>\n",
       "  <tbody>\n",
       "    <tr>\n",
       "      <th>0</th>\n",
       "      <td>1</td>\n",
       "      <td>Chocolate Sandwich Cookies</td>\n",
       "      <td>61</td>\n",
       "      <td>19</td>\n",
       "    </tr>\n",
       "    <tr>\n",
       "      <th>1</th>\n",
       "      <td>2</td>\n",
       "      <td>All-Seasons Salt</td>\n",
       "      <td>104</td>\n",
       "      <td>13</td>\n",
       "    </tr>\n",
       "    <tr>\n",
       "      <th>2</th>\n",
       "      <td>3</td>\n",
       "      <td>Robust Golden Unsweetened Oolong Tea</td>\n",
       "      <td>94</td>\n",
       "      <td>7</td>\n",
       "    </tr>\n",
       "    <tr>\n",
       "      <th>3</th>\n",
       "      <td>4</td>\n",
       "      <td>Smart Ones Classic Favorites Mini Rigatoni Wit...</td>\n",
       "      <td>38</td>\n",
       "      <td>1</td>\n",
       "    </tr>\n",
       "    <tr>\n",
       "      <th>4</th>\n",
       "      <td>5</td>\n",
       "      <td>Green Chile Anytime Sauce</td>\n",
       "      <td>5</td>\n",
       "      <td>13</td>\n",
       "    </tr>\n",
       "  </tbody>\n",
       "</table>\n",
       "</div>"
      ],
      "text/plain": [
       "   product_id                                       product_name  aisle_id  \\\n",
       "0           1                         Chocolate Sandwich Cookies        61   \n",
       "1           2                                   All-Seasons Salt       104   \n",
       "2           3               Robust Golden Unsweetened Oolong Tea        94   \n",
       "3           4  Smart Ones Classic Favorites Mini Rigatoni Wit...        38   \n",
       "4           5                          Green Chile Anytime Sauce         5   \n",
       "\n",
       "   department_id  \n",
       "0             19  \n",
       "1             13  \n",
       "2              7  \n",
       "3              1  \n",
       "4             13  "
      ]
     },
     "execution_count": 12,
     "metadata": {},
     "output_type": "execute_result"
    }
   ],
   "source": [
    "products.head()"
   ]
  },
  {
   "cell_type": "code",
   "execution_count": 13,
   "metadata": {
    "scrolled": true
   },
   "outputs": [
    {
     "name": "stdout",
     "output_type": "stream",
     "text": [
      "49688\n",
      "134\n",
      "21\n"
     ]
    }
   ],
   "source": [
    "print(len(products))\n",
    "print(products.aisle_id.nunique())\n",
    "print(products.department_id.nunique())"
   ]
  },
  {
   "cell_type": "code",
   "execution_count": 25,
   "metadata": {},
   "outputs": [
    {
     "data": {
      "text/html": [
       "<div>\n",
       "<style scoped>\n",
       "    .dataframe tbody tr th:only-of-type {\n",
       "        vertical-align: middle;\n",
       "    }\n",
       "\n",
       "    .dataframe tbody tr th {\n",
       "        vertical-align: top;\n",
       "    }\n",
       "\n",
       "    .dataframe thead th {\n",
       "        text-align: right;\n",
       "    }\n",
       "</style>\n",
       "<table border=\"1\" class=\"dataframe\">\n",
       "  <thead>\n",
       "    <tr style=\"text-align: right;\">\n",
       "      <th></th>\n",
       "      <th>product_id</th>\n",
       "      <th>product_name</th>\n",
       "      <th>aisle_id</th>\n",
       "      <th>department_id</th>\n",
       "      <th>aisle</th>\n",
       "      <th>department</th>\n",
       "    </tr>\n",
       "  </thead>\n",
       "  <tbody>\n",
       "    <tr>\n",
       "      <th>0</th>\n",
       "      <td>1</td>\n",
       "      <td>Chocolate Sandwich Cookies</td>\n",
       "      <td>61</td>\n",
       "      <td>19</td>\n",
       "      <td>cookies cakes</td>\n",
       "      <td>snacks</td>\n",
       "    </tr>\n",
       "    <tr>\n",
       "      <th>1</th>\n",
       "      <td>2</td>\n",
       "      <td>All-Seasons Salt</td>\n",
       "      <td>104</td>\n",
       "      <td>13</td>\n",
       "      <td>spices seasonings</td>\n",
       "      <td>pantry</td>\n",
       "    </tr>\n",
       "    <tr>\n",
       "      <th>2</th>\n",
       "      <td>3</td>\n",
       "      <td>Robust Golden Unsweetened Oolong Tea</td>\n",
       "      <td>94</td>\n",
       "      <td>7</td>\n",
       "      <td>tea</td>\n",
       "      <td>beverages</td>\n",
       "    </tr>\n",
       "    <tr>\n",
       "      <th>3</th>\n",
       "      <td>4</td>\n",
       "      <td>Smart Ones Classic Favorites Mini Rigatoni Wit...</td>\n",
       "      <td>38</td>\n",
       "      <td>1</td>\n",
       "      <td>frozen meals</td>\n",
       "      <td>frozen</td>\n",
       "    </tr>\n",
       "    <tr>\n",
       "      <th>4</th>\n",
       "      <td>5</td>\n",
       "      <td>Green Chile Anytime Sauce</td>\n",
       "      <td>5</td>\n",
       "      <td>13</td>\n",
       "      <td>marinades meat preparation</td>\n",
       "      <td>pantry</td>\n",
       "    </tr>\n",
       "  </tbody>\n",
       "</table>\n",
       "</div>"
      ],
      "text/plain": [
       "   product_id                                       product_name  aisle_id  \\\n",
       "0           1                         Chocolate Sandwich Cookies        61   \n",
       "1           2                                   All-Seasons Salt       104   \n",
       "2           3               Robust Golden Unsweetened Oolong Tea        94   \n",
       "3           4  Smart Ones Classic Favorites Mini Rigatoni Wit...        38   \n",
       "4           5                          Green Chile Anytime Sauce         5   \n",
       "\n",
       "   department_id                       aisle department  \n",
       "0             19               cookies cakes     snacks  \n",
       "1             13           spices seasonings     pantry  \n",
       "2              7                         tea  beverages  \n",
       "3              1                frozen meals     frozen  \n",
       "4             13  marinades meat preparation     pantry  "
      ]
     },
     "execution_count": 25,
     "metadata": {},
     "output_type": "execute_result"
    }
   ],
   "source": [
    "# How many products in each department and aisle?\n",
    "# I guess these would be better/more informative with aisle and dept names\n",
    "products_aisles = pd.merge(products, aisles, on = 'aisle_id', how = 'left')\n",
    "products_desc = pd.merge(products_aisles, departments, on = 'department_id', how = 'left')\n",
    "products_desc.head()"
   ]
  },
  {
   "cell_type": "code",
   "execution_count": 15,
   "metadata": {
    "scrolled": false
   },
   "outputs": [
    {
     "data": {
      "image/png": "[encoded data removed]",
      "text/plain": [
       "<Figure size 1008x504 with 1 Axes>"
      ]
     },
     "metadata": {
      "needs_background": "light"
     },
     "output_type": "display_data"
    }
   ],
   "source": [
    "plt.figure(figsize = (14,7))\n",
    "sns.countplot(x='department', data= products_desc, order = products_desc.department.value_counts().index)\n",
    "plt.title('Number of Products per Department')\n",
    "plt.xticks(rotation=70)\n",
    "plt.ylabel('Count')\n",
    "plt.xlabel('Department')\n",
    "plt.savefig('Images/products_by_department.png');"
   ]
  },
  {
   "cell_type": "code",
   "execution_count": 16,
   "metadata": {
    "scrolled": false
   },
   "outputs": [
    {
     "data": {
      "image/png": "[encoded data removed]",
      "text/plain": [
       "<Figure size 1008x504 with 1 Axes>"
      ]
     },
     "metadata": {
      "needs_background": "light"
     },
     "output_type": "display_data"
    }
   ],
   "source": [
    "plt.figure(figsize = (14,7))\n",
    "sns.countplot(x='aisle', data= products_desc, order = products_desc.aisle.value_counts().index)\n",
    "plt.title('Number of Products per Aisle')\n",
    "plt.xticks(rotation=90, fontsize = 8)\n",
    "plt.ylabel('Count')\n",
    "plt.xlabel('Aisle')\n",
    "plt.savefig('Images/products_by_aisle.png');\n",
    "# Uh oh, 'missing' is our most popular aisle\n",
    "# And I see there is a 'missing' value for department above as well"
   ]
  },
  {
   "cell_type": "code",
   "execution_count": 17,
   "metadata": {
    "scrolled": false
   },
   "outputs": [
    {
     "data": {
      "text/html": [
       "<div>\n",
       "<style scoped>\n",
       "    .dataframe tbody tr th:only-of-type {\n",
       "        vertical-align: middle;\n",
       "    }\n",
       "\n",
       "    .dataframe tbody tr th {\n",
       "        vertical-align: top;\n",
       "    }\n",
       "\n",
       "    .dataframe thead th {\n",
       "        text-align: right;\n",
       "    }\n",
       "</style>\n",
       "<table border=\"1\" class=\"dataframe\">\n",
       "  <thead>\n",
       "    <tr style=\"text-align: right;\">\n",
       "      <th></th>\n",
       "      <th>product_id</th>\n",
       "      <th>product_name</th>\n",
       "      <th>aisle_id</th>\n",
       "      <th>department_id</th>\n",
       "      <th>aisle</th>\n",
       "      <th>department</th>\n",
       "    </tr>\n",
       "  </thead>\n",
       "  <tbody>\n",
       "    <tr>\n",
       "      <th>37</th>\n",
       "      <td>38</td>\n",
       "      <td>Ultra Antibacterial Dish Liquid</td>\n",
       "      <td>100</td>\n",
       "      <td>21</td>\n",
       "      <td>missing</td>\n",
       "      <td>missing</td>\n",
       "    </tr>\n",
       "    <tr>\n",
       "      <th>71</th>\n",
       "      <td>72</td>\n",
       "      <td>Organic Honeycrisp Apples</td>\n",
       "      <td>100</td>\n",
       "      <td>21</td>\n",
       "      <td>missing</td>\n",
       "      <td>missing</td>\n",
       "    </tr>\n",
       "    <tr>\n",
       "      <th>109</th>\n",
       "      <td>110</td>\n",
       "      <td>Uncured Turkey Bologna</td>\n",
       "      <td>100</td>\n",
       "      <td>21</td>\n",
       "      <td>missing</td>\n",
       "      <td>missing</td>\n",
       "    </tr>\n",
       "    <tr>\n",
       "      <th>296</th>\n",
       "      <td>297</td>\n",
       "      <td>Write Bros Ball Point Pens, Cap-Pen, Medium (1...</td>\n",
       "      <td>100</td>\n",
       "      <td>21</td>\n",
       "      <td>missing</td>\n",
       "      <td>missing</td>\n",
       "    </tr>\n",
       "    <tr>\n",
       "      <th>416</th>\n",
       "      <td>417</td>\n",
       "      <td>Classics Baby Binks Easter Chocolate Bunny</td>\n",
       "      <td>100</td>\n",
       "      <td>21</td>\n",
       "      <td>missing</td>\n",
       "      <td>missing</td>\n",
       "    </tr>\n",
       "    <tr>\n",
       "      <th>...</th>\n",
       "      <td>...</td>\n",
       "      <td>...</td>\n",
       "      <td>...</td>\n",
       "      <td>...</td>\n",
       "      <td>...</td>\n",
       "      <td>...</td>\n",
       "    </tr>\n",
       "    <tr>\n",
       "      <th>49552</th>\n",
       "      <td>49553</td>\n",
       "      <td>Organic Plain Skyr</td>\n",
       "      <td>100</td>\n",
       "      <td>21</td>\n",
       "      <td>missing</td>\n",
       "      <td>missing</td>\n",
       "    </tr>\n",
       "    <tr>\n",
       "      <th>49574</th>\n",
       "      <td>49575</td>\n",
       "      <td>Chocolate Vanilla Malt Custard</td>\n",
       "      <td>100</td>\n",
       "      <td>21</td>\n",
       "      <td>missing</td>\n",
       "      <td>missing</td>\n",
       "    </tr>\n",
       "    <tr>\n",
       "      <th>49640</th>\n",
       "      <td>49641</td>\n",
       "      <td>8\\\" Pecan Pie</td>\n",
       "      <td>100</td>\n",
       "      <td>21</td>\n",
       "      <td>missing</td>\n",
       "      <td>missing</td>\n",
       "    </tr>\n",
       "    <tr>\n",
       "      <th>49663</th>\n",
       "      <td>49664</td>\n",
       "      <td>Lemon Cayenne Drinking Vinegar</td>\n",
       "      <td>100</td>\n",
       "      <td>21</td>\n",
       "      <td>missing</td>\n",
       "      <td>missing</td>\n",
       "    </tr>\n",
       "    <tr>\n",
       "      <th>49668</th>\n",
       "      <td>49669</td>\n",
       "      <td>K Cup Dark Blend</td>\n",
       "      <td>100</td>\n",
       "      <td>21</td>\n",
       "      <td>missing</td>\n",
       "      <td>missing</td>\n",
       "    </tr>\n",
       "  </tbody>\n",
       "</table>\n",
       "<p>1258 rows × 6 columns</p>\n",
       "</div>"
      ],
      "text/plain": [
       "       product_id                                       product_name  \\\n",
       "37             38                    Ultra Antibacterial Dish Liquid   \n",
       "71             72                          Organic Honeycrisp Apples   \n",
       "109           110                             Uncured Turkey Bologna   \n",
       "296           297  Write Bros Ball Point Pens, Cap-Pen, Medium (1...   \n",
       "416           417         Classics Baby Binks Easter Chocolate Bunny   \n",
       "...           ...                                                ...   \n",
       "49552       49553                                 Organic Plain Skyr   \n",
       "49574       49575                     Chocolate Vanilla Malt Custard   \n",
       "49640       49641                                      8\\\" Pecan Pie   \n",
       "49663       49664                     Lemon Cayenne Drinking Vinegar   \n",
       "49668       49669                                   K Cup Dark Blend   \n",
       "\n",
       "       aisle_id  department_id    aisle department  \n",
       "37          100             21  missing    missing  \n",
       "71          100             21  missing    missing  \n",
       "109         100             21  missing    missing  \n",
       "296         100             21  missing    missing  \n",
       "416         100             21  missing    missing  \n",
       "...         ...            ...      ...        ...  \n",
       "49552       100             21  missing    missing  \n",
       "49574       100             21  missing    missing  \n",
       "49640       100             21  missing    missing  \n",
       "49663       100             21  missing    missing  \n",
       "49668       100             21  missing    missing  \n",
       "\n",
       "[1258 rows x 6 columns]"
      ]
     },
     "execution_count": 17,
     "metadata": {},
     "output_type": "execute_result"
    }
   ],
   "source": [
    "products_desc[products_desc['aisle']=='missing']\n",
    "# It appears that 1258 products have 'missing' aisle 100 and department 21"
   ]
  },
  {
   "cell_type": "code",
   "execution_count": 18,
   "metadata": {},
   "outputs": [
    {
     "data": {
      "text/html": [
       "<div>\n",
       "<style scoped>\n",
       "    .dataframe tbody tr th:only-of-type {\n",
       "        vertical-align: middle;\n",
       "    }\n",
       "\n",
       "    .dataframe tbody tr th {\n",
       "        vertical-align: top;\n",
       "    }\n",
       "\n",
       "    .dataframe thead th {\n",
       "        text-align: right;\n",
       "    }\n",
       "</style>\n",
       "<table border=\"1\" class=\"dataframe\">\n",
       "  <thead>\n",
       "    <tr style=\"text-align: right;\">\n",
       "      <th></th>\n",
       "      <th>product_id</th>\n",
       "      <th>product_name</th>\n",
       "      <th>aisle_id</th>\n",
       "      <th>department_id</th>\n",
       "      <th>aisle</th>\n",
       "      <th>department</th>\n",
       "    </tr>\n",
       "  </thead>\n",
       "  <tbody>\n",
       "    <tr>\n",
       "      <th>0</th>\n",
       "      <td>1</td>\n",
       "      <td>Chocolate Sandwich Cookies</td>\n",
       "      <td>61</td>\n",
       "      <td>19</td>\n",
       "      <td>cookies cakes</td>\n",
       "      <td>snacks</td>\n",
       "    </tr>\n",
       "    <tr>\n",
       "      <th>15</th>\n",
       "      <td>16</td>\n",
       "      <td>Mint Chocolate Flavored Syrup</td>\n",
       "      <td>103</td>\n",
       "      <td>19</td>\n",
       "      <td>ice cream toppings</td>\n",
       "      <td>snacks</td>\n",
       "    </tr>\n",
       "    <tr>\n",
       "      <th>24</th>\n",
       "      <td>25</td>\n",
       "      <td>Salted Caramel Lean Protein &amp; Fiber Bar</td>\n",
       "      <td>3</td>\n",
       "      <td>19</td>\n",
       "      <td>energy granola bars</td>\n",
       "      <td>snacks</td>\n",
       "    </tr>\n",
       "    <tr>\n",
       "      <th>31</th>\n",
       "      <td>32</td>\n",
       "      <td>Nacho Cheese White Bean Chips</td>\n",
       "      <td>107</td>\n",
       "      <td>19</td>\n",
       "      <td>chips pretzels</td>\n",
       "      <td>snacks</td>\n",
       "    </tr>\n",
       "    <tr>\n",
       "      <th>40</th>\n",
       "      <td>41</td>\n",
       "      <td>Organic Sourdough Einkorn Crackers Rosemary</td>\n",
       "      <td>78</td>\n",
       "      <td>19</td>\n",
       "      <td>crackers</td>\n",
       "      <td>snacks</td>\n",
       "    </tr>\n",
       "    <tr>\n",
       "      <th>...</th>\n",
       "      <td>...</td>\n",
       "      <td>...</td>\n",
       "      <td>...</td>\n",
       "      <td>...</td>\n",
       "      <td>...</td>\n",
       "      <td>...</td>\n",
       "    </tr>\n",
       "    <tr>\n",
       "      <th>49661</th>\n",
       "      <td>49662</td>\n",
       "      <td>Bacon Cheddar Pretzel Pieces</td>\n",
       "      <td>107</td>\n",
       "      <td>19</td>\n",
       "      <td>chips pretzels</td>\n",
       "      <td>snacks</td>\n",
       "    </tr>\n",
       "    <tr>\n",
       "      <th>49664</th>\n",
       "      <td>49665</td>\n",
       "      <td>Super Dark Coconut Ash &amp; Banana Chocolate Bar</td>\n",
       "      <td>45</td>\n",
       "      <td>19</td>\n",
       "      <td>candy chocolate</td>\n",
       "      <td>snacks</td>\n",
       "    </tr>\n",
       "    <tr>\n",
       "      <th>49665</th>\n",
       "      <td>49666</td>\n",
       "      <td>Ginger Snaps Snacking Cookies</td>\n",
       "      <td>61</td>\n",
       "      <td>19</td>\n",
       "      <td>cookies cakes</td>\n",
       "      <td>snacks</td>\n",
       "    </tr>\n",
       "    <tr>\n",
       "      <th>49670</th>\n",
       "      <td>49671</td>\n",
       "      <td>Milk Chocolate Drops</td>\n",
       "      <td>45</td>\n",
       "      <td>19</td>\n",
       "      <td>candy chocolate</td>\n",
       "      <td>snacks</td>\n",
       "    </tr>\n",
       "    <tr>\n",
       "      <th>49678</th>\n",
       "      <td>49679</td>\n",
       "      <td>Famous Chocolate Wafers</td>\n",
       "      <td>61</td>\n",
       "      <td>19</td>\n",
       "      <td>cookies cakes</td>\n",
       "      <td>snacks</td>\n",
       "    </tr>\n",
       "  </tbody>\n",
       "</table>\n",
       "<p>6264 rows × 6 columns</p>\n",
       "</div>"
      ],
      "text/plain": [
       "       product_id                                   product_name  aisle_id  \\\n",
       "0               1                     Chocolate Sandwich Cookies        61   \n",
       "15             16                  Mint Chocolate Flavored Syrup       103   \n",
       "24             25        Salted Caramel Lean Protein & Fiber Bar         3   \n",
       "31             32                  Nacho Cheese White Bean Chips       107   \n",
       "40             41    Organic Sourdough Einkorn Crackers Rosemary        78   \n",
       "...           ...                                            ...       ...   \n",
       "49661       49662                   Bacon Cheddar Pretzel Pieces       107   \n",
       "49664       49665  Super Dark Coconut Ash & Banana Chocolate Bar        45   \n",
       "49665       49666                  Ginger Snaps Snacking Cookies        61   \n",
       "49670       49671                           Milk Chocolate Drops        45   \n",
       "49678       49679                        Famous Chocolate Wafers        61   \n",
       "\n",
       "       department_id                aisle department  \n",
       "0                 19        cookies cakes     snacks  \n",
       "15                19   ice cream toppings     snacks  \n",
       "24                19  energy granola bars     snacks  \n",
       "31                19       chips pretzels     snacks  \n",
       "40                19             crackers     snacks  \n",
       "...              ...                  ...        ...  \n",
       "49661             19       chips pretzels     snacks  \n",
       "49664             19      candy chocolate     snacks  \n",
       "49665             19        cookies cakes     snacks  \n",
       "49670             19      candy chocolate     snacks  \n",
       "49678             19        cookies cakes     snacks  \n",
       "\n",
       "[6264 rows x 6 columns]"
      ]
     },
     "execution_count": 18,
     "metadata": {},
     "output_type": "execute_result"
    }
   ],
   "source": [
    "# Just confirming the one to many relationship between department and aisle\n",
    "products_desc[products_desc['department']=='snacks']"
   ]
  },
  {
   "cell_type": "code",
   "execution_count": 19,
   "metadata": {
    "scrolled": true
   },
   "outputs": [
    {
     "data": {
      "text/html": [
       "<div>\n",
       "<style scoped>\n",
       "    .dataframe tbody tr th:only-of-type {\n",
       "        vertical-align: middle;\n",
       "    }\n",
       "\n",
       "    .dataframe tbody tr th {\n",
       "        vertical-align: top;\n",
       "    }\n",
       "\n",
       "    .dataframe thead th {\n",
       "        text-align: right;\n",
       "    }\n",
       "</style>\n",
       "<table border=\"1\" class=\"dataframe\">\n",
       "  <thead>\n",
       "    <tr style=\"text-align: right;\">\n",
       "      <th></th>\n",
       "      <th>product_id</th>\n",
       "      <th>product_name</th>\n",
       "      <th>aisle_id</th>\n",
       "      <th>department_id</th>\n",
       "      <th>aisle</th>\n",
       "      <th>department</th>\n",
       "    </tr>\n",
       "  </thead>\n",
       "  <tbody>\n",
       "    <tr>\n",
       "      <th>123</th>\n",
       "      <td>124</td>\n",
       "      <td>Sun Cups Dark Chocolate</td>\n",
       "      <td>45</td>\n",
       "      <td>19</td>\n",
       "      <td>candy chocolate</td>\n",
       "      <td>snacks</td>\n",
       "    </tr>\n",
       "    <tr>\n",
       "      <th>135</th>\n",
       "      <td>136</td>\n",
       "      <td>Simple</td>\n",
       "      <td>45</td>\n",
       "      <td>19</td>\n",
       "      <td>candy chocolate</td>\n",
       "      <td>snacks</td>\n",
       "    </tr>\n",
       "    <tr>\n",
       "      <th>183</th>\n",
       "      <td>184</td>\n",
       "      <td>Kisses Milk Chocolate Candy</td>\n",
       "      <td>45</td>\n",
       "      <td>19</td>\n",
       "      <td>candy chocolate</td>\n",
       "      <td>snacks</td>\n",
       "    </tr>\n",
       "    <tr>\n",
       "      <th>206</th>\n",
       "      <td>207</td>\n",
       "      <td>Minis Candy Bars</td>\n",
       "      <td>45</td>\n",
       "      <td>19</td>\n",
       "      <td>candy chocolate</td>\n",
       "      <td>snacks</td>\n",
       "    </tr>\n",
       "    <tr>\n",
       "      <th>226</th>\n",
       "      <td>227</td>\n",
       "      <td>Triple Chocolate Snack Size</td>\n",
       "      <td>45</td>\n",
       "      <td>19</td>\n",
       "      <td>candy chocolate</td>\n",
       "      <td>snacks</td>\n",
       "    </tr>\n",
       "    <tr>\n",
       "      <th>...</th>\n",
       "      <td>...</td>\n",
       "      <td>...</td>\n",
       "      <td>...</td>\n",
       "      <td>...</td>\n",
       "      <td>...</td>\n",
       "      <td>...</td>\n",
       "    </tr>\n",
       "    <tr>\n",
       "      <th>49503</th>\n",
       "      <td>49504</td>\n",
       "      <td>Dark Chocolate Peanut Butter Cups Miniatures</td>\n",
       "      <td>45</td>\n",
       "      <td>19</td>\n",
       "      <td>candy chocolate</td>\n",
       "      <td>snacks</td>\n",
       "    </tr>\n",
       "    <tr>\n",
       "      <th>49600</th>\n",
       "      <td>49601</td>\n",
       "      <td>Pomegranate Gummy Bears</td>\n",
       "      <td>45</td>\n",
       "      <td>19</td>\n",
       "      <td>candy chocolate</td>\n",
       "      <td>snacks</td>\n",
       "    </tr>\n",
       "    <tr>\n",
       "      <th>49619</th>\n",
       "      <td>49620</td>\n",
       "      <td>Milk Chocolate Mini's</td>\n",
       "      <td>45</td>\n",
       "      <td>19</td>\n",
       "      <td>candy chocolate</td>\n",
       "      <td>snacks</td>\n",
       "    </tr>\n",
       "    <tr>\n",
       "      <th>49664</th>\n",
       "      <td>49665</td>\n",
       "      <td>Super Dark Coconut Ash &amp; Banana Chocolate Bar</td>\n",
       "      <td>45</td>\n",
       "      <td>19</td>\n",
       "      <td>candy chocolate</td>\n",
       "      <td>snacks</td>\n",
       "    </tr>\n",
       "    <tr>\n",
       "      <th>49670</th>\n",
       "      <td>49671</td>\n",
       "      <td>Milk Chocolate Drops</td>\n",
       "      <td>45</td>\n",
       "      <td>19</td>\n",
       "      <td>candy chocolate</td>\n",
       "      <td>snacks</td>\n",
       "    </tr>\n",
       "  </tbody>\n",
       "</table>\n",
       "<p>1246 rows × 6 columns</p>\n",
       "</div>"
      ],
      "text/plain": [
       "       product_id                                   product_name  aisle_id  \\\n",
       "123           124                        Sun Cups Dark Chocolate        45   \n",
       "135           136                                         Simple        45   \n",
       "183           184                    Kisses Milk Chocolate Candy        45   \n",
       "206           207                               Minis Candy Bars        45   \n",
       "226           227                    Triple Chocolate Snack Size        45   \n",
       "...           ...                                            ...       ...   \n",
       "49503       49504   Dark Chocolate Peanut Butter Cups Miniatures        45   \n",
       "49600       49601                        Pomegranate Gummy Bears        45   \n",
       "49619       49620                          Milk Chocolate Mini's        45   \n",
       "49664       49665  Super Dark Coconut Ash & Banana Chocolate Bar        45   \n",
       "49670       49671                           Milk Chocolate Drops        45   \n",
       "\n",
       "       department_id            aisle department  \n",
       "123               19  candy chocolate     snacks  \n",
       "135               19  candy chocolate     snacks  \n",
       "183               19  candy chocolate     snacks  \n",
       "206               19  candy chocolate     snacks  \n",
       "226               19  candy chocolate     snacks  \n",
       "...              ...              ...        ...  \n",
       "49503             19  candy chocolate     snacks  \n",
       "49600             19  candy chocolate     snacks  \n",
       "49619             19  candy chocolate     snacks  \n",
       "49664             19  candy chocolate     snacks  \n",
       "49670             19  candy chocolate     snacks  \n",
       "\n",
       "[1246 rows x 6 columns]"
      ]
     },
     "execution_count": 19,
     "metadata": {},
     "output_type": "execute_result"
    }
   ],
   "source": [
    "# An aisle only belongs to one department\n",
    "products_desc[products_desc['aisle_id']==45]"
   ]
  },
  {
   "cell_type": "code",
   "execution_count": 5,
   "metadata": {},
   "outputs": [],
   "source": [
    "pickle.dump(products_desc, open(\"Pickle/products_desc.p\", \"wb\"))"
   ]
  },
  {
   "cell_type": "markdown",
   "metadata": {},
   "source": [
    "### Analyze Orders"
   ]
  },
  {
   "cell_type": "code",
   "execution_count": 21,
   "metadata": {},
   "outputs": [
    {
     "name": "stdout",
     "output_type": "stream",
     "text": [
      "3421083\n",
      "1\n",
      "3421083\n"
     ]
    }
   ],
   "source": [
    "print(len(orders))\n",
    "print(orders.order_id.min())\n",
    "print(orders.order_id.max())"
   ]
  },
  {
   "cell_type": "code",
   "execution_count": 22,
   "metadata": {},
   "outputs": [
    {
     "data": {
      "image/png": "[encoded data removed]",
      "text/plain": [
       "<Figure size 1008x504 with 1 Axes>"
      ]
     },
     "metadata": {
      "needs_background": "light"
     },
     "output_type": "display_data"
    }
   ],
   "source": [
    "plt.figure(figsize = (14,7))\n",
    "sns.countplot(x='order_hour_of_day', data= orders)\n",
    "plt.title('Number of Orders Taken by Hour of the Day.')\n",
    "plt.ylabel('Count')\n",
    "plt.xlabel('Hour')\n",
    "plt.savefig('Images/orders_by_hour.png');"
   ]
  },
  {
   "cell_type": "code",
   "execution_count": 23,
   "metadata": {},
   "outputs": [
    {
     "data": {
      "image/png": "[encoded data removed]",
      "text/plain": [
       "<Figure size 1008x504 with 1 Axes>"
      ]
     },
     "metadata": {
      "needs_background": "light"
     },
     "output_type": "display_data"
    }
   ],
   "source": [
    "plt.figure(figsize = (14,7))\n",
    "sns.countplot(x='order_dow', data= orders)\n",
    "plt.title('Number of Orders Taken by Day of the Week.')\n",
    "plt.ylabel('Count')\n",
    "plt.xlabel('Day')\n",
    "plt.savefig('Images/orders_by_dow.png');"
   ]
  },
  {
   "cell_type": "code",
   "execution_count": 24,
   "metadata": {},
   "outputs": [
    {
     "data": {
      "image/png": "[encoded data removed]",
      "text/plain": [
       "<Figure size 1008x504 with 1 Axes>"
      ]
     },
     "metadata": {
      "needs_background": "light"
     },
     "output_type": "display_data"
    }
   ],
   "source": [
    "plt.figure(figsize = (14,7))\n",
    "sns.countplot(x='days_since_prior_order', data= orders)\n",
    "plt.title('Days Since Prior Order')\n",
    "plt.ylabel('Count')\n",
    "plt.xlabel('Days')\n",
    "plt.savefig('Images/days_since_order.png');\n",
    "\n",
    "# Spikes at 7, 14, 21, and 28 indicate people who reorder weekly, or every 2 or three weeks but on the same day\n",
    "# Does 0.0 days mean someone ordered twice in the same day?\n",
    "# Surprising how many people order more than once a week\n",
    "# 30 does seem to indicate 30 or more days since last order"
   ]
  },
  {
   "cell_type": "code",
   "execution_count": 25,
   "metadata": {},
   "outputs": [
    {
     "data": {
      "text/html": [
       "<div>\n",
       "<style scoped>\n",
       "    .dataframe tbody tr th:only-of-type {\n",
       "        vertical-align: middle;\n",
       "    }\n",
       "\n",
       "    .dataframe tbody tr th {\n",
       "        vertical-align: top;\n",
       "    }\n",
       "\n",
       "    .dataframe thead th {\n",
       "        text-align: right;\n",
       "    }\n",
       "</style>\n",
       "<table border=\"1\" class=\"dataframe\">\n",
       "  <thead>\n",
       "    <tr style=\"text-align: right;\">\n",
       "      <th></th>\n",
       "      <th>order_id</th>\n",
       "      <th>user_id</th>\n",
       "      <th>eval_set</th>\n",
       "      <th>order_number</th>\n",
       "      <th>order_dow</th>\n",
       "      <th>order_hour_of_day</th>\n",
       "      <th>days_since_prior_order</th>\n",
       "    </tr>\n",
       "  </thead>\n",
       "  <tbody>\n",
       "    <tr>\n",
       "      <th>0</th>\n",
       "      <td>2539329</td>\n",
       "      <td>1</td>\n",
       "      <td>prior</td>\n",
       "      <td>1</td>\n",
       "      <td>2</td>\n",
       "      <td>8</td>\n",
       "      <td>NaN</td>\n",
       "    </tr>\n",
       "    <tr>\n",
       "      <th>1</th>\n",
       "      <td>2398795</td>\n",
       "      <td>1</td>\n",
       "      <td>prior</td>\n",
       "      <td>2</td>\n",
       "      <td>3</td>\n",
       "      <td>7</td>\n",
       "      <td>15.0</td>\n",
       "    </tr>\n",
       "    <tr>\n",
       "      <th>2</th>\n",
       "      <td>473747</td>\n",
       "      <td>1</td>\n",
       "      <td>prior</td>\n",
       "      <td>3</td>\n",
       "      <td>3</td>\n",
       "      <td>12</td>\n",
       "      <td>21.0</td>\n",
       "    </tr>\n",
       "    <tr>\n",
       "      <th>3</th>\n",
       "      <td>2254736</td>\n",
       "      <td>1</td>\n",
       "      <td>prior</td>\n",
       "      <td>4</td>\n",
       "      <td>4</td>\n",
       "      <td>7</td>\n",
       "      <td>29.0</td>\n",
       "    </tr>\n",
       "    <tr>\n",
       "      <th>4</th>\n",
       "      <td>431534</td>\n",
       "      <td>1</td>\n",
       "      <td>prior</td>\n",
       "      <td>5</td>\n",
       "      <td>4</td>\n",
       "      <td>15</td>\n",
       "      <td>28.0</td>\n",
       "    </tr>\n",
       "    <tr>\n",
       "      <th>5</th>\n",
       "      <td>3367565</td>\n",
       "      <td>1</td>\n",
       "      <td>prior</td>\n",
       "      <td>6</td>\n",
       "      <td>2</td>\n",
       "      <td>7</td>\n",
       "      <td>19.0</td>\n",
       "    </tr>\n",
       "    <tr>\n",
       "      <th>6</th>\n",
       "      <td>550135</td>\n",
       "      <td>1</td>\n",
       "      <td>prior</td>\n",
       "      <td>7</td>\n",
       "      <td>1</td>\n",
       "      <td>9</td>\n",
       "      <td>20.0</td>\n",
       "    </tr>\n",
       "    <tr>\n",
       "      <th>7</th>\n",
       "      <td>3108588</td>\n",
       "      <td>1</td>\n",
       "      <td>prior</td>\n",
       "      <td>8</td>\n",
       "      <td>1</td>\n",
       "      <td>14</td>\n",
       "      <td>14.0</td>\n",
       "    </tr>\n",
       "    <tr>\n",
       "      <th>8</th>\n",
       "      <td>2295261</td>\n",
       "      <td>1</td>\n",
       "      <td>prior</td>\n",
       "      <td>9</td>\n",
       "      <td>1</td>\n",
       "      <td>16</td>\n",
       "      <td>0.0</td>\n",
       "    </tr>\n",
       "    <tr>\n",
       "      <th>9</th>\n",
       "      <td>2550362</td>\n",
       "      <td>1</td>\n",
       "      <td>prior</td>\n",
       "      <td>10</td>\n",
       "      <td>4</td>\n",
       "      <td>8</td>\n",
       "      <td>30.0</td>\n",
       "    </tr>\n",
       "    <tr>\n",
       "      <th>10</th>\n",
       "      <td>1187899</td>\n",
       "      <td>1</td>\n",
       "      <td>train</td>\n",
       "      <td>11</td>\n",
       "      <td>4</td>\n",
       "      <td>8</td>\n",
       "      <td>14.0</td>\n",
       "    </tr>\n",
       "    <tr>\n",
       "      <th>11</th>\n",
       "      <td>2168274</td>\n",
       "      <td>2</td>\n",
       "      <td>prior</td>\n",
       "      <td>1</td>\n",
       "      <td>2</td>\n",
       "      <td>11</td>\n",
       "      <td>NaN</td>\n",
       "    </tr>\n",
       "    <tr>\n",
       "      <th>12</th>\n",
       "      <td>1501582</td>\n",
       "      <td>2</td>\n",
       "      <td>prior</td>\n",
       "      <td>2</td>\n",
       "      <td>5</td>\n",
       "      <td>10</td>\n",
       "      <td>10.0</td>\n",
       "    </tr>\n",
       "    <tr>\n",
       "      <th>13</th>\n",
       "      <td>1901567</td>\n",
       "      <td>2</td>\n",
       "      <td>prior</td>\n",
       "      <td>3</td>\n",
       "      <td>1</td>\n",
       "      <td>10</td>\n",
       "      <td>3.0</td>\n",
       "    </tr>\n",
       "    <tr>\n",
       "      <th>14</th>\n",
       "      <td>738281</td>\n",
       "      <td>2</td>\n",
       "      <td>prior</td>\n",
       "      <td>4</td>\n",
       "      <td>2</td>\n",
       "      <td>10</td>\n",
       "      <td>8.0</td>\n",
       "    </tr>\n",
       "  </tbody>\n",
       "</table>\n",
       "</div>"
      ],
      "text/plain": [
       "    order_id  user_id eval_set  order_number  order_dow  order_hour_of_day  \\\n",
       "0    2539329        1    prior             1          2                  8   \n",
       "1    2398795        1    prior             2          3                  7   \n",
       "2     473747        1    prior             3          3                 12   \n",
       "3    2254736        1    prior             4          4                  7   \n",
       "4     431534        1    prior             5          4                 15   \n",
       "5    3367565        1    prior             6          2                  7   \n",
       "6     550135        1    prior             7          1                  9   \n",
       "7    3108588        1    prior             8          1                 14   \n",
       "8    2295261        1    prior             9          1                 16   \n",
       "9    2550362        1    prior            10          4                  8   \n",
       "10   1187899        1    train            11          4                  8   \n",
       "11   2168274        2    prior             1          2                 11   \n",
       "12   1501582        2    prior             2          5                 10   \n",
       "13   1901567        2    prior             3          1                 10   \n",
       "14    738281        2    prior             4          2                 10   \n",
       "\n",
       "    days_since_prior_order  \n",
       "0                      NaN  \n",
       "1                     15.0  \n",
       "2                     21.0  \n",
       "3                     29.0  \n",
       "4                     28.0  \n",
       "5                     19.0  \n",
       "6                     20.0  \n",
       "7                     14.0  \n",
       "8                      0.0  \n",
       "9                     30.0  \n",
       "10                    14.0  \n",
       "11                     NaN  \n",
       "12                    10.0  \n",
       "13                     3.0  \n",
       "14                     8.0  "
      ]
     },
     "execution_count": 25,
     "metadata": {},
     "output_type": "execute_result"
    }
   ],
   "source": [
    "orders.head(15)\n",
    "# Appears to be sorted by user_id and then order_number\n",
    "# Most recent order_number per user_id is in the train(or test) set, others in prior\n",
    "# First order per user has NaN in days_since"
   ]
  },
  {
   "cell_type": "code",
   "execution_count": 26,
   "metadata": {
    "scrolled": false
   },
   "outputs": [
    {
     "data": {
      "text/html": [
       "<div>\n",
       "<style scoped>\n",
       "    .dataframe tbody tr th:only-of-type {\n",
       "        vertical-align: middle;\n",
       "    }\n",
       "\n",
       "    .dataframe tbody tr th {\n",
       "        vertical-align: top;\n",
       "    }\n",
       "\n",
       "    .dataframe thead th {\n",
       "        text-align: right;\n",
       "    }\n",
       "</style>\n",
       "<table border=\"1\" class=\"dataframe\">\n",
       "  <thead>\n",
       "    <tr style=\"text-align: right;\">\n",
       "      <th></th>\n",
       "      <th>order_id</th>\n",
       "      <th>user_id</th>\n",
       "      <th>eval_set</th>\n",
       "      <th>order_number</th>\n",
       "      <th>order_dow</th>\n",
       "      <th>order_hour_of_day</th>\n",
       "      <th>days_since_prior_order</th>\n",
       "    </tr>\n",
       "  </thead>\n",
       "  <tbody>\n",
       "    <tr>\n",
       "      <th>1868044</th>\n",
       "      <td>1</td>\n",
       "      <td>112108</td>\n",
       "      <td>train</td>\n",
       "      <td>4</td>\n",
       "      <td>4</td>\n",
       "      <td>10</td>\n",
       "      <td>9.0</td>\n",
       "    </tr>\n",
       "    <tr>\n",
       "      <th>3355525</th>\n",
       "      <td>2</td>\n",
       "      <td>202279</td>\n",
       "      <td>prior</td>\n",
       "      <td>3</td>\n",
       "      <td>5</td>\n",
       "      <td>9</td>\n",
       "      <td>8.0</td>\n",
       "    </tr>\n",
       "    <tr>\n",
       "      <th>3417191</th>\n",
       "      <td>3</td>\n",
       "      <td>205970</td>\n",
       "      <td>prior</td>\n",
       "      <td>16</td>\n",
       "      <td>5</td>\n",
       "      <td>17</td>\n",
       "      <td>12.0</td>\n",
       "    </tr>\n",
       "    <tr>\n",
       "      <th>2958007</th>\n",
       "      <td>4</td>\n",
       "      <td>178520</td>\n",
       "      <td>prior</td>\n",
       "      <td>36</td>\n",
       "      <td>1</td>\n",
       "      <td>9</td>\n",
       "      <td>7.0</td>\n",
       "    </tr>\n",
       "    <tr>\n",
       "      <th>2593373</th>\n",
       "      <td>5</td>\n",
       "      <td>156122</td>\n",
       "      <td>prior</td>\n",
       "      <td>42</td>\n",
       "      <td>6</td>\n",
       "      <td>16</td>\n",
       "      <td>9.0</td>\n",
       "    </tr>\n",
       "    <tr>\n",
       "      <th>...</th>\n",
       "      <td>...</td>\n",
       "      <td>...</td>\n",
       "      <td>...</td>\n",
       "      <td>...</td>\n",
       "      <td>...</td>\n",
       "      <td>...</td>\n",
       "      <td>...</td>\n",
       "    </tr>\n",
       "    <tr>\n",
       "      <th>1809968</th>\n",
       "      <td>3421079</td>\n",
       "      <td>108687</td>\n",
       "      <td>prior</td>\n",
       "      <td>6</td>\n",
       "      <td>1</td>\n",
       "      <td>13</td>\n",
       "      <td>0.0</td>\n",
       "    </tr>\n",
       "    <tr>\n",
       "      <th>877324</th>\n",
       "      <td>3421080</td>\n",
       "      <td>52726</td>\n",
       "      <td>prior</td>\n",
       "      <td>2</td>\n",
       "      <td>1</td>\n",
       "      <td>11</td>\n",
       "      <td>2.0</td>\n",
       "    </tr>\n",
       "    <tr>\n",
       "      <th>1949724</th>\n",
       "      <td>3421081</td>\n",
       "      <td>117076</td>\n",
       "      <td>prior</td>\n",
       "      <td>1</td>\n",
       "      <td>3</td>\n",
       "      <td>11</td>\n",
       "      <td>NaN</td>\n",
       "    </tr>\n",
       "    <tr>\n",
       "      <th>2903252</th>\n",
       "      <td>3421082</td>\n",
       "      <td>175185</td>\n",
       "      <td>prior</td>\n",
       "      <td>23</td>\n",
       "      <td>2</td>\n",
       "      <td>18</td>\n",
       "      <td>4.0</td>\n",
       "    </tr>\n",
       "    <tr>\n",
       "      <th>419472</th>\n",
       "      <td>3421083</td>\n",
       "      <td>25247</td>\n",
       "      <td>prior</td>\n",
       "      <td>24</td>\n",
       "      <td>2</td>\n",
       "      <td>6</td>\n",
       "      <td>21.0</td>\n",
       "    </tr>\n",
       "  </tbody>\n",
       "</table>\n",
       "<p>3421083 rows × 7 columns</p>\n",
       "</div>"
      ],
      "text/plain": [
       "         order_id  user_id eval_set  order_number  order_dow  \\\n",
       "1868044         1   112108    train             4          4   \n",
       "3355525         2   202279    prior             3          5   \n",
       "3417191         3   205970    prior            16          5   \n",
       "2958007         4   178520    prior            36          1   \n",
       "2593373         5   156122    prior            42          6   \n",
       "...           ...      ...      ...           ...        ...   \n",
       "1809968   3421079   108687    prior             6          1   \n",
       "877324    3421080    52726    prior             2          1   \n",
       "1949724   3421081   117076    prior             1          3   \n",
       "2903252   3421082   175185    prior            23          2   \n",
       "419472    3421083    25247    prior            24          2   \n",
       "\n",
       "         order_hour_of_day  days_since_prior_order  \n",
       "1868044                 10                     9.0  \n",
       "3355525                  9                     8.0  \n",
       "3417191                 17                    12.0  \n",
       "2958007                  9                     7.0  \n",
       "2593373                 16                     9.0  \n",
       "...                    ...                     ...  \n",
       "1809968                 13                     0.0  \n",
       "877324                  11                     2.0  \n",
       "1949724                 11                     NaN  \n",
       "2903252                 18                     4.0  \n",
       "419472                   6                    21.0  \n",
       "\n",
       "[3421083 rows x 7 columns]"
      ]
     },
     "execution_count": 26,
     "metadata": {},
     "output_type": "execute_result"
    }
   ],
   "source": [
    "orders.sort_values('order_id') # Just checking that it has all the order_ids starting at 1"
   ]
  },
  {
   "cell_type": "code",
   "execution_count": 27,
   "metadata": {
    "scrolled": false
   },
   "outputs": [
    {
     "data": {
      "text/html": [
       "<div>\n",
       "<style scoped>\n",
       "    .dataframe tbody tr th:only-of-type {\n",
       "        vertical-align: middle;\n",
       "    }\n",
       "\n",
       "    .dataframe tbody tr th {\n",
       "        vertical-align: top;\n",
       "    }\n",
       "\n",
       "    .dataframe thead th {\n",
       "        text-align: right;\n",
       "    }\n",
       "</style>\n",
       "<table border=\"1\" class=\"dataframe\">\n",
       "  <thead>\n",
       "    <tr style=\"text-align: right;\">\n",
       "      <th></th>\n",
       "      <th>order_id</th>\n",
       "      <th>user_id</th>\n",
       "      <th>eval_set</th>\n",
       "      <th>order_number</th>\n",
       "      <th>order_dow</th>\n",
       "      <th>order_hour_of_day</th>\n",
       "      <th>days_since_prior_order</th>\n",
       "    </tr>\n",
       "  </thead>\n",
       "  <tbody>\n",
       "    <tr>\n",
       "      <th>38</th>\n",
       "      <td>2774568</td>\n",
       "      <td>3</td>\n",
       "      <td>test</td>\n",
       "      <td>13</td>\n",
       "      <td>5</td>\n",
       "      <td>15</td>\n",
       "      <td>11.0</td>\n",
       "    </tr>\n",
       "    <tr>\n",
       "      <th>44</th>\n",
       "      <td>329954</td>\n",
       "      <td>4</td>\n",
       "      <td>test</td>\n",
       "      <td>6</td>\n",
       "      <td>3</td>\n",
       "      <td>12</td>\n",
       "      <td>30.0</td>\n",
       "    </tr>\n",
       "    <tr>\n",
       "      <th>53</th>\n",
       "      <td>1528013</td>\n",
       "      <td>6</td>\n",
       "      <td>test</td>\n",
       "      <td>4</td>\n",
       "      <td>3</td>\n",
       "      <td>16</td>\n",
       "      <td>22.0</td>\n",
       "    </tr>\n",
       "    <tr>\n",
       "      <th>96</th>\n",
       "      <td>1376945</td>\n",
       "      <td>11</td>\n",
       "      <td>test</td>\n",
       "      <td>8</td>\n",
       "      <td>6</td>\n",
       "      <td>11</td>\n",
       "      <td>8.0</td>\n",
       "    </tr>\n",
       "    <tr>\n",
       "      <th>102</th>\n",
       "      <td>1356845</td>\n",
       "      <td>12</td>\n",
       "      <td>test</td>\n",
       "      <td>6</td>\n",
       "      <td>1</td>\n",
       "      <td>20</td>\n",
       "      <td>30.0</td>\n",
       "    </tr>\n",
       "    <tr>\n",
       "      <th>...</th>\n",
       "      <td>...</td>\n",
       "      <td>...</td>\n",
       "      <td>...</td>\n",
       "      <td>...</td>\n",
       "      <td>...</td>\n",
       "      <td>...</td>\n",
       "      <td>...</td>\n",
       "    </tr>\n",
       "    <tr>\n",
       "      <th>3420918</th>\n",
       "      <td>2728930</td>\n",
       "      <td>206202</td>\n",
       "      <td>test</td>\n",
       "      <td>23</td>\n",
       "      <td>2</td>\n",
       "      <td>17</td>\n",
       "      <td>6.0</td>\n",
       "    </tr>\n",
       "    <tr>\n",
       "      <th>3420929</th>\n",
       "      <td>350108</td>\n",
       "      <td>206204</td>\n",
       "      <td>test</td>\n",
       "      <td>5</td>\n",
       "      <td>4</td>\n",
       "      <td>14</td>\n",
       "      <td>14.0</td>\n",
       "    </tr>\n",
       "    <tr>\n",
       "      <th>3421001</th>\n",
       "      <td>1043943</td>\n",
       "      <td>206206</td>\n",
       "      <td>test</td>\n",
       "      <td>68</td>\n",
       "      <td>0</td>\n",
       "      <td>20</td>\n",
       "      <td>0.0</td>\n",
       "    </tr>\n",
       "    <tr>\n",
       "      <th>3421018</th>\n",
       "      <td>2821651</td>\n",
       "      <td>206207</td>\n",
       "      <td>test</td>\n",
       "      <td>17</td>\n",
       "      <td>2</td>\n",
       "      <td>13</td>\n",
       "      <td>14.0</td>\n",
       "    </tr>\n",
       "    <tr>\n",
       "      <th>3421068</th>\n",
       "      <td>803273</td>\n",
       "      <td>206208</td>\n",
       "      <td>test</td>\n",
       "      <td>50</td>\n",
       "      <td>5</td>\n",
       "      <td>11</td>\n",
       "      <td>4.0</td>\n",
       "    </tr>\n",
       "  </tbody>\n",
       "</table>\n",
       "<p>75000 rows × 7 columns</p>\n",
       "</div>"
      ],
      "text/plain": [
       "         order_id  user_id eval_set  order_number  order_dow  \\\n",
       "38        2774568        3     test            13          5   \n",
       "44         329954        4     test             6          3   \n",
       "53        1528013        6     test             4          3   \n",
       "96        1376945       11     test             8          6   \n",
       "102       1356845       12     test             6          1   \n",
       "...           ...      ...      ...           ...        ...   \n",
       "3420918   2728930   206202     test            23          2   \n",
       "3420929    350108   206204     test             5          4   \n",
       "3421001   1043943   206206     test            68          0   \n",
       "3421018   2821651   206207     test            17          2   \n",
       "3421068    803273   206208     test            50          5   \n",
       "\n",
       "         order_hour_of_day  days_since_prior_order  \n",
       "38                      15                    11.0  \n",
       "44                      12                    30.0  \n",
       "53                      16                    22.0  \n",
       "96                      11                     8.0  \n",
       "102                     20                    30.0  \n",
       "...                    ...                     ...  \n",
       "3420918                 17                     6.0  \n",
       "3420929                 14                    14.0  \n",
       "3421001                 20                     0.0  \n",
       "3421018                 13                    14.0  \n",
       "3421068                 11                     4.0  \n",
       "\n",
       "[75000 rows x 7 columns]"
      ]
     },
     "execution_count": 27,
     "metadata": {},
     "output_type": "execute_result"
    }
   ],
   "source": [
    "orders_test = orders[orders['eval_set']=='test'] # 75000 orders in our test set\n",
    "# So basically for these test orders, I don't have the answers.  I don't know what products were ordered.\n",
    "# If I do market basket analysis I will get to these\n",
    "orders_test"
   ]
  },
  {
   "cell_type": "code",
   "execution_count": 28,
   "metadata": {},
   "outputs": [
    {
     "data": {
      "text/html": [
       "<div>\n",
       "<style scoped>\n",
       "    .dataframe tbody tr th:only-of-type {\n",
       "        vertical-align: middle;\n",
       "    }\n",
       "\n",
       "    .dataframe tbody tr th {\n",
       "        vertical-align: top;\n",
       "    }\n",
       "\n",
       "    .dataframe thead th {\n",
       "        text-align: right;\n",
       "    }\n",
       "</style>\n",
       "<table border=\"1\" class=\"dataframe\">\n",
       "  <thead>\n",
       "    <tr style=\"text-align: right;\">\n",
       "      <th></th>\n",
       "      <th>order_id</th>\n",
       "      <th>user_id</th>\n",
       "      <th>eval_set</th>\n",
       "      <th>order_number</th>\n",
       "      <th>order_dow</th>\n",
       "      <th>order_hour_of_day</th>\n",
       "      <th>days_since_prior_order</th>\n",
       "    </tr>\n",
       "  </thead>\n",
       "  <tbody>\n",
       "    <tr>\n",
       "      <th>26</th>\n",
       "      <td>1374495</td>\n",
       "      <td>3</td>\n",
       "      <td>prior</td>\n",
       "      <td>1</td>\n",
       "      <td>1</td>\n",
       "      <td>14</td>\n",
       "      <td>NaN</td>\n",
       "    </tr>\n",
       "    <tr>\n",
       "      <th>27</th>\n",
       "      <td>444309</td>\n",
       "      <td>3</td>\n",
       "      <td>prior</td>\n",
       "      <td>2</td>\n",
       "      <td>3</td>\n",
       "      <td>19</td>\n",
       "      <td>9.0</td>\n",
       "    </tr>\n",
       "    <tr>\n",
       "      <th>28</th>\n",
       "      <td>3002854</td>\n",
       "      <td>3</td>\n",
       "      <td>prior</td>\n",
       "      <td>3</td>\n",
       "      <td>3</td>\n",
       "      <td>16</td>\n",
       "      <td>21.0</td>\n",
       "    </tr>\n",
       "    <tr>\n",
       "      <th>29</th>\n",
       "      <td>2037211</td>\n",
       "      <td>3</td>\n",
       "      <td>prior</td>\n",
       "      <td>4</td>\n",
       "      <td>2</td>\n",
       "      <td>18</td>\n",
       "      <td>20.0</td>\n",
       "    </tr>\n",
       "    <tr>\n",
       "      <th>30</th>\n",
       "      <td>2710558</td>\n",
       "      <td>3</td>\n",
       "      <td>prior</td>\n",
       "      <td>5</td>\n",
       "      <td>0</td>\n",
       "      <td>17</td>\n",
       "      <td>12.0</td>\n",
       "    </tr>\n",
       "    <tr>\n",
       "      <th>31</th>\n",
       "      <td>1972919</td>\n",
       "      <td>3</td>\n",
       "      <td>prior</td>\n",
       "      <td>6</td>\n",
       "      <td>0</td>\n",
       "      <td>16</td>\n",
       "      <td>7.0</td>\n",
       "    </tr>\n",
       "    <tr>\n",
       "      <th>32</th>\n",
       "      <td>1839752</td>\n",
       "      <td>3</td>\n",
       "      <td>prior</td>\n",
       "      <td>7</td>\n",
       "      <td>0</td>\n",
       "      <td>15</td>\n",
       "      <td>7.0</td>\n",
       "    </tr>\n",
       "    <tr>\n",
       "      <th>33</th>\n",
       "      <td>3225766</td>\n",
       "      <td>3</td>\n",
       "      <td>prior</td>\n",
       "      <td>8</td>\n",
       "      <td>0</td>\n",
       "      <td>17</td>\n",
       "      <td>7.0</td>\n",
       "    </tr>\n",
       "    <tr>\n",
       "      <th>34</th>\n",
       "      <td>3160850</td>\n",
       "      <td>3</td>\n",
       "      <td>prior</td>\n",
       "      <td>9</td>\n",
       "      <td>0</td>\n",
       "      <td>16</td>\n",
       "      <td>7.0</td>\n",
       "    </tr>\n",
       "    <tr>\n",
       "      <th>35</th>\n",
       "      <td>676467</td>\n",
       "      <td>3</td>\n",
       "      <td>prior</td>\n",
       "      <td>10</td>\n",
       "      <td>3</td>\n",
       "      <td>16</td>\n",
       "      <td>17.0</td>\n",
       "    </tr>\n",
       "    <tr>\n",
       "      <th>36</th>\n",
       "      <td>521107</td>\n",
       "      <td>3</td>\n",
       "      <td>prior</td>\n",
       "      <td>11</td>\n",
       "      <td>0</td>\n",
       "      <td>18</td>\n",
       "      <td>11.0</td>\n",
       "    </tr>\n",
       "    <tr>\n",
       "      <th>37</th>\n",
       "      <td>1402502</td>\n",
       "      <td>3</td>\n",
       "      <td>prior</td>\n",
       "      <td>12</td>\n",
       "      <td>1</td>\n",
       "      <td>15</td>\n",
       "      <td>15.0</td>\n",
       "    </tr>\n",
       "    <tr>\n",
       "      <th>38</th>\n",
       "      <td>2774568</td>\n",
       "      <td>3</td>\n",
       "      <td>test</td>\n",
       "      <td>13</td>\n",
       "      <td>5</td>\n",
       "      <td>15</td>\n",
       "      <td>11.0</td>\n",
       "    </tr>\n",
       "  </tbody>\n",
       "</table>\n",
       "</div>"
      ],
      "text/plain": [
       "    order_id  user_id eval_set  order_number  order_dow  order_hour_of_day  \\\n",
       "26   1374495        3    prior             1          1                 14   \n",
       "27    444309        3    prior             2          3                 19   \n",
       "28   3002854        3    prior             3          3                 16   \n",
       "29   2037211        3    prior             4          2                 18   \n",
       "30   2710558        3    prior             5          0                 17   \n",
       "31   1972919        3    prior             6          0                 16   \n",
       "32   1839752        3    prior             7          0                 15   \n",
       "33   3225766        3    prior             8          0                 17   \n",
       "34   3160850        3    prior             9          0                 16   \n",
       "35    676467        3    prior            10          3                 16   \n",
       "36    521107        3    prior            11          0                 18   \n",
       "37   1402502        3    prior            12          1                 15   \n",
       "38   2774568        3     test            13          5                 15   \n",
       "\n",
       "    days_since_prior_order  \n",
       "26                     NaN  \n",
       "27                     9.0  \n",
       "28                    21.0  \n",
       "29                    20.0  \n",
       "30                    12.0  \n",
       "31                     7.0  \n",
       "32                     7.0  \n",
       "33                     7.0  \n",
       "34                     7.0  \n",
       "35                    17.0  \n",
       "36                    11.0  \n",
       "37                    15.0  \n",
       "38                    11.0  "
      ]
     },
     "execution_count": 28,
     "metadata": {},
     "output_type": "execute_result"
    }
   ],
   "source": [
    "orders[orders['user_id']==3] # But I have all of this user's order/products in prior"
   ]
  },
  {
   "cell_type": "markdown",
   "metadata": {},
   "source": [
    "### Analyze Order_products_train and _prior"
   ]
  },
  {
   "cell_type": "code",
   "execution_count": 29,
   "metadata": {},
   "outputs": [
    {
     "data": {
      "text/html": [
       "<div>\n",
       "<style scoped>\n",
       "    .dataframe tbody tr th:only-of-type {\n",
       "        vertical-align: middle;\n",
       "    }\n",
       "\n",
       "    .dataframe tbody tr th {\n",
       "        vertical-align: top;\n",
       "    }\n",
       "\n",
       "    .dataframe thead th {\n",
       "        text-align: right;\n",
       "    }\n",
       "</style>\n",
       "<table border=\"1\" class=\"dataframe\">\n",
       "  <thead>\n",
       "    <tr style=\"text-align: right;\">\n",
       "      <th></th>\n",
       "      <th>order_id</th>\n",
       "      <th>product_id</th>\n",
       "      <th>add_to_cart_order</th>\n",
       "      <th>reordered</th>\n",
       "    </tr>\n",
       "  </thead>\n",
       "  <tbody>\n",
       "    <tr>\n",
       "      <th>0</th>\n",
       "      <td>1</td>\n",
       "      <td>49302</td>\n",
       "      <td>1</td>\n",
       "      <td>1</td>\n",
       "    </tr>\n",
       "    <tr>\n",
       "      <th>1</th>\n",
       "      <td>1</td>\n",
       "      <td>11109</td>\n",
       "      <td>2</td>\n",
       "      <td>1</td>\n",
       "    </tr>\n",
       "    <tr>\n",
       "      <th>2</th>\n",
       "      <td>1</td>\n",
       "      <td>10246</td>\n",
       "      <td>3</td>\n",
       "      <td>0</td>\n",
       "    </tr>\n",
       "    <tr>\n",
       "      <th>3</th>\n",
       "      <td>1</td>\n",
       "      <td>49683</td>\n",
       "      <td>4</td>\n",
       "      <td>0</td>\n",
       "    </tr>\n",
       "    <tr>\n",
       "      <th>4</th>\n",
       "      <td>1</td>\n",
       "      <td>43633</td>\n",
       "      <td>5</td>\n",
       "      <td>1</td>\n",
       "    </tr>\n",
       "  </tbody>\n",
       "</table>\n",
       "</div>"
      ],
      "text/plain": [
       "   order_id  product_id  add_to_cart_order  reordered\n",
       "0         1       49302                  1          1\n",
       "1         1       11109                  2          1\n",
       "2         1       10246                  3          0\n",
       "3         1       49683                  4          0\n",
       "4         1       43633                  5          1"
      ]
     },
     "execution_count": 29,
     "metadata": {},
     "output_type": "execute_result"
    }
   ],
   "source": [
    "order_products_train.head()"
   ]
  },
  {
   "cell_type": "code",
   "execution_count": 30,
   "metadata": {},
   "outputs": [
    {
     "name": "stdout",
     "output_type": "stream",
     "text": [
      "1384617\n",
      "1\n",
      "3421070\n",
      "131209\n"
     ]
    }
   ],
   "source": [
    "print(len(order_products_train)) # Has 1,384,617 order/products\n",
    "print(order_products_train.order_id.min()) # starts with order number 1\n",
    "print(order_products_train.order_id.max())\n",
    "print(order_products_train.order_id.nunique()) # Has 131,209 unique orders"
   ]
  },
  {
   "cell_type": "code",
   "execution_count": 31,
   "metadata": {},
   "outputs": [
    {
     "data": {
      "text/html": [
       "<div>\n",
       "<style scoped>\n",
       "    .dataframe tbody tr th:only-of-type {\n",
       "        vertical-align: middle;\n",
       "    }\n",
       "\n",
       "    .dataframe tbody tr th {\n",
       "        vertical-align: top;\n",
       "    }\n",
       "\n",
       "    .dataframe thead th {\n",
       "        text-align: right;\n",
       "    }\n",
       "</style>\n",
       "<table border=\"1\" class=\"dataframe\">\n",
       "  <thead>\n",
       "    <tr style=\"text-align: right;\">\n",
       "      <th></th>\n",
       "      <th>order_id</th>\n",
       "      <th>product_id</th>\n",
       "      <th>add_to_cart_order</th>\n",
       "      <th>reordered</th>\n",
       "    </tr>\n",
       "  </thead>\n",
       "  <tbody>\n",
       "    <tr>\n",
       "      <th>0</th>\n",
       "      <td>2</td>\n",
       "      <td>33120</td>\n",
       "      <td>1</td>\n",
       "      <td>1</td>\n",
       "    </tr>\n",
       "    <tr>\n",
       "      <th>1</th>\n",
       "      <td>2</td>\n",
       "      <td>28985</td>\n",
       "      <td>2</td>\n",
       "      <td>1</td>\n",
       "    </tr>\n",
       "    <tr>\n",
       "      <th>2</th>\n",
       "      <td>2</td>\n",
       "      <td>9327</td>\n",
       "      <td>3</td>\n",
       "      <td>0</td>\n",
       "    </tr>\n",
       "    <tr>\n",
       "      <th>3</th>\n",
       "      <td>2</td>\n",
       "      <td>45918</td>\n",
       "      <td>4</td>\n",
       "      <td>1</td>\n",
       "    </tr>\n",
       "    <tr>\n",
       "      <th>4</th>\n",
       "      <td>2</td>\n",
       "      <td>30035</td>\n",
       "      <td>5</td>\n",
       "      <td>0</td>\n",
       "    </tr>\n",
       "  </tbody>\n",
       "</table>\n",
       "</div>"
      ],
      "text/plain": [
       "   order_id  product_id  add_to_cart_order  reordered\n",
       "0         2       33120                  1          1\n",
       "1         2       28985                  2          1\n",
       "2         2        9327                  3          0\n",
       "3         2       45918                  4          1\n",
       "4         2       30035                  5          0"
      ]
     },
     "execution_count": 31,
     "metadata": {},
     "output_type": "execute_result"
    }
   ],
   "source": [
    "order_products_prior.head()"
   ]
  },
  {
   "cell_type": "code",
   "execution_count": 32,
   "metadata": {},
   "outputs": [
    {
     "name": "stdout",
     "output_type": "stream",
     "text": [
      "32434489\n",
      "2\n",
      "3421083\n",
      "3214874\n"
     ]
    }
   ],
   "source": [
    "print(len(order_products_prior)) # Has 32,434,489 order/products\n",
    "print(order_products_prior.order_id.min()) # starts with order number 2\n",
    "print(order_products_prior.order_id.max())\n",
    "print(order_products_prior.order_id.nunique()) # Has 3,214,874 unique orders"
   ]
  },
  {
   "cell_type": "code",
   "execution_count": 33,
   "metadata": {},
   "outputs": [
    {
     "data": {
      "text/html": [
       "<div>\n",
       "<style scoped>\n",
       "    .dataframe tbody tr th:only-of-type {\n",
       "        vertical-align: middle;\n",
       "    }\n",
       "\n",
       "    .dataframe tbody tr th {\n",
       "        vertical-align: top;\n",
       "    }\n",
       "\n",
       "    .dataframe thead th {\n",
       "        text-align: right;\n",
       "    }\n",
       "</style>\n",
       "<table border=\"1\" class=\"dataframe\">\n",
       "  <thead>\n",
       "    <tr style=\"text-align: right;\">\n",
       "      <th></th>\n",
       "      <th>order_id</th>\n",
       "      <th>product_id</th>\n",
       "      <th>add_to_cart_order</th>\n",
       "      <th>reordered</th>\n",
       "    </tr>\n",
       "  </thead>\n",
       "  <tbody>\n",
       "    <tr>\n",
       "      <th>0</th>\n",
       "      <td>2</td>\n",
       "      <td>33120</td>\n",
       "      <td>1</td>\n",
       "      <td>1</td>\n",
       "    </tr>\n",
       "    <tr>\n",
       "      <th>1</th>\n",
       "      <td>2</td>\n",
       "      <td>28985</td>\n",
       "      <td>2</td>\n",
       "      <td>1</td>\n",
       "    </tr>\n",
       "    <tr>\n",
       "      <th>2</th>\n",
       "      <td>2</td>\n",
       "      <td>9327</td>\n",
       "      <td>3</td>\n",
       "      <td>0</td>\n",
       "    </tr>\n",
       "    <tr>\n",
       "      <th>3</th>\n",
       "      <td>2</td>\n",
       "      <td>45918</td>\n",
       "      <td>4</td>\n",
       "      <td>1</td>\n",
       "    </tr>\n",
       "    <tr>\n",
       "      <th>4</th>\n",
       "      <td>2</td>\n",
       "      <td>30035</td>\n",
       "      <td>5</td>\n",
       "      <td>0</td>\n",
       "    </tr>\n",
       "    <tr>\n",
       "      <th>5</th>\n",
       "      <td>2</td>\n",
       "      <td>17794</td>\n",
       "      <td>6</td>\n",
       "      <td>1</td>\n",
       "    </tr>\n",
       "    <tr>\n",
       "      <th>6</th>\n",
       "      <td>2</td>\n",
       "      <td>40141</td>\n",
       "      <td>7</td>\n",
       "      <td>1</td>\n",
       "    </tr>\n",
       "    <tr>\n",
       "      <th>7</th>\n",
       "      <td>2</td>\n",
       "      <td>1819</td>\n",
       "      <td>8</td>\n",
       "      <td>1</td>\n",
       "    </tr>\n",
       "    <tr>\n",
       "      <th>8</th>\n",
       "      <td>2</td>\n",
       "      <td>43668</td>\n",
       "      <td>9</td>\n",
       "      <td>0</td>\n",
       "    </tr>\n",
       "  </tbody>\n",
       "</table>\n",
       "</div>"
      ],
      "text/plain": [
       "   order_id  product_id  add_to_cart_order  reordered\n",
       "0         2       33120                  1          1\n",
       "1         2       28985                  2          1\n",
       "2         2        9327                  3          0\n",
       "3         2       45918                  4          1\n",
       "4         2       30035                  5          0\n",
       "5         2       17794                  6          1\n",
       "6         2       40141                  7          1\n",
       "7         2        1819                  8          1\n",
       "8         2       43668                  9          0"
      ]
     },
     "execution_count": 33,
     "metadata": {},
     "output_type": "execute_result"
    }
   ],
   "source": [
    "order_products_prior[order_products_prior.order_id == 2]"
   ]
  },
  {
   "cell_type": "code",
   "execution_count": 34,
   "metadata": {},
   "outputs": [
    {
     "data": {
      "text/html": [
       "<div>\n",
       "<style scoped>\n",
       "    .dataframe tbody tr th:only-of-type {\n",
       "        vertical-align: middle;\n",
       "    }\n",
       "\n",
       "    .dataframe tbody tr th {\n",
       "        vertical-align: top;\n",
       "    }\n",
       "\n",
       "    .dataframe thead th {\n",
       "        text-align: right;\n",
       "    }\n",
       "</style>\n",
       "<table border=\"1\" class=\"dataframe\">\n",
       "  <thead>\n",
       "    <tr style=\"text-align: right;\">\n",
       "      <th></th>\n",
       "      <th>order_id</th>\n",
       "      <th>user_id</th>\n",
       "      <th>eval_set</th>\n",
       "      <th>order_number</th>\n",
       "      <th>order_dow</th>\n",
       "      <th>order_hour_of_day</th>\n",
       "      <th>days_since_prior_order</th>\n",
       "    </tr>\n",
       "  </thead>\n",
       "  <tbody>\n",
       "    <tr>\n",
       "      <th>3355525</th>\n",
       "      <td>2</td>\n",
       "      <td>202279</td>\n",
       "      <td>prior</td>\n",
       "      <td>3</td>\n",
       "      <td>5</td>\n",
       "      <td>9</td>\n",
       "      <td>8.0</td>\n",
       "    </tr>\n",
       "  </tbody>\n",
       "</table>\n",
       "</div>"
      ],
      "text/plain": [
       "         order_id  user_id eval_set  order_number  order_dow  \\\n",
       "3355525         2   202279    prior             3          5   \n",
       "\n",
       "         order_hour_of_day  days_since_prior_order  \n",
       "3355525                  9                     8.0  "
      ]
     },
     "execution_count": 34,
     "metadata": {},
     "output_type": "execute_result"
    }
   ],
   "source": [
    "orders[orders.order_id == 2]"
   ]
  },
  {
   "cell_type": "code",
   "execution_count": 35,
   "metadata": {},
   "outputs": [
    {
     "data": {
      "text/html": [
       "<div>\n",
       "<style scoped>\n",
       "    .dataframe tbody tr th:only-of-type {\n",
       "        vertical-align: middle;\n",
       "    }\n",
       "\n",
       "    .dataframe tbody tr th {\n",
       "        vertical-align: top;\n",
       "    }\n",
       "\n",
       "    .dataframe thead th {\n",
       "        text-align: right;\n",
       "    }\n",
       "</style>\n",
       "<table border=\"1\" class=\"dataframe\">\n",
       "  <thead>\n",
       "    <tr style=\"text-align: right;\">\n",
       "      <th></th>\n",
       "      <th>order_id</th>\n",
       "      <th>user_id</th>\n",
       "      <th>eval_set</th>\n",
       "      <th>order_number</th>\n",
       "      <th>order_dow</th>\n",
       "      <th>order_hour_of_day</th>\n",
       "      <th>days_since_prior_order</th>\n",
       "    </tr>\n",
       "  </thead>\n",
       "  <tbody>\n",
       "    <tr>\n",
       "      <th>3355523</th>\n",
       "      <td>2894949</td>\n",
       "      <td>202279</td>\n",
       "      <td>prior</td>\n",
       "      <td>1</td>\n",
       "      <td>5</td>\n",
       "      <td>9</td>\n",
       "      <td>NaN</td>\n",
       "    </tr>\n",
       "    <tr>\n",
       "      <th>3355524</th>\n",
       "      <td>1500071</td>\n",
       "      <td>202279</td>\n",
       "      <td>prior</td>\n",
       "      <td>2</td>\n",
       "      <td>4</td>\n",
       "      <td>13</td>\n",
       "      <td>20.0</td>\n",
       "    </tr>\n",
       "    <tr>\n",
       "      <th>3355525</th>\n",
       "      <td>2</td>\n",
       "      <td>202279</td>\n",
       "      <td>prior</td>\n",
       "      <td>3</td>\n",
       "      <td>5</td>\n",
       "      <td>9</td>\n",
       "      <td>8.0</td>\n",
       "    </tr>\n",
       "    <tr>\n",
       "      <th>3355526</th>\n",
       "      <td>3058248</td>\n",
       "      <td>202279</td>\n",
       "      <td>prior</td>\n",
       "      <td>4</td>\n",
       "      <td>3</td>\n",
       "      <td>14</td>\n",
       "      <td>30.0</td>\n",
       "    </tr>\n",
       "    <tr>\n",
       "      <th>3355527</th>\n",
       "      <td>2808715</td>\n",
       "      <td>202279</td>\n",
       "      <td>prior</td>\n",
       "      <td>5</td>\n",
       "      <td>5</td>\n",
       "      <td>13</td>\n",
       "      <td>9.0</td>\n",
       "    </tr>\n",
       "    <tr>\n",
       "      <th>3355528</th>\n",
       "      <td>132412</td>\n",
       "      <td>202279</td>\n",
       "      <td>prior</td>\n",
       "      <td>6</td>\n",
       "      <td>5</td>\n",
       "      <td>9</td>\n",
       "      <td>30.0</td>\n",
       "    </tr>\n",
       "    <tr>\n",
       "      <th>3355529</th>\n",
       "      <td>2382766</td>\n",
       "      <td>202279</td>\n",
       "      <td>prior</td>\n",
       "      <td>7</td>\n",
       "      <td>1</td>\n",
       "      <td>14</td>\n",
       "      <td>24.0</td>\n",
       "    </tr>\n",
       "    <tr>\n",
       "      <th>3355530</th>\n",
       "      <td>104690</td>\n",
       "      <td>202279</td>\n",
       "      <td>prior</td>\n",
       "      <td>8</td>\n",
       "      <td>6</td>\n",
       "      <td>10</td>\n",
       "      <td>30.0</td>\n",
       "    </tr>\n",
       "    <tr>\n",
       "      <th>3355531</th>\n",
       "      <td>1050357</td>\n",
       "      <td>202279</td>\n",
       "      <td>train</td>\n",
       "      <td>9</td>\n",
       "      <td>1</td>\n",
       "      <td>14</td>\n",
       "      <td>30.0</td>\n",
       "    </tr>\n",
       "  </tbody>\n",
       "</table>\n",
       "</div>"
      ],
      "text/plain": [
       "         order_id  user_id eval_set  order_number  order_dow  \\\n",
       "3355523   2894949   202279    prior             1          5   \n",
       "3355524   1500071   202279    prior             2          4   \n",
       "3355525         2   202279    prior             3          5   \n",
       "3355526   3058248   202279    prior             4          3   \n",
       "3355527   2808715   202279    prior             5          5   \n",
       "3355528    132412   202279    prior             6          5   \n",
       "3355529   2382766   202279    prior             7          1   \n",
       "3355530    104690   202279    prior             8          6   \n",
       "3355531   1050357   202279    train             9          1   \n",
       "\n",
       "         order_hour_of_day  days_since_prior_order  \n",
       "3355523                  9                     NaN  \n",
       "3355524                 13                    20.0  \n",
       "3355525                  9                     8.0  \n",
       "3355526                 14                    30.0  \n",
       "3355527                 13                     9.0  \n",
       "3355528                  9                    30.0  \n",
       "3355529                 14                    24.0  \n",
       "3355530                 10                    30.0  \n",
       "3355531                 14                    30.0  "
      ]
     },
     "execution_count": 35,
     "metadata": {},
     "output_type": "execute_result"
    }
   ],
   "source": [
    "orders[orders.user_id == 202279]\n",
    "# This user's third order was order number 2.  Need to be sure not to think order_id is chronological."
   ]
  },
  {
   "cell_type": "code",
   "execution_count": 36,
   "metadata": {},
   "outputs": [
    {
     "data": {
      "text/html": [
       "<div>\n",
       "<style scoped>\n",
       "    .dataframe tbody tr th:only-of-type {\n",
       "        vertical-align: middle;\n",
       "    }\n",
       "\n",
       "    .dataframe tbody tr th {\n",
       "        vertical-align: top;\n",
       "    }\n",
       "\n",
       "    .dataframe thead th {\n",
       "        text-align: right;\n",
       "    }\n",
       "</style>\n",
       "<table border=\"1\" class=\"dataframe\">\n",
       "  <thead>\n",
       "    <tr style=\"text-align: right;\">\n",
       "      <th></th>\n",
       "      <th>order_id</th>\n",
       "      <th>product_id</th>\n",
       "      <th>add_to_cart_order</th>\n",
       "      <th>reordered</th>\n",
       "    </tr>\n",
       "  </thead>\n",
       "  <tbody>\n",
       "    <tr>\n",
       "      <th>429686</th>\n",
       "      <td>1050357</td>\n",
       "      <td>33120</td>\n",
       "      <td>1</td>\n",
       "      <td>1</td>\n",
       "    </tr>\n",
       "    <tr>\n",
       "      <th>429687</th>\n",
       "      <td>1050357</td>\n",
       "      <td>1003</td>\n",
       "      <td>2</td>\n",
       "      <td>1</td>\n",
       "    </tr>\n",
       "    <tr>\n",
       "      <th>429688</th>\n",
       "      <td>1050357</td>\n",
       "      <td>21543</td>\n",
       "      <td>3</td>\n",
       "      <td>1</td>\n",
       "    </tr>\n",
       "    <tr>\n",
       "      <th>429689</th>\n",
       "      <td>1050357</td>\n",
       "      <td>20995</td>\n",
       "      <td>4</td>\n",
       "      <td>1</td>\n",
       "    </tr>\n",
       "    <tr>\n",
       "      <th>429690</th>\n",
       "      <td>1050357</td>\n",
       "      <td>46064</td>\n",
       "      <td>5</td>\n",
       "      <td>0</td>\n",
       "    </tr>\n",
       "    <tr>\n",
       "      <th>429691</th>\n",
       "      <td>1050357</td>\n",
       "      <td>20168</td>\n",
       "      <td>6</td>\n",
       "      <td>0</td>\n",
       "    </tr>\n",
       "    <tr>\n",
       "      <th>429692</th>\n",
       "      <td>1050357</td>\n",
       "      <td>42824</td>\n",
       "      <td>7</td>\n",
       "      <td>1</td>\n",
       "    </tr>\n",
       "    <tr>\n",
       "      <th>429693</th>\n",
       "      <td>1050357</td>\n",
       "      <td>4461</td>\n",
       "      <td>8</td>\n",
       "      <td>1</td>\n",
       "    </tr>\n",
       "    <tr>\n",
       "      <th>429694</th>\n",
       "      <td>1050357</td>\n",
       "      <td>45002</td>\n",
       "      <td>9</td>\n",
       "      <td>1</td>\n",
       "    </tr>\n",
       "    <tr>\n",
       "      <th>429695</th>\n",
       "      <td>1050357</td>\n",
       "      <td>8693</td>\n",
       "      <td>10</td>\n",
       "      <td>0</td>\n",
       "    </tr>\n",
       "  </tbody>\n",
       "</table>\n",
       "</div>"
      ],
      "text/plain": [
       "        order_id  product_id  add_to_cart_order  reordered\n",
       "429686   1050357       33120                  1          1\n",
       "429687   1050357        1003                  2          1\n",
       "429688   1050357       21543                  3          1\n",
       "429689   1050357       20995                  4          1\n",
       "429690   1050357       46064                  5          0\n",
       "429691   1050357       20168                  6          0\n",
       "429692   1050357       42824                  7          1\n",
       "429693   1050357        4461                  8          1\n",
       "429694   1050357       45002                  9          1\n",
       "429695   1050357        8693                 10          0"
      ]
     },
     "execution_count": 36,
     "metadata": {},
     "output_type": "execute_result"
    }
   ],
   "source": [
    "order_products_train[order_products_train.order_id == 1050357]"
   ]
  },
  {
   "cell_type": "code",
   "execution_count": 37,
   "metadata": {},
   "outputs": [
    {
     "data": {
      "text/plain": [
       "9"
      ]
     },
     "execution_count": 37,
     "metadata": {},
     "output_type": "execute_result"
    }
   ],
   "source": [
    "# So what do I know about this user...\n",
    "\n",
    "# They have ordered 9 times.\n",
    "len(orders[orders.user_id == 202279])"
   ]
  },
  {
   "cell_type": "code",
   "execution_count": 38,
   "metadata": {},
   "outputs": [
    {
     "data": {
      "text/plain": [
       "0    5\n",
       "dtype: int64"
      ]
     },
     "execution_count": 38,
     "metadata": {},
     "output_type": "execute_result"
    }
   ],
   "source": [
    "# They usually order on day 5 (presumably Friday)\n",
    "orders[orders.user_id == 202279].order_dow.mode()"
   ]
  },
  {
   "cell_type": "code",
   "execution_count": 39,
   "metadata": {},
   "outputs": [
    {
     "data": {
      "text/plain": [
       "22.625"
      ]
     },
     "execution_count": 39,
     "metadata": {},
     "output_type": "execute_result"
    }
   ],
   "source": [
    "# They average 22.6 days between orders\n",
    "orders[orders.user_id == 202279].days_since_prior_order.mean()"
   ]
  },
  {
   "cell_type": "code",
   "execution_count": 40,
   "metadata": {},
   "outputs": [
    {
     "data": {
      "text/plain": [
       "11.666666666666666"
      ]
     },
     "execution_count": 40,
     "metadata": {},
     "output_type": "execute_result"
    }
   ],
   "source": [
    "# They order around 11:30 am.\n",
    "orders[orders.user_id == 202279].order_hour_of_day.mean()"
   ]
  },
  {
   "cell_type": "code",
   "execution_count": 41,
   "metadata": {},
   "outputs": [
    {
     "data": {
      "text/plain": [
       "[2894949, 1500071, 2, 3058248, 2808715, 132412, 2382766, 104690, 1050357]"
      ]
     },
     "execution_count": 41,
     "metadata": {},
     "output_type": "execute_result"
    }
   ],
   "source": [
    "# These are their order numbers\n",
    "list(orders[orders.user_id == 202279]['order_id'].values)"
   ]
  },
  {
   "cell_type": "code",
   "execution_count": 42,
   "metadata": {},
   "outputs": [
    {
     "data": {
      "text/html": [
       "<div>\n",
       "<style scoped>\n",
       "    .dataframe tbody tr th:only-of-type {\n",
       "        vertical-align: middle;\n",
       "    }\n",
       "\n",
       "    .dataframe tbody tr th {\n",
       "        vertical-align: top;\n",
       "    }\n",
       "\n",
       "    .dataframe thead th {\n",
       "        text-align: right;\n",
       "    }\n",
       "</style>\n",
       "<table border=\"1\" class=\"dataframe\">\n",
       "  <thead>\n",
       "    <tr style=\"text-align: right;\">\n",
       "      <th></th>\n",
       "      <th>order_id</th>\n",
       "      <th>product_id</th>\n",
       "      <th>add_to_cart_order</th>\n",
       "      <th>reordered</th>\n",
       "    </tr>\n",
       "  </thead>\n",
       "  <tbody>\n",
       "    <tr>\n",
       "      <th>0</th>\n",
       "      <td>2</td>\n",
       "      <td>33120</td>\n",
       "      <td>1</td>\n",
       "      <td>1</td>\n",
       "    </tr>\n",
       "    <tr>\n",
       "      <th>1</th>\n",
       "      <td>2</td>\n",
       "      <td>28985</td>\n",
       "      <td>2</td>\n",
       "      <td>1</td>\n",
       "    </tr>\n",
       "    <tr>\n",
       "      <th>2</th>\n",
       "      <td>2</td>\n",
       "      <td>9327</td>\n",
       "      <td>3</td>\n",
       "      <td>0</td>\n",
       "    </tr>\n",
       "    <tr>\n",
       "      <th>3</th>\n",
       "      <td>2</td>\n",
       "      <td>45918</td>\n",
       "      <td>4</td>\n",
       "      <td>1</td>\n",
       "    </tr>\n",
       "    <tr>\n",
       "      <th>4</th>\n",
       "      <td>2</td>\n",
       "      <td>30035</td>\n",
       "      <td>5</td>\n",
       "      <td>0</td>\n",
       "    </tr>\n",
       "    <tr>\n",
       "      <th>...</th>\n",
       "      <td>...</td>\n",
       "      <td>...</td>\n",
       "      <td>...</td>\n",
       "      <td>...</td>\n",
       "    </tr>\n",
       "    <tr>\n",
       "      <th>28997578</th>\n",
       "      <td>3058248</td>\n",
       "      <td>27531</td>\n",
       "      <td>4</td>\n",
       "      <td>0</td>\n",
       "    </tr>\n",
       "    <tr>\n",
       "      <th>28997579</th>\n",
       "      <td>3058248</td>\n",
       "      <td>2944</td>\n",
       "      <td>5</td>\n",
       "      <td>0</td>\n",
       "    </tr>\n",
       "    <tr>\n",
       "      <th>28997580</th>\n",
       "      <td>3058248</td>\n",
       "      <td>38226</td>\n",
       "      <td>6</td>\n",
       "      <td>0</td>\n",
       "    </tr>\n",
       "    <tr>\n",
       "      <th>28997581</th>\n",
       "      <td>3058248</td>\n",
       "      <td>35106</td>\n",
       "      <td>7</td>\n",
       "      <td>0</td>\n",
       "    </tr>\n",
       "    <tr>\n",
       "      <th>28997582</th>\n",
       "      <td>3058248</td>\n",
       "      <td>12545</td>\n",
       "      <td>8</td>\n",
       "      <td>0</td>\n",
       "    </tr>\n",
       "  </tbody>\n",
       "</table>\n",
       "<p>90 rows × 4 columns</p>\n",
       "</div>"
      ],
      "text/plain": [
       "          order_id  product_id  add_to_cart_order  reordered\n",
       "0                2       33120                  1          1\n",
       "1                2       28985                  2          1\n",
       "2                2        9327                  3          0\n",
       "3                2       45918                  4          1\n",
       "4                2       30035                  5          0\n",
       "...            ...         ...                ...        ...\n",
       "28997578   3058248       27531                  4          0\n",
       "28997579   3058248        2944                  5          0\n",
       "28997580   3058248       38226                  6          0\n",
       "28997581   3058248       35106                  7          0\n",
       "28997582   3058248       12545                  8          0\n",
       "\n",
       "[90 rows x 4 columns]"
      ]
     },
     "execution_count": 42,
     "metadata": {},
     "output_type": "execute_result"
    }
   ],
   "source": [
    "# But what products have they ordered... merging tables will help here\n",
    "order_products_prior[order_products_prior['order_id'].isin(list(orders[orders.user_id == 202279]['order_id'].values))]"
   ]
  },
  {
   "cell_type": "markdown",
   "metadata": {},
   "source": [
    "## Data Preprocessing"
   ]
  },
  {
   "cell_type": "markdown",
   "metadata": {},
   "source": [
    "### Merge order_products together\n",
    "\n",
    "Output: merged_order_products, order_products_desc"
   ]
  },
  {
   "cell_type": "code",
   "execution_count": 43,
   "metadata": {
    "scrolled": true
   },
   "outputs": [
    {
     "name": "stdout",
     "output_type": "stream",
     "text": [
      "1384617\n",
      "32434489\n"
     ]
    }
   ],
   "source": [
    "print(len(order_products_train))\n",
    "print(len(order_products_prior))"
   ]
  },
  {
   "cell_type": "code",
   "execution_count": 44,
   "metadata": {},
   "outputs": [
    {
     "data": {
      "text/plain": [
       "33819106"
      ]
     },
     "execution_count": 44,
     "metadata": {},
     "output_type": "execute_result"
    }
   ],
   "source": [
    "# The dataframe of all order products should be the length of these two together\n",
    "len(order_products_train)+len(order_products_prior)"
   ]
  },
  {
   "cell_type": "code",
   "execution_count": 26,
   "metadata": {
    "scrolled": true
   },
   "outputs": [
    {
     "data": {
      "text/html": [
       "<div>\n",
       "<style scoped>\n",
       "    .dataframe tbody tr th:only-of-type {\n",
       "        vertical-align: middle;\n",
       "    }\n",
       "\n",
       "    .dataframe tbody tr th {\n",
       "        vertical-align: top;\n",
       "    }\n",
       "\n",
       "    .dataframe thead th {\n",
       "        text-align: right;\n",
       "    }\n",
       "</style>\n",
       "<table border=\"1\" class=\"dataframe\">\n",
       "  <thead>\n",
       "    <tr style=\"text-align: right;\">\n",
       "      <th></th>\n",
       "      <th>order_id</th>\n",
       "      <th>product_id</th>\n",
       "      <th>add_to_cart_order</th>\n",
       "      <th>reordered</th>\n",
       "    </tr>\n",
       "  </thead>\n",
       "  <tbody>\n",
       "    <tr>\n",
       "      <th>0</th>\n",
       "      <td>1</td>\n",
       "      <td>49302</td>\n",
       "      <td>1</td>\n",
       "      <td>1</td>\n",
       "    </tr>\n",
       "    <tr>\n",
       "      <th>1</th>\n",
       "      <td>1</td>\n",
       "      <td>11109</td>\n",
       "      <td>2</td>\n",
       "      <td>1</td>\n",
       "    </tr>\n",
       "    <tr>\n",
       "      <th>2</th>\n",
       "      <td>1</td>\n",
       "      <td>10246</td>\n",
       "      <td>3</td>\n",
       "      <td>0</td>\n",
       "    </tr>\n",
       "    <tr>\n",
       "      <th>3</th>\n",
       "      <td>1</td>\n",
       "      <td>49683</td>\n",
       "      <td>4</td>\n",
       "      <td>0</td>\n",
       "    </tr>\n",
       "    <tr>\n",
       "      <th>4</th>\n",
       "      <td>1</td>\n",
       "      <td>43633</td>\n",
       "      <td>5</td>\n",
       "      <td>1</td>\n",
       "    </tr>\n",
       "  </tbody>\n",
       "</table>\n",
       "</div>"
      ],
      "text/plain": [
       "   order_id  product_id  add_to_cart_order  reordered\n",
       "0         1       49302                  1          1\n",
       "1         1       11109                  2          1\n",
       "2         1       10246                  3          0\n",
       "3         1       49683                  4          0\n",
       "4         1       43633                  5          1"
      ]
     },
     "execution_count": 26,
     "metadata": {},
     "output_type": "execute_result"
    }
   ],
   "source": [
    "# These two dataframes shouldn't have any overlap.  I need an outer join to merge them together.\n",
    "merged_order_products = pd.merge(order_products_train, order_products_prior, how = 'outer')\n",
    "merged_order_products.head()"
   ]
  },
  {
   "cell_type": "code",
   "execution_count": 46,
   "metadata": {
    "scrolled": false
   },
   "outputs": [
    {
     "data": {
      "text/plain": [
       "33819106"
      ]
     },
     "execution_count": 46,
     "metadata": {},
     "output_type": "execute_result"
    }
   ],
   "source": [
    "len(merged_order_products)"
   ]
  },
  {
   "cell_type": "code",
   "execution_count": 7,
   "metadata": {},
   "outputs": [],
   "source": [
    "products_per_order = merged_order_products.groupby('order_id').count()"
   ]
  },
  {
   "cell_type": "code",
   "execution_count": 8,
   "metadata": {},
   "outputs": [
    {
     "data": {
      "image/png": "[encoded data removed]",
      "text/plain": [
       "<Figure size 1008x504 with 1 Axes>"
      ]
     },
     "metadata": {
      "needs_background": "light"
     },
     "output_type": "display_data"
    }
   ],
   "source": [
    "# 5 is the most common number of products per order\n",
    "\n",
    "plt.figure(figsize = (14,7))\n",
    "sns.countplot(x='product_id', data = products_per_order)\n",
    "plt.title('Number of Products per Order')\n",
    "plt.xticks(rotation=90)\n",
    "plt.ylabel('Number of Orders')\n",
    "plt.xlabel('Products')\n",
    "plt.savefig('Images/product_count_by_order.png');"
   ]
  },
  {
   "cell_type": "code",
   "execution_count": 27,
   "metadata": {},
   "outputs": [
    {
     "data": {
      "text/html": [
       "<div>\n",
       "<style scoped>\n",
       "    .dataframe tbody tr th:only-of-type {\n",
       "        vertical-align: middle;\n",
       "    }\n",
       "\n",
       "    .dataframe tbody tr th {\n",
       "        vertical-align: top;\n",
       "    }\n",
       "\n",
       "    .dataframe thead th {\n",
       "        text-align: right;\n",
       "    }\n",
       "</style>\n",
       "<table border=\"1\" class=\"dataframe\">\n",
       "  <thead>\n",
       "    <tr style=\"text-align: right;\">\n",
       "      <th></th>\n",
       "      <th>order_id</th>\n",
       "      <th>product_id</th>\n",
       "      <th>add_to_cart_order</th>\n",
       "      <th>reordered</th>\n",
       "      <th>product_name</th>\n",
       "      <th>aisle_id</th>\n",
       "      <th>department_id</th>\n",
       "      <th>aisle</th>\n",
       "      <th>department</th>\n",
       "    </tr>\n",
       "  </thead>\n",
       "  <tbody>\n",
       "    <tr>\n",
       "      <th>0</th>\n",
       "      <td>1</td>\n",
       "      <td>49302</td>\n",
       "      <td>1</td>\n",
       "      <td>1</td>\n",
       "      <td>Bulgarian Yogurt</td>\n",
       "      <td>120</td>\n",
       "      <td>16</td>\n",
       "      <td>yogurt</td>\n",
       "      <td>dairy eggs</td>\n",
       "    </tr>\n",
       "    <tr>\n",
       "      <th>1</th>\n",
       "      <td>816049</td>\n",
       "      <td>49302</td>\n",
       "      <td>7</td>\n",
       "      <td>1</td>\n",
       "      <td>Bulgarian Yogurt</td>\n",
       "      <td>120</td>\n",
       "      <td>16</td>\n",
       "      <td>yogurt</td>\n",
       "      <td>dairy eggs</td>\n",
       "    </tr>\n",
       "    <tr>\n",
       "      <th>2</th>\n",
       "      <td>1242203</td>\n",
       "      <td>49302</td>\n",
       "      <td>1</td>\n",
       "      <td>1</td>\n",
       "      <td>Bulgarian Yogurt</td>\n",
       "      <td>120</td>\n",
       "      <td>16</td>\n",
       "      <td>yogurt</td>\n",
       "      <td>dairy eggs</td>\n",
       "    </tr>\n",
       "    <tr>\n",
       "      <th>3</th>\n",
       "      <td>1383349</td>\n",
       "      <td>49302</td>\n",
       "      <td>11</td>\n",
       "      <td>1</td>\n",
       "      <td>Bulgarian Yogurt</td>\n",
       "      <td>120</td>\n",
       "      <td>16</td>\n",
       "      <td>yogurt</td>\n",
       "      <td>dairy eggs</td>\n",
       "    </tr>\n",
       "    <tr>\n",
       "      <th>4</th>\n",
       "      <td>1787378</td>\n",
       "      <td>49302</td>\n",
       "      <td>8</td>\n",
       "      <td>0</td>\n",
       "      <td>Bulgarian Yogurt</td>\n",
       "      <td>120</td>\n",
       "      <td>16</td>\n",
       "      <td>yogurt</td>\n",
       "      <td>dairy eggs</td>\n",
       "    </tr>\n",
       "  </tbody>\n",
       "</table>\n",
       "</div>"
      ],
      "text/plain": [
       "   order_id  product_id  add_to_cart_order  reordered      product_name  \\\n",
       "0         1       49302                  1          1  Bulgarian Yogurt   \n",
       "1    816049       49302                  7          1  Bulgarian Yogurt   \n",
       "2   1242203       49302                  1          1  Bulgarian Yogurt   \n",
       "3   1383349       49302                 11          1  Bulgarian Yogurt   \n",
       "4   1787378       49302                  8          0  Bulgarian Yogurt   \n",
       "\n",
       "   aisle_id  department_id   aisle  department  \n",
       "0       120             16  yogurt  dairy eggs  \n",
       "1       120             16  yogurt  dairy eggs  \n",
       "2       120             16  yogurt  dairy eggs  \n",
       "3       120             16  yogurt  dairy eggs  \n",
       "4       120             16  yogurt  dairy eggs  "
      ]
     },
     "execution_count": 27,
     "metadata": {},
     "output_type": "execute_result"
    }
   ],
   "source": [
    "# This has an entry for each ordered product.  If we combine it with aisle and department we can see which products\n",
    "# are ordered the most.\n",
    "order_products_desc = pd.merge(merged_order_products, products_desc, on = 'product_id')\n",
    "order_products_desc.head()"
   ]
  },
  {
   "cell_type": "code",
   "execution_count": 48,
   "metadata": {
    "scrolled": true
   },
   "outputs": [
    {
     "data": {
      "text/plain": [
       "Banana                             491291\n",
       "Bag of Organic Bananas             394930\n",
       "Organic Strawberries               275577\n",
       "Organic Baby Spinach               251705\n",
       "Organic Hass Avocado               220877\n",
       "                                    ...  \n",
       "Anarchy For Her Daily Fragrance         1\n",
       "Pumpkin Spice Almond Nog                1\n",
       "Frittata, Farmer's Market               1\n",
       "Flavor Snacks                           1\n",
       "Water With Electrolytes                 1\n",
       "Name: product_name, Length: 49685, dtype: int64"
      ]
     },
     "execution_count": 48,
     "metadata": {},
     "output_type": "execute_result"
    }
   ],
   "source": [
    "# Very cool.  People really like their bananas.\n",
    "order_products_desc['product_name'].value_counts()"
   ]
  },
  {
   "cell_type": "code",
   "execution_count": 49,
   "metadata": {},
   "outputs": [
    {
     "data": {
      "image/png": "[encoded data removed]",
      "text/plain": [
       "<Figure size 1008x504 with 1 Axes>"
      ]
     },
     "metadata": {
      "needs_background": "light"
     },
     "output_type": "display_data"
    }
   ],
   "source": [
    "plt.figure(figsize = (14,7))\n",
    "sns.countplot(x='product_name', data= order_products_desc, \n",
    "              order = order_products_desc.product_name.value_counts().index[:20])\n",
    "plt.title('Most Ordered Products')\n",
    "plt.xticks(rotation=70)\n",
    "plt.ylabel('Count')\n",
    "plt.xlabel('Product Name')\n",
    "plt.savefig('Images/ordered_products_by_name.png');"
   ]
  },
  {
   "cell_type": "code",
   "execution_count": 34,
   "metadata": {},
   "outputs": [
    {
     "data": {
      "image/png": "[encoded data removed]",
      "text/plain": [
       "<Figure size 1008x504 with 1 Axes>"
      ]
     },
     "metadata": {
      "needs_background": "light"
     },
     "output_type": "display_data"
    }
   ],
   "source": [
    "plt.figure(figsize = (14,7))\n",
    "sns.countplot(x='product_name', data= order_products_desc, \n",
    "              order = order_products_desc.product_name.value_counts().index[:200])\n",
    "plt.title('Most Ordered Products')\n",
    "plt.xticks([])\n",
    "plt.ylabel('Count')\n",
    "plt.xlabel('Product Name')\n",
    "plt.savefig('Images/ordered_products_by_name_200.png');"
   ]
  },
  {
   "cell_type": "code",
   "execution_count": 50,
   "metadata": {},
   "outputs": [
    {
     "data": {
      "image/png": "[encoded data removed]",
      "text/plain": [
       "<Figure size 1008x504 with 1 Axes>"
      ]
     },
     "metadata": {
      "needs_background": "light"
     },
     "output_type": "display_data"
    }
   ],
   "source": [
    "plt.figure(figsize = (14,7))\n",
    "sns.countplot(x='department', data= order_products_desc, order = order_products_desc.department.value_counts().index)\n",
    "plt.title('Most Ordered Departments')\n",
    "plt.xticks(rotation=70)\n",
    "plt.yticks([2000000,4000000,6000000,8000000,10000000],['2 mil','4 mil','6 mil','8 mil','10 mil'])\n",
    "plt.ylabel('Count')\n",
    "plt.xlabel('Department')\n",
    "plt.savefig('Images/ordered_products_by_department.png');"
   ]
  },
  {
   "cell_type": "code",
   "execution_count": 51,
   "metadata": {},
   "outputs": [
    {
     "data": {
      "image/png": "[encoded data removed]",
      "text/plain": [
       "<Figure size 1008x504 with 1 Axes>"
      ]
     },
     "metadata": {
      "needs_background": "light"
     },
     "output_type": "display_data"
    }
   ],
   "source": [
    "plt.figure(figsize = (14,7))\n",
    "sns.countplot(x='aisle', data= order_products_desc, order = order_products_desc.aisle.value_counts().index[:20])\n",
    "plt.title('20 Most Ordered Aisles')\n",
    "plt.xticks(rotation=70)\n",
    "plt.yticks([1000000,2000000,3000000,4000000],['1,000,000','2,000,000','3,000,000','4,000,000'])\n",
    "plt.ylabel('Count')\n",
    "plt.xlabel('Aisle')\n",
    "plt.savefig('Images/ordered_products_by_aisle.png');"
   ]
  },
  {
   "cell_type": "markdown",
   "metadata": {},
   "source": [
    "### Merge user orders\n",
    "\n",
    "Output: merged_orders"
   ]
  },
  {
   "cell_type": "code",
   "execution_count": 10,
   "metadata": {},
   "outputs": [
    {
     "data": {
      "text/html": [
       "<div>\n",
       "<style scoped>\n",
       "    .dataframe tbody tr th:only-of-type {\n",
       "        vertical-align: middle;\n",
       "    }\n",
       "\n",
       "    .dataframe tbody tr th {\n",
       "        vertical-align: top;\n",
       "    }\n",
       "\n",
       "    .dataframe thead th {\n",
       "        text-align: right;\n",
       "    }\n",
       "</style>\n",
       "<table border=\"1\" class=\"dataframe\">\n",
       "  <thead>\n",
       "    <tr style=\"text-align: right;\">\n",
       "      <th></th>\n",
       "      <th>order_id</th>\n",
       "      <th>user_id</th>\n",
       "      <th>eval_set</th>\n",
       "      <th>order_number</th>\n",
       "      <th>order_dow</th>\n",
       "      <th>order_hour_of_day</th>\n",
       "      <th>days_since_prior_order</th>\n",
       "      <th>product_id</th>\n",
       "      <th>add_to_cart_order</th>\n",
       "      <th>reordered</th>\n",
       "      <th>product_name</th>\n",
       "      <th>aisle_id</th>\n",
       "      <th>department_id</th>\n",
       "      <th>aisle</th>\n",
       "      <th>department</th>\n",
       "    </tr>\n",
       "  </thead>\n",
       "  <tbody>\n",
       "    <tr>\n",
       "      <th>0</th>\n",
       "      <td>2539329</td>\n",
       "      <td>1</td>\n",
       "      <td>prior</td>\n",
       "      <td>1</td>\n",
       "      <td>2</td>\n",
       "      <td>8</td>\n",
       "      <td>NaN</td>\n",
       "      <td>196</td>\n",
       "      <td>1</td>\n",
       "      <td>0</td>\n",
       "      <td>Soda</td>\n",
       "      <td>77</td>\n",
       "      <td>7</td>\n",
       "      <td>soft drinks</td>\n",
       "      <td>beverages</td>\n",
       "    </tr>\n",
       "    <tr>\n",
       "      <th>1</th>\n",
       "      <td>2539329</td>\n",
       "      <td>1</td>\n",
       "      <td>prior</td>\n",
       "      <td>1</td>\n",
       "      <td>2</td>\n",
       "      <td>8</td>\n",
       "      <td>NaN</td>\n",
       "      <td>26088</td>\n",
       "      <td>4</td>\n",
       "      <td>0</td>\n",
       "      <td>Aged White Cheddar Popcorn</td>\n",
       "      <td>23</td>\n",
       "      <td>19</td>\n",
       "      <td>popcorn jerky</td>\n",
       "      <td>snacks</td>\n",
       "    </tr>\n",
       "    <tr>\n",
       "      <th>2</th>\n",
       "      <td>2539329</td>\n",
       "      <td>1</td>\n",
       "      <td>prior</td>\n",
       "      <td>1</td>\n",
       "      <td>2</td>\n",
       "      <td>8</td>\n",
       "      <td>NaN</td>\n",
       "      <td>14084</td>\n",
       "      <td>2</td>\n",
       "      <td>0</td>\n",
       "      <td>Organic Unsweetened Vanilla Almond Milk</td>\n",
       "      <td>91</td>\n",
       "      <td>16</td>\n",
       "      <td>soy lactosefree</td>\n",
       "      <td>dairy eggs</td>\n",
       "    </tr>\n",
       "    <tr>\n",
       "      <th>3</th>\n",
       "      <td>2539329</td>\n",
       "      <td>1</td>\n",
       "      <td>prior</td>\n",
       "      <td>1</td>\n",
       "      <td>2</td>\n",
       "      <td>8</td>\n",
       "      <td>NaN</td>\n",
       "      <td>26405</td>\n",
       "      <td>5</td>\n",
       "      <td>0</td>\n",
       "      <td>XL Pick-A-Size Paper Towel Rolls</td>\n",
       "      <td>54</td>\n",
       "      <td>17</td>\n",
       "      <td>paper goods</td>\n",
       "      <td>household</td>\n",
       "    </tr>\n",
       "    <tr>\n",
       "      <th>4</th>\n",
       "      <td>2539329</td>\n",
       "      <td>1</td>\n",
       "      <td>prior</td>\n",
       "      <td>1</td>\n",
       "      <td>2</td>\n",
       "      <td>8</td>\n",
       "      <td>NaN</td>\n",
       "      <td>12427</td>\n",
       "      <td>3</td>\n",
       "      <td>0</td>\n",
       "      <td>Original Beef Jerky</td>\n",
       "      <td>23</td>\n",
       "      <td>19</td>\n",
       "      <td>popcorn jerky</td>\n",
       "      <td>snacks</td>\n",
       "    </tr>\n",
       "  </tbody>\n",
       "</table>\n",
       "</div>"
      ],
      "text/plain": [
       "   order_id  user_id eval_set  order_number  order_dow  order_hour_of_day  \\\n",
       "0   2539329        1    prior             1          2                  8   \n",
       "1   2539329        1    prior             1          2                  8   \n",
       "2   2539329        1    prior             1          2                  8   \n",
       "3   2539329        1    prior             1          2                  8   \n",
       "4   2539329        1    prior             1          2                  8   \n",
       "\n",
       "   days_since_prior_order  product_id  add_to_cart_order  reordered  \\\n",
       "0                     NaN         196                  1          0   \n",
       "1                     NaN       26088                  4          0   \n",
       "2                     NaN       14084                  2          0   \n",
       "3                     NaN       26405                  5          0   \n",
       "4                     NaN       12427                  3          0   \n",
       "\n",
       "                              product_name  aisle_id  department_id  \\\n",
       "0                                     Soda        77              7   \n",
       "1               Aged White Cheddar Popcorn        23             19   \n",
       "2  Organic Unsweetened Vanilla Almond Milk        91             16   \n",
       "3         XL Pick-A-Size Paper Towel Rolls        54             17   \n",
       "4                      Original Beef Jerky        23             19   \n",
       "\n",
       "             aisle  department  \n",
       "0      soft drinks   beverages  \n",
       "1    popcorn jerky      snacks  \n",
       "2  soy lactosefree  dairy eggs  \n",
       "3      paper goods   household  \n",
       "4    popcorn jerky      snacks  "
      ]
     },
     "execution_count": 10,
     "metadata": {},
     "output_type": "execute_result"
    }
   ],
   "source": [
    "# Now merge the orders with the ordered prodcuts, combining on order_id\n",
    "# This is a lot of info. We will trim some out before modeling.\n",
    "merged_orders = pd.merge(orders, order_products_desc, on = 'order_id')\n",
    "merged_orders.head() # Because the products showing are from the 1st order for this user, they all have Nan in days_since\n",
    "# Because pd.merge defaults to an inner join, the test orders are not in this dataframe because they had no products."
   ]
  },
  {
   "cell_type": "code",
   "execution_count": 53,
   "metadata": {},
   "outputs": [
    {
     "data": {
      "text/plain": [
       "33819106"
      ]
     },
     "execution_count": 53,
     "metadata": {},
     "output_type": "execute_result"
    }
   ],
   "source": [
    "len(merged_orders)"
   ]
  },
  {
   "cell_type": "code",
   "execution_count": 54,
   "metadata": {},
   "outputs": [
    {
     "data": {
      "text/html": [
       "<div>\n",
       "<style scoped>\n",
       "    .dataframe tbody tr th:only-of-type {\n",
       "        vertical-align: middle;\n",
       "    }\n",
       "\n",
       "    .dataframe tbody tr th {\n",
       "        vertical-align: top;\n",
       "    }\n",
       "\n",
       "    .dataframe thead th {\n",
       "        text-align: right;\n",
       "    }\n",
       "</style>\n",
       "<table border=\"1\" class=\"dataframe\">\n",
       "  <thead>\n",
       "    <tr style=\"text-align: right;\">\n",
       "      <th></th>\n",
       "      <th>order_id</th>\n",
       "      <th>user_id</th>\n",
       "      <th>eval_set</th>\n",
       "      <th>order_number</th>\n",
       "      <th>order_dow</th>\n",
       "      <th>order_hour_of_day</th>\n",
       "      <th>days_since_prior_order</th>\n",
       "      <th>product_id</th>\n",
       "      <th>add_to_cart_order</th>\n",
       "      <th>reordered</th>\n",
       "      <th>product_name</th>\n",
       "      <th>aisle_id</th>\n",
       "      <th>department_id</th>\n",
       "      <th>aisle</th>\n",
       "      <th>department</th>\n",
       "    </tr>\n",
       "  </thead>\n",
       "  <tbody>\n",
       "    <tr>\n",
       "      <th>296</th>\n",
       "      <td>1374495</td>\n",
       "      <td>3</td>\n",
       "      <td>prior</td>\n",
       "      <td>1</td>\n",
       "      <td>1</td>\n",
       "      <td>14</td>\n",
       "      <td>NaN</td>\n",
       "      <td>39190</td>\n",
       "      <td>5</td>\n",
       "      <td>0</td>\n",
       "      <td>Vanilla Unsweetened Almond Milk</td>\n",
       "      <td>91</td>\n",
       "      <td>16</td>\n",
       "      <td>soy lactosefree</td>\n",
       "      <td>dairy eggs</td>\n",
       "    </tr>\n",
       "    <tr>\n",
       "      <th>297</th>\n",
       "      <td>1374495</td>\n",
       "      <td>3</td>\n",
       "      <td>prior</td>\n",
       "      <td>1</td>\n",
       "      <td>1</td>\n",
       "      <td>14</td>\n",
       "      <td>NaN</td>\n",
       "      <td>16797</td>\n",
       "      <td>4</td>\n",
       "      <td>0</td>\n",
       "      <td>Strawberries</td>\n",
       "      <td>24</td>\n",
       "      <td>4</td>\n",
       "      <td>fresh fruits</td>\n",
       "      <td>produce</td>\n",
       "    </tr>\n",
       "    <tr>\n",
       "      <th>298</th>\n",
       "      <td>1374495</td>\n",
       "      <td>3</td>\n",
       "      <td>prior</td>\n",
       "      <td>1</td>\n",
       "      <td>1</td>\n",
       "      <td>14</td>\n",
       "      <td>NaN</td>\n",
       "      <td>9387</td>\n",
       "      <td>1</td>\n",
       "      <td>0</td>\n",
       "      <td>Granny Smith Apples</td>\n",
       "      <td>24</td>\n",
       "      <td>4</td>\n",
       "      <td>fresh fruits</td>\n",
       "      <td>produce</td>\n",
       "    </tr>\n",
       "    <tr>\n",
       "      <th>299</th>\n",
       "      <td>1374495</td>\n",
       "      <td>3</td>\n",
       "      <td>prior</td>\n",
       "      <td>1</td>\n",
       "      <td>1</td>\n",
       "      <td>14</td>\n",
       "      <td>NaN</td>\n",
       "      <td>21903</td>\n",
       "      <td>7</td>\n",
       "      <td>0</td>\n",
       "      <td>Organic Baby Spinach</td>\n",
       "      <td>123</td>\n",
       "      <td>4</td>\n",
       "      <td>packaged vegetables fruits</td>\n",
       "      <td>produce</td>\n",
       "    </tr>\n",
       "    <tr>\n",
       "      <th>300</th>\n",
       "      <td>1374495</td>\n",
       "      <td>3</td>\n",
       "      <td>prior</td>\n",
       "      <td>1</td>\n",
       "      <td>1</td>\n",
       "      <td>14</td>\n",
       "      <td>NaN</td>\n",
       "      <td>39922</td>\n",
       "      <td>8</td>\n",
       "      <td>0</td>\n",
       "      <td>Celery Sticks</td>\n",
       "      <td>123</td>\n",
       "      <td>4</td>\n",
       "      <td>packaged vegetables fruits</td>\n",
       "      <td>produce</td>\n",
       "    </tr>\n",
       "    <tr>\n",
       "      <th>...</th>\n",
       "      <td>...</td>\n",
       "      <td>...</td>\n",
       "      <td>...</td>\n",
       "      <td>...</td>\n",
       "      <td>...</td>\n",
       "      <td>...</td>\n",
       "      <td>...</td>\n",
       "      <td>...</td>\n",
       "      <td>...</td>\n",
       "      <td>...</td>\n",
       "      <td>...</td>\n",
       "      <td>...</td>\n",
       "      <td>...</td>\n",
       "      <td>...</td>\n",
       "      <td>...</td>\n",
       "    </tr>\n",
       "    <tr>\n",
       "      <th>379</th>\n",
       "      <td>1402502</td>\n",
       "      <td>3</td>\n",
       "      <td>prior</td>\n",
       "      <td>12</td>\n",
       "      <td>1</td>\n",
       "      <td>15</td>\n",
       "      <td>15.0</td>\n",
       "      <td>18599</td>\n",
       "      <td>2</td>\n",
       "      <td>1</td>\n",
       "      <td>Garlic Couscous</td>\n",
       "      <td>4</td>\n",
       "      <td>9</td>\n",
       "      <td>instant foods</td>\n",
       "      <td>dry goods pasta</td>\n",
       "    </tr>\n",
       "    <tr>\n",
       "      <th>380</th>\n",
       "      <td>1402502</td>\n",
       "      <td>3</td>\n",
       "      <td>prior</td>\n",
       "      <td>12</td>\n",
       "      <td>1</td>\n",
       "      <td>15</td>\n",
       "      <td>15.0</td>\n",
       "      <td>21903</td>\n",
       "      <td>4</td>\n",
       "      <td>1</td>\n",
       "      <td>Organic Baby Spinach</td>\n",
       "      <td>123</td>\n",
       "      <td>4</td>\n",
       "      <td>packaged vegetables fruits</td>\n",
       "      <td>produce</td>\n",
       "    </tr>\n",
       "    <tr>\n",
       "      <th>381</th>\n",
       "      <td>1402502</td>\n",
       "      <td>3</td>\n",
       "      <td>prior</td>\n",
       "      <td>12</td>\n",
       "      <td>1</td>\n",
       "      <td>15</td>\n",
       "      <td>15.0</td>\n",
       "      <td>47766</td>\n",
       "      <td>5</td>\n",
       "      <td>1</td>\n",
       "      <td>Organic Avocado</td>\n",
       "      <td>24</td>\n",
       "      <td>4</td>\n",
       "      <td>fresh fruits</td>\n",
       "      <td>produce</td>\n",
       "    </tr>\n",
       "    <tr>\n",
       "      <th>382</th>\n",
       "      <td>1402502</td>\n",
       "      <td>3</td>\n",
       "      <td>prior</td>\n",
       "      <td>12</td>\n",
       "      <td>1</td>\n",
       "      <td>15</td>\n",
       "      <td>15.0</td>\n",
       "      <td>24810</td>\n",
       "      <td>6</td>\n",
       "      <td>1</td>\n",
       "      <td>Organic Lightly Salted Brown Rice Cakes</td>\n",
       "      <td>78</td>\n",
       "      <td>19</td>\n",
       "      <td>crackers</td>\n",
       "      <td>snacks</td>\n",
       "    </tr>\n",
       "    <tr>\n",
       "      <th>383</th>\n",
       "      <td>1402502</td>\n",
       "      <td>3</td>\n",
       "      <td>prior</td>\n",
       "      <td>12</td>\n",
       "      <td>1</td>\n",
       "      <td>15</td>\n",
       "      <td>15.0</td>\n",
       "      <td>23650</td>\n",
       "      <td>3</td>\n",
       "      <td>1</td>\n",
       "      <td>Electrolyte Water</td>\n",
       "      <td>115</td>\n",
       "      <td>7</td>\n",
       "      <td>water seltzer sparkling water</td>\n",
       "      <td>beverages</td>\n",
       "    </tr>\n",
       "  </tbody>\n",
       "</table>\n",
       "<p>88 rows × 15 columns</p>\n",
       "</div>"
      ],
      "text/plain": [
       "     order_id  user_id eval_set  order_number  order_dow  order_hour_of_day  \\\n",
       "296   1374495        3    prior             1          1                 14   \n",
       "297   1374495        3    prior             1          1                 14   \n",
       "298   1374495        3    prior             1          1                 14   \n",
       "299   1374495        3    prior             1          1                 14   \n",
       "300   1374495        3    prior             1          1                 14   \n",
       "..        ...      ...      ...           ...        ...                ...   \n",
       "379   1402502        3    prior            12          1                 15   \n",
       "380   1402502        3    prior            12          1                 15   \n",
       "381   1402502        3    prior            12          1                 15   \n",
       "382   1402502        3    prior            12          1                 15   \n",
       "383   1402502        3    prior            12          1                 15   \n",
       "\n",
       "     days_since_prior_order  product_id  add_to_cart_order  reordered  \\\n",
       "296                     NaN       39190                  5          0   \n",
       "297                     NaN       16797                  4          0   \n",
       "298                     NaN        9387                  1          0   \n",
       "299                     NaN       21903                  7          0   \n",
       "300                     NaN       39922                  8          0   \n",
       "..                      ...         ...                ...        ...   \n",
       "379                    15.0       18599                  2          1   \n",
       "380                    15.0       21903                  4          1   \n",
       "381                    15.0       47766                  5          1   \n",
       "382                    15.0       24810                  6          1   \n",
       "383                    15.0       23650                  3          1   \n",
       "\n",
       "                                product_name  aisle_id  department_id  \\\n",
       "296          Vanilla Unsweetened Almond Milk        91             16   \n",
       "297                             Strawberries        24              4   \n",
       "298                      Granny Smith Apples        24              4   \n",
       "299                     Organic Baby Spinach       123              4   \n",
       "300                            Celery Sticks       123              4   \n",
       "..                                       ...       ...            ...   \n",
       "379                          Garlic Couscous         4              9   \n",
       "380                     Organic Baby Spinach       123              4   \n",
       "381                          Organic Avocado        24              4   \n",
       "382  Organic Lightly Salted Brown Rice Cakes        78             19   \n",
       "383                        Electrolyte Water       115              7   \n",
       "\n",
       "                             aisle       department  \n",
       "296                soy lactosefree       dairy eggs  \n",
       "297                   fresh fruits          produce  \n",
       "298                   fresh fruits          produce  \n",
       "299     packaged vegetables fruits          produce  \n",
       "300     packaged vegetables fruits          produce  \n",
       "..                             ...              ...  \n",
       "379                  instant foods  dry goods pasta  \n",
       "380     packaged vegetables fruits          produce  \n",
       "381                   fresh fruits          produce  \n",
       "382                       crackers           snacks  \n",
       "383  water seltzer sparkling water        beverages  \n",
       "\n",
       "[88 rows x 15 columns]"
      ]
     },
     "execution_count": 54,
     "metadata": {},
     "output_type": "execute_result"
    }
   ],
   "source": [
    "merged_orders[merged_orders['user_id']==3] # We see 12 orders, 88 products, no test order"
   ]
  },
  {
   "cell_type": "code",
   "execution_count": 55,
   "metadata": {},
   "outputs": [
    {
     "data": {
      "text/html": [
       "<div>\n",
       "<style scoped>\n",
       "    .dataframe tbody tr th:only-of-type {\n",
       "        vertical-align: middle;\n",
       "    }\n",
       "\n",
       "    .dataframe tbody tr th {\n",
       "        vertical-align: top;\n",
       "    }\n",
       "\n",
       "    .dataframe thead th {\n",
       "        text-align: right;\n",
       "    }\n",
       "</style>\n",
       "<table border=\"1\" class=\"dataframe\">\n",
       "  <thead>\n",
       "    <tr style=\"text-align: right;\">\n",
       "      <th></th>\n",
       "      <th>order_id</th>\n",
       "      <th>user_id</th>\n",
       "      <th>eval_set</th>\n",
       "      <th>order_number</th>\n",
       "      <th>order_dow</th>\n",
       "      <th>order_hour_of_day</th>\n",
       "      <th>days_since_prior_order</th>\n",
       "    </tr>\n",
       "  </thead>\n",
       "  <tbody>\n",
       "    <tr>\n",
       "      <th>26</th>\n",
       "      <td>1374495</td>\n",
       "      <td>3</td>\n",
       "      <td>prior</td>\n",
       "      <td>1</td>\n",
       "      <td>1</td>\n",
       "      <td>14</td>\n",
       "      <td>NaN</td>\n",
       "    </tr>\n",
       "    <tr>\n",
       "      <th>27</th>\n",
       "      <td>444309</td>\n",
       "      <td>3</td>\n",
       "      <td>prior</td>\n",
       "      <td>2</td>\n",
       "      <td>3</td>\n",
       "      <td>19</td>\n",
       "      <td>9.0</td>\n",
       "    </tr>\n",
       "    <tr>\n",
       "      <th>28</th>\n",
       "      <td>3002854</td>\n",
       "      <td>3</td>\n",
       "      <td>prior</td>\n",
       "      <td>3</td>\n",
       "      <td>3</td>\n",
       "      <td>16</td>\n",
       "      <td>21.0</td>\n",
       "    </tr>\n",
       "    <tr>\n",
       "      <th>29</th>\n",
       "      <td>2037211</td>\n",
       "      <td>3</td>\n",
       "      <td>prior</td>\n",
       "      <td>4</td>\n",
       "      <td>2</td>\n",
       "      <td>18</td>\n",
       "      <td>20.0</td>\n",
       "    </tr>\n",
       "    <tr>\n",
       "      <th>30</th>\n",
       "      <td>2710558</td>\n",
       "      <td>3</td>\n",
       "      <td>prior</td>\n",
       "      <td>5</td>\n",
       "      <td>0</td>\n",
       "      <td>17</td>\n",
       "      <td>12.0</td>\n",
       "    </tr>\n",
       "    <tr>\n",
       "      <th>31</th>\n",
       "      <td>1972919</td>\n",
       "      <td>3</td>\n",
       "      <td>prior</td>\n",
       "      <td>6</td>\n",
       "      <td>0</td>\n",
       "      <td>16</td>\n",
       "      <td>7.0</td>\n",
       "    </tr>\n",
       "    <tr>\n",
       "      <th>32</th>\n",
       "      <td>1839752</td>\n",
       "      <td>3</td>\n",
       "      <td>prior</td>\n",
       "      <td>7</td>\n",
       "      <td>0</td>\n",
       "      <td>15</td>\n",
       "      <td>7.0</td>\n",
       "    </tr>\n",
       "    <tr>\n",
       "      <th>33</th>\n",
       "      <td>3225766</td>\n",
       "      <td>3</td>\n",
       "      <td>prior</td>\n",
       "      <td>8</td>\n",
       "      <td>0</td>\n",
       "      <td>17</td>\n",
       "      <td>7.0</td>\n",
       "    </tr>\n",
       "    <tr>\n",
       "      <th>34</th>\n",
       "      <td>3160850</td>\n",
       "      <td>3</td>\n",
       "      <td>prior</td>\n",
       "      <td>9</td>\n",
       "      <td>0</td>\n",
       "      <td>16</td>\n",
       "      <td>7.0</td>\n",
       "    </tr>\n",
       "    <tr>\n",
       "      <th>35</th>\n",
       "      <td>676467</td>\n",
       "      <td>3</td>\n",
       "      <td>prior</td>\n",
       "      <td>10</td>\n",
       "      <td>3</td>\n",
       "      <td>16</td>\n",
       "      <td>17.0</td>\n",
       "    </tr>\n",
       "    <tr>\n",
       "      <th>36</th>\n",
       "      <td>521107</td>\n",
       "      <td>3</td>\n",
       "      <td>prior</td>\n",
       "      <td>11</td>\n",
       "      <td>0</td>\n",
       "      <td>18</td>\n",
       "      <td>11.0</td>\n",
       "    </tr>\n",
       "    <tr>\n",
       "      <th>37</th>\n",
       "      <td>1402502</td>\n",
       "      <td>3</td>\n",
       "      <td>prior</td>\n",
       "      <td>12</td>\n",
       "      <td>1</td>\n",
       "      <td>15</td>\n",
       "      <td>15.0</td>\n",
       "    </tr>\n",
       "    <tr>\n",
       "      <th>38</th>\n",
       "      <td>2774568</td>\n",
       "      <td>3</td>\n",
       "      <td>test</td>\n",
       "      <td>13</td>\n",
       "      <td>5</td>\n",
       "      <td>15</td>\n",
       "      <td>11.0</td>\n",
       "    </tr>\n",
       "  </tbody>\n",
       "</table>\n",
       "</div>"
      ],
      "text/plain": [
       "    order_id  user_id eval_set  order_number  order_dow  order_hour_of_day  \\\n",
       "26   1374495        3    prior             1          1                 14   \n",
       "27    444309        3    prior             2          3                 19   \n",
       "28   3002854        3    prior             3          3                 16   \n",
       "29   2037211        3    prior             4          2                 18   \n",
       "30   2710558        3    prior             5          0                 17   \n",
       "31   1972919        3    prior             6          0                 16   \n",
       "32   1839752        3    prior             7          0                 15   \n",
       "33   3225766        3    prior             8          0                 17   \n",
       "34   3160850        3    prior             9          0                 16   \n",
       "35    676467        3    prior            10          3                 16   \n",
       "36    521107        3    prior            11          0                 18   \n",
       "37   1402502        3    prior            12          1                 15   \n",
       "38   2774568        3     test            13          5                 15   \n",
       "\n",
       "    days_since_prior_order  \n",
       "26                     NaN  \n",
       "27                     9.0  \n",
       "28                    21.0  \n",
       "29                    20.0  \n",
       "30                    12.0  \n",
       "31                     7.0  \n",
       "32                     7.0  \n",
       "33                     7.0  \n",
       "34                     7.0  \n",
       "35                    17.0  \n",
       "36                    11.0  \n",
       "37                    15.0  \n",
       "38                    11.0  "
      ]
     },
     "execution_count": 55,
     "metadata": {},
     "output_type": "execute_result"
    }
   ],
   "source": [
    "orders[orders['user_id']==3]"
   ]
  },
  {
   "cell_type": "code",
   "execution_count": 56,
   "metadata": {},
   "outputs": [
    {
     "data": {
      "text/html": [
       "<div>\n",
       "<style scoped>\n",
       "    .dataframe tbody tr th:only-of-type {\n",
       "        vertical-align: middle;\n",
       "    }\n",
       "\n",
       "    .dataframe tbody tr th {\n",
       "        vertical-align: top;\n",
       "    }\n",
       "\n",
       "    .dataframe thead th {\n",
       "        text-align: right;\n",
       "    }\n",
       "</style>\n",
       "<table border=\"1\" class=\"dataframe\">\n",
       "  <thead>\n",
       "    <tr style=\"text-align: right;\">\n",
       "      <th></th>\n",
       "      <th>order_id</th>\n",
       "      <th>user_id</th>\n",
       "      <th>eval_set</th>\n",
       "      <th>order_number</th>\n",
       "      <th>order_dow</th>\n",
       "      <th>order_hour_of_day</th>\n",
       "      <th>days_since_prior_order</th>\n",
       "    </tr>\n",
       "  </thead>\n",
       "  <tbody>\n",
       "    <tr>\n",
       "      <th>38</th>\n",
       "      <td>2774568</td>\n",
       "      <td>3</td>\n",
       "      <td>test</td>\n",
       "      <td>13</td>\n",
       "      <td>5</td>\n",
       "      <td>15</td>\n",
       "      <td>11.0</td>\n",
       "    </tr>\n",
       "    <tr>\n",
       "      <th>44</th>\n",
       "      <td>329954</td>\n",
       "      <td>4</td>\n",
       "      <td>test</td>\n",
       "      <td>6</td>\n",
       "      <td>3</td>\n",
       "      <td>12</td>\n",
       "      <td>30.0</td>\n",
       "    </tr>\n",
       "    <tr>\n",
       "      <th>53</th>\n",
       "      <td>1528013</td>\n",
       "      <td>6</td>\n",
       "      <td>test</td>\n",
       "      <td>4</td>\n",
       "      <td>3</td>\n",
       "      <td>16</td>\n",
       "      <td>22.0</td>\n",
       "    </tr>\n",
       "    <tr>\n",
       "      <th>96</th>\n",
       "      <td>1376945</td>\n",
       "      <td>11</td>\n",
       "      <td>test</td>\n",
       "      <td>8</td>\n",
       "      <td>6</td>\n",
       "      <td>11</td>\n",
       "      <td>8.0</td>\n",
       "    </tr>\n",
       "    <tr>\n",
       "      <th>102</th>\n",
       "      <td>1356845</td>\n",
       "      <td>12</td>\n",
       "      <td>test</td>\n",
       "      <td>6</td>\n",
       "      <td>1</td>\n",
       "      <td>20</td>\n",
       "      <td>30.0</td>\n",
       "    </tr>\n",
       "  </tbody>\n",
       "</table>\n",
       "</div>"
      ],
      "text/plain": [
       "     order_id  user_id eval_set  order_number  order_dow  order_hour_of_day  \\\n",
       "38    2774568        3     test            13          5                 15   \n",
       "44     329954        4     test             6          3                 12   \n",
       "53    1528013        6     test             4          3                 16   \n",
       "96    1376945       11     test             8          6                 11   \n",
       "102   1356845       12     test             6          1                 20   \n",
       "\n",
       "     days_since_prior_order  \n",
       "38                     11.0  \n",
       "44                     30.0  \n",
       "53                     22.0  \n",
       "96                      8.0  \n",
       "102                    30.0  "
      ]
     },
     "execution_count": 56,
     "metadata": {},
     "output_type": "execute_result"
    }
   ],
   "source": [
    "# Creating the test set of orders\n",
    "test = orders[orders['eval_set']=='test']\n",
    "test.head()"
   ]
  },
  {
   "cell_type": "code",
   "execution_count": 57,
   "metadata": {},
   "outputs": [
    {
     "data": {
      "text/plain": [
       "Vanilla Unsweetened Almond Milk                    10\n",
       "Organic Avocado                                     9\n",
       "Organic Baby Spinach                                8\n",
       "Unsweetened Chocolate Almond Breeze Almond Milk     5\n",
       "Granny Smith Apples                                 5\n",
       "Garlic Couscous                                     4\n",
       "Organic Peeled Whole Baby Carrots                   4\n",
       "Organic Whole String Cheese                         3\n",
       "Crackers, Crispy, Cheddar                           3\n",
       "Strawberries                                        3\n",
       "All Natural No Stir Creamy Almond Butter            3\n",
       "Organic Lightly Salted Brown Rice Cakes             3\n",
       "Electrolyte Water                                   2\n",
       "Original Rotisserie Chicken                         2\n",
       "Wheat Gluten Free Waffles                           2\n",
       "Chocolate Ice Cream                                 2\n",
       "Green Beans                                         2\n",
       "Brussels Sprouts                                    2\n",
       "Birthday Cake Light Ice Cream                       2\n",
       "Cucumber Kirby                                      1\n",
       "Crunchy Almond Butter                               1\n",
       "Dried Sweetened Cranberries                         1\n",
       "Organic Baby Carrots                                1\n",
       "Organic Strawberries                                1\n",
       "Whole Almonds                                       1\n",
       "100% Recycled Paper Towels                          1\n",
       "Part Skim Ricotta Cheese                            1\n",
       "Chopped Walnuts                                     1\n",
       "Organic Shredded Mozzarella                         1\n",
       "Feta Cheese Crumbles                                1\n",
       "Blueberry Pint                                      1\n",
       "Celery Sticks                                       1\n",
       "China Green Tips Green Tea                          1\n",
       "Name: product_name, dtype: int64"
      ]
     },
     "execution_count": 57,
     "metadata": {},
     "output_type": "execute_result"
    }
   ],
   "source": [
    "# Now I can see everything a particular user has ordered, and how often\n",
    "merged_orders[merged_orders['user_id']==3]['product_name'].value_counts()"
   ]
  },
  {
   "cell_type": "code",
   "execution_count": 11,
   "metadata": {},
   "outputs": [],
   "source": [
    "pickle.dump(merged_orders, open(\"Pickle/merged_orders.p\", \"wb\"))"
   ]
  },
  {
   "cell_type": "markdown",
   "metadata": {},
   "source": [
    "## Clustering\n",
    "\n",
    "See separate notebook"
   ]
  },
  {
   "cell_type": "markdown",
   "metadata": {},
   "source": [
    "## Surprise recommendation model\n",
    "\n",
    "The name SurPRISE (roughly :) ) stands for Simple Python RecommendatIon System Engine."
   ]
  },
  {
   "cell_type": "markdown",
   "metadata": {},
   "source": [
    "### Prepare data for recommendation system"
   ]
  },
  {
   "cell_type": "code",
   "execution_count": 59,
   "metadata": {},
   "outputs": [],
   "source": [
    "# Ok so I need user_id, product_id, and 'number of times it was purchased'\n",
    "user_item = merged_orders[['user_id', 'product_id', 'reordered']] # Maybe I can use the reordered flag to increment"
   ]
  },
  {
   "cell_type": "code",
   "execution_count": 60,
   "metadata": {},
   "outputs": [
    {
     "data": {
      "text/html": [
       "<div>\n",
       "<style scoped>\n",
       "    .dataframe tbody tr th:only-of-type {\n",
       "        vertical-align: middle;\n",
       "    }\n",
       "\n",
       "    .dataframe tbody tr th {\n",
       "        vertical-align: top;\n",
       "    }\n",
       "\n",
       "    .dataframe thead th {\n",
       "        text-align: right;\n",
       "    }\n",
       "</style>\n",
       "<table border=\"1\" class=\"dataframe\">\n",
       "  <thead>\n",
       "    <tr style=\"text-align: right;\">\n",
       "      <th></th>\n",
       "      <th>user_id</th>\n",
       "      <th>product_id</th>\n",
       "      <th>reordered</th>\n",
       "    </tr>\n",
       "  </thead>\n",
       "  <tbody>\n",
       "    <tr>\n",
       "      <th>6</th>\n",
       "      <td>1</td>\n",
       "      <td>196</td>\n",
       "      <td>1</td>\n",
       "    </tr>\n",
       "    <tr>\n",
       "      <th>7</th>\n",
       "      <td>1</td>\n",
       "      <td>26088</td>\n",
       "      <td>1</td>\n",
       "    </tr>\n",
       "    <tr>\n",
       "      <th>10</th>\n",
       "      <td>1</td>\n",
       "      <td>12427</td>\n",
       "      <td>1</td>\n",
       "    </tr>\n",
       "    <tr>\n",
       "      <th>11</th>\n",
       "      <td>1</td>\n",
       "      <td>196</td>\n",
       "      <td>1</td>\n",
       "    </tr>\n",
       "    <tr>\n",
       "      <th>13</th>\n",
       "      <td>1</td>\n",
       "      <td>10258</td>\n",
       "      <td>1</td>\n",
       "    </tr>\n",
       "    <tr>\n",
       "      <th>...</th>\n",
       "      <td>...</td>\n",
       "      <td>...</td>\n",
       "      <td>...</td>\n",
       "    </tr>\n",
       "    <tr>\n",
       "      <th>33819094</th>\n",
       "      <td>206209</td>\n",
       "      <td>16168</td>\n",
       "      <td>1</td>\n",
       "    </tr>\n",
       "    <tr>\n",
       "      <th>33819098</th>\n",
       "      <td>206209</td>\n",
       "      <td>24852</td>\n",
       "      <td>1</td>\n",
       "    </tr>\n",
       "    <tr>\n",
       "      <th>33819099</th>\n",
       "      <td>206209</td>\n",
       "      <td>39216</td>\n",
       "      <td>1</td>\n",
       "    </tr>\n",
       "    <tr>\n",
       "      <th>33819100</th>\n",
       "      <td>206209</td>\n",
       "      <td>9405</td>\n",
       "      <td>1</td>\n",
       "    </tr>\n",
       "    <tr>\n",
       "      <th>33819101</th>\n",
       "      <td>206209</td>\n",
       "      <td>6846</td>\n",
       "      <td>1</td>\n",
       "    </tr>\n",
       "  </tbody>\n",
       "</table>\n",
       "<p>19955360 rows × 3 columns</p>\n",
       "</div>"
      ],
      "text/plain": [
       "          user_id  product_id  reordered\n",
       "6               1         196          1\n",
       "7               1       26088          1\n",
       "10              1       12427          1\n",
       "11              1         196          1\n",
       "13              1       10258          1\n",
       "...           ...         ...        ...\n",
       "33819094   206209       16168          1\n",
       "33819098   206209       24852          1\n",
       "33819099   206209       39216          1\n",
       "33819100   206209        9405          1\n",
       "33819101   206209        6846          1\n",
       "\n",
       "[19955360 rows x 3 columns]"
      ]
     },
     "execution_count": 60,
     "metadata": {},
     "output_type": "execute_result"
    }
   ],
   "source": [
    "# About 20 million duplicates.  That is a person ordering an item more than once.\n",
    "user_item[user_item.duplicated(subset = ['user_id', 'product_id'], keep = 'first')]"
   ]
  },
  {
   "cell_type": "code",
   "execution_count": 61,
   "metadata": {
    "scrolled": true
   },
   "outputs": [
    {
     "data": {
      "text/plain": [
       "196      11\n",
       "12427    10\n",
       "10258    10\n",
       "25133     9\n",
       "46149     4\n",
       "13032     4\n",
       "26088     3\n",
       "26405     3\n",
       "49235     3\n",
       "38928     2\n",
       "13176     2\n",
       "39657     2\n",
       "41787     1\n",
       "27845     1\n",
       "10326     1\n",
       "17122     1\n",
       "35951     1\n",
       "30450     1\n",
       "14084     1\n",
       "Name: product_id, dtype: int64"
      ]
     },
     "execution_count": 61,
     "metadata": {},
     "output_type": "execute_result"
    }
   ],
   "source": [
    "# Ah this is what I need.  The value counts of each product id for each user.\n",
    "\n",
    "user_item[user_item['user_id']==1].product_id.value_counts()"
   ]
  },
  {
   "cell_type": "code",
   "execution_count": 62,
   "metadata": {},
   "outputs": [],
   "source": [
    "# Started at 8:51pm, ended 11:13pm\n",
    "\n",
    "# Creates list of data tuples of user, product, count\n",
    "\n",
    "# data=[]\n",
    "# data_columns=['user_id','product_id','count']\n",
    "# for user in user_item.user_id.unique():\n",
    "#     counts = user_item[user_item['user_id']==user].product_id.value_counts()\n",
    "#     for i in range(len(counts)):\n",
    "#         data.append([user, counts.index[i], counts.values[i]])"
   ]
  },
  {
   "cell_type": "code",
   "execution_count": 63,
   "metadata": {},
   "outputs": [],
   "source": [
    "# Began 11:13pm, ended 11:24\n",
    "\n",
    "# Makes dataframe for recommender\n",
    "\n",
    "# Now I am consolidated down to 13.8 million rows\n",
    "\n",
    "# rec_df = pd.DataFrame(data, columns=data_columns)\n",
    "# rec_df"
   ]
  },
  {
   "cell_type": "code",
   "execution_count": 64,
   "metadata": {},
   "outputs": [],
   "source": [
    "# pickle.dump(rec_df, open(\"Pickle/rec_df.p\", \"wb\"))"
   ]
  },
  {
   "cell_type": "code",
   "execution_count": 4,
   "metadata": {},
   "outputs": [
    {
     "data": {
      "text/plain": [
       "13863746"
      ]
     },
     "execution_count": 4,
     "metadata": {},
     "output_type": "execute_result"
    }
   ],
   "source": [
    "rec_df = pickle.load(open(\"Pickle/rec_df.p\", \"rb\"))\n",
    "len(rec_df)"
   ]
  },
  {
   "cell_type": "code",
   "execution_count": 66,
   "metadata": {
    "scrolled": false
   },
   "outputs": [
    {
     "data": {
      "text/html": [
       "<div>\n",
       "<style scoped>\n",
       "    .dataframe tbody tr th:only-of-type {\n",
       "        vertical-align: middle;\n",
       "    }\n",
       "\n",
       "    .dataframe tbody tr th {\n",
       "        vertical-align: top;\n",
       "    }\n",
       "\n",
       "    .dataframe thead th {\n",
       "        text-align: right;\n",
       "    }\n",
       "</style>\n",
       "<table border=\"1\" class=\"dataframe\">\n",
       "  <thead>\n",
       "    <tr style=\"text-align: right;\">\n",
       "      <th></th>\n",
       "      <th>user_id</th>\n",
       "      <th>product_id</th>\n",
       "      <th>count</th>\n",
       "    </tr>\n",
       "  </thead>\n",
       "  <tbody>\n",
       "    <tr>\n",
       "      <th>0</th>\n",
       "      <td>1</td>\n",
       "      <td>196</td>\n",
       "      <td>11</td>\n",
       "    </tr>\n",
       "    <tr>\n",
       "      <th>1</th>\n",
       "      <td>1</td>\n",
       "      <td>12427</td>\n",
       "      <td>10</td>\n",
       "    </tr>\n",
       "    <tr>\n",
       "      <th>2</th>\n",
       "      <td>1</td>\n",
       "      <td>10258</td>\n",
       "      <td>10</td>\n",
       "    </tr>\n",
       "    <tr>\n",
       "      <th>3</th>\n",
       "      <td>1</td>\n",
       "      <td>25133</td>\n",
       "      <td>9</td>\n",
       "    </tr>\n",
       "    <tr>\n",
       "      <th>4</th>\n",
       "      <td>1</td>\n",
       "      <td>46149</td>\n",
       "      <td>4</td>\n",
       "    </tr>\n",
       "    <tr>\n",
       "      <th>5</th>\n",
       "      <td>1</td>\n",
       "      <td>13032</td>\n",
       "      <td>4</td>\n",
       "    </tr>\n",
       "    <tr>\n",
       "      <th>6</th>\n",
       "      <td>1</td>\n",
       "      <td>26088</td>\n",
       "      <td>3</td>\n",
       "    </tr>\n",
       "    <tr>\n",
       "      <th>7</th>\n",
       "      <td>1</td>\n",
       "      <td>26405</td>\n",
       "      <td>3</td>\n",
       "    </tr>\n",
       "    <tr>\n",
       "      <th>8</th>\n",
       "      <td>1</td>\n",
       "      <td>49235</td>\n",
       "      <td>3</td>\n",
       "    </tr>\n",
       "    <tr>\n",
       "      <th>9</th>\n",
       "      <td>1</td>\n",
       "      <td>38928</td>\n",
       "      <td>2</td>\n",
       "    </tr>\n",
       "    <tr>\n",
       "      <th>10</th>\n",
       "      <td>1</td>\n",
       "      <td>13176</td>\n",
       "      <td>2</td>\n",
       "    </tr>\n",
       "    <tr>\n",
       "      <th>11</th>\n",
       "      <td>1</td>\n",
       "      <td>39657</td>\n",
       "      <td>2</td>\n",
       "    </tr>\n",
       "    <tr>\n",
       "      <th>12</th>\n",
       "      <td>1</td>\n",
       "      <td>41787</td>\n",
       "      <td>1</td>\n",
       "    </tr>\n",
       "    <tr>\n",
       "      <th>13</th>\n",
       "      <td>1</td>\n",
       "      <td>27845</td>\n",
       "      <td>1</td>\n",
       "    </tr>\n",
       "    <tr>\n",
       "      <th>14</th>\n",
       "      <td>1</td>\n",
       "      <td>10326</td>\n",
       "      <td>1</td>\n",
       "    </tr>\n",
       "    <tr>\n",
       "      <th>15</th>\n",
       "      <td>1</td>\n",
       "      <td>17122</td>\n",
       "      <td>1</td>\n",
       "    </tr>\n",
       "    <tr>\n",
       "      <th>16</th>\n",
       "      <td>1</td>\n",
       "      <td>35951</td>\n",
       "      <td>1</td>\n",
       "    </tr>\n",
       "    <tr>\n",
       "      <th>17</th>\n",
       "      <td>1</td>\n",
       "      <td>30450</td>\n",
       "      <td>1</td>\n",
       "    </tr>\n",
       "    <tr>\n",
       "      <th>18</th>\n",
       "      <td>1</td>\n",
       "      <td>14084</td>\n",
       "      <td>1</td>\n",
       "    </tr>\n",
       "  </tbody>\n",
       "</table>\n",
       "</div>"
      ],
      "text/plain": [
       "    user_id  product_id  count\n",
       "0         1         196     11\n",
       "1         1       12427     10\n",
       "2         1       10258     10\n",
       "3         1       25133      9\n",
       "4         1       46149      4\n",
       "5         1       13032      4\n",
       "6         1       26088      3\n",
       "7         1       26405      3\n",
       "8         1       49235      3\n",
       "9         1       38928      2\n",
       "10        1       13176      2\n",
       "11        1       39657      2\n",
       "12        1       41787      1\n",
       "13        1       27845      1\n",
       "14        1       10326      1\n",
       "15        1       17122      1\n",
       "16        1       35951      1\n",
       "17        1       30450      1\n",
       "18        1       14084      1"
      ]
     },
     "execution_count": 66,
     "metadata": {},
     "output_type": "execute_result"
    }
   ],
   "source": [
    "rec_df[rec_df['user_id']==1]"
   ]
  },
  {
   "cell_type": "code",
   "execution_count": 67,
   "metadata": {},
   "outputs": [
    {
     "data": {
      "text/plain": [
       "100"
      ]
     },
     "execution_count": 67,
     "metadata": {},
     "output_type": "execute_result"
    }
   ],
   "source": [
    "#  Hmm. No one bought anything more than 100 times.  Is that coincidental?\n",
    "\n",
    "rec_df['count'].max()"
   ]
  },
  {
   "cell_type": "code",
   "execution_count": 68,
   "metadata": {
    "scrolled": true
   },
   "outputs": [
    {
     "data": {
      "text/plain": [
       "1      8299266\n",
       "2      2296606\n",
       "3      1074345\n",
       "4       612369\n",
       "5       384418\n",
       "        ...   \n",
       "94           5\n",
       "97           4\n",
       "99           4\n",
       "100          3\n",
       "98           2\n",
       "Name: count, Length: 100, dtype: int64"
      ]
     },
     "execution_count": 68,
     "metadata": {},
     "output_type": "execute_result"
    }
   ],
   "source": [
    "# 8.3 million user/product combinations happened only once\n",
    "\n",
    "rec_df['count'].value_counts()"
   ]
  },
  {
   "cell_type": "code",
   "execution_count": 70,
   "metadata": {},
   "outputs": [],
   "source": [
    "# In case I want a smaller subset of users I'll build users_150K\n",
    "# But I wonder if pulling out items only ordered once or users who only ordered once would be better\n",
    "\n",
    "users_150K = rec_df[rec_df['user_id'] < 150000]"
   ]
  },
  {
   "cell_type": "code",
   "execution_count": 71,
   "metadata": {},
   "outputs": [
    {
     "data": {
      "text/html": [
       "<div>\n",
       "<style scoped>\n",
       "    .dataframe tbody tr th:only-of-type {\n",
       "        vertical-align: middle;\n",
       "    }\n",
       "\n",
       "    .dataframe tbody tr th {\n",
       "        vertical-align: top;\n",
       "    }\n",
       "\n",
       "    .dataframe thead th {\n",
       "        text-align: right;\n",
       "    }\n",
       "</style>\n",
       "<table border=\"1\" class=\"dataframe\">\n",
       "  <thead>\n",
       "    <tr style=\"text-align: right;\">\n",
       "      <th></th>\n",
       "      <th>num_orders</th>\n",
       "      <th>mode_order_dow</th>\n",
       "      <th>median_order_hour</th>\n",
       "      <th>mean_days_since</th>\n",
       "      <th>aisle_air fresheners candles</th>\n",
       "      <th>aisle_asian foods</th>\n",
       "      <th>aisle_baby accessories</th>\n",
       "      <th>aisle_baby bath body care</th>\n",
       "      <th>aisle_baby food formula</th>\n",
       "      <th>aisle_bakery desserts</th>\n",
       "      <th>...</th>\n",
       "      <th>aisle_spreads</th>\n",
       "      <th>aisle_tea</th>\n",
       "      <th>aisle_tofu meat alternatives</th>\n",
       "      <th>aisle_tortillas flat bread</th>\n",
       "      <th>aisle_trail mix snack mix</th>\n",
       "      <th>aisle_trash bags liners</th>\n",
       "      <th>aisle_vitamins supplements</th>\n",
       "      <th>aisle_water seltzer sparkling water</th>\n",
       "      <th>aisle_white wines</th>\n",
       "      <th>aisle_yogurt</th>\n",
       "    </tr>\n",
       "    <tr>\n",
       "      <th>user_id</th>\n",
       "      <th></th>\n",
       "      <th></th>\n",
       "      <th></th>\n",
       "      <th></th>\n",
       "      <th></th>\n",
       "      <th></th>\n",
       "      <th></th>\n",
       "      <th></th>\n",
       "      <th></th>\n",
       "      <th></th>\n",
       "      <th></th>\n",
       "      <th></th>\n",
       "      <th></th>\n",
       "      <th></th>\n",
       "      <th></th>\n",
       "      <th></th>\n",
       "      <th></th>\n",
       "      <th></th>\n",
       "      <th></th>\n",
       "      <th></th>\n",
       "      <th></th>\n",
       "    </tr>\n",
       "  </thead>\n",
       "  <tbody>\n",
       "    <tr>\n",
       "      <th>4</th>\n",
       "      <td>5</td>\n",
       "      <td>4</td>\n",
       "      <td>13.0</td>\n",
       "      <td>15.357143</td>\n",
       "      <td>0.0</td>\n",
       "      <td>0.0</td>\n",
       "      <td>0.0</td>\n",
       "      <td>0.0</td>\n",
       "      <td>0.0</td>\n",
       "      <td>0.0</td>\n",
       "      <td>...</td>\n",
       "      <td>0.0</td>\n",
       "      <td>0.0</td>\n",
       "      <td>0.0</td>\n",
       "      <td>1.0</td>\n",
       "      <td>0.0</td>\n",
       "      <td>0.0</td>\n",
       "      <td>0.0</td>\n",
       "      <td>1.0</td>\n",
       "      <td>0.0</td>\n",
       "      <td>0.0</td>\n",
       "    </tr>\n",
       "    <tr>\n",
       "      <th>5</th>\n",
       "      <td>5</td>\n",
       "      <td>0</td>\n",
       "      <td>16.0</td>\n",
       "      <td>12.314286</td>\n",
       "      <td>1.0</td>\n",
       "      <td>4.0</td>\n",
       "      <td>0.0</td>\n",
       "      <td>0.0</td>\n",
       "      <td>0.0</td>\n",
       "      <td>0.0</td>\n",
       "      <td>...</td>\n",
       "      <td>0.0</td>\n",
       "      <td>0.0</td>\n",
       "      <td>0.0</td>\n",
       "      <td>0.0</td>\n",
       "      <td>0.0</td>\n",
       "      <td>0.0</td>\n",
       "      <td>0.0</td>\n",
       "      <td>0.0</td>\n",
       "      <td>0.0</td>\n",
       "      <td>3.0</td>\n",
       "    </tr>\n",
       "    <tr>\n",
       "      <th>6</th>\n",
       "      <td>3</td>\n",
       "      <td>4</td>\n",
       "      <td>17.0</td>\n",
       "      <td>7.800000</td>\n",
       "      <td>0.0</td>\n",
       "      <td>0.0</td>\n",
       "      <td>0.0</td>\n",
       "      <td>0.0</td>\n",
       "      <td>0.0</td>\n",
       "      <td>0.0</td>\n",
       "      <td>...</td>\n",
       "      <td>0.0</td>\n",
       "      <td>0.0</td>\n",
       "      <td>0.0</td>\n",
       "      <td>0.0</td>\n",
       "      <td>0.0</td>\n",
       "      <td>0.0</td>\n",
       "      <td>0.0</td>\n",
       "      <td>0.0</td>\n",
       "      <td>0.0</td>\n",
       "      <td>0.0</td>\n",
       "    </tr>\n",
       "    <tr>\n",
       "      <th>8</th>\n",
       "      <td>4</td>\n",
       "      <td>1</td>\n",
       "      <td>0.0</td>\n",
       "      <td>22.173913</td>\n",
       "      <td>0.0</td>\n",
       "      <td>1.0</td>\n",
       "      <td>0.0</td>\n",
       "      <td>0.0</td>\n",
       "      <td>0.0</td>\n",
       "      <td>0.0</td>\n",
       "      <td>...</td>\n",
       "      <td>0.0</td>\n",
       "      <td>0.0</td>\n",
       "      <td>1.0</td>\n",
       "      <td>1.0</td>\n",
       "      <td>0.0</td>\n",
       "      <td>0.0</td>\n",
       "      <td>0.0</td>\n",
       "      <td>0.0</td>\n",
       "      <td>0.0</td>\n",
       "      <td>0.0</td>\n",
       "    </tr>\n",
       "    <tr>\n",
       "      <th>9</th>\n",
       "      <td>4</td>\n",
       "      <td>5</td>\n",
       "      <td>12.0</td>\n",
       "      <td>26.117647</td>\n",
       "      <td>0.0</td>\n",
       "      <td>0.0</td>\n",
       "      <td>0.0</td>\n",
       "      <td>0.0</td>\n",
       "      <td>6.0</td>\n",
       "      <td>0.0</td>\n",
       "      <td>...</td>\n",
       "      <td>0.0</td>\n",
       "      <td>0.0</td>\n",
       "      <td>0.0</td>\n",
       "      <td>0.0</td>\n",
       "      <td>0.0</td>\n",
       "      <td>0.0</td>\n",
       "      <td>0.0</td>\n",
       "      <td>3.0</td>\n",
       "      <td>0.0</td>\n",
       "      <td>28.0</td>\n",
       "    </tr>\n",
       "    <tr>\n",
       "      <th>...</th>\n",
       "      <td>...</td>\n",
       "      <td>...</td>\n",
       "      <td>...</td>\n",
       "      <td>...</td>\n",
       "      <td>...</td>\n",
       "      <td>...</td>\n",
       "      <td>...</td>\n",
       "      <td>...</td>\n",
       "      <td>...</td>\n",
       "      <td>...</td>\n",
       "      <td>...</td>\n",
       "      <td>...</td>\n",
       "      <td>...</td>\n",
       "      <td>...</td>\n",
       "      <td>...</td>\n",
       "      <td>...</td>\n",
       "      <td>...</td>\n",
       "      <td>...</td>\n",
       "      <td>...</td>\n",
       "      <td>...</td>\n",
       "      <td>...</td>\n",
       "    </tr>\n",
       "    <tr>\n",
       "      <th>206184</th>\n",
       "      <td>5</td>\n",
       "      <td>2</td>\n",
       "      <td>11.0</td>\n",
       "      <td>24.705882</td>\n",
       "      <td>0.0</td>\n",
       "      <td>1.0</td>\n",
       "      <td>0.0</td>\n",
       "      <td>0.0</td>\n",
       "      <td>0.0</td>\n",
       "      <td>0.0</td>\n",
       "      <td>...</td>\n",
       "      <td>0.0</td>\n",
       "      <td>0.0</td>\n",
       "      <td>0.0</td>\n",
       "      <td>0.0</td>\n",
       "      <td>0.0</td>\n",
       "      <td>0.0</td>\n",
       "      <td>0.0</td>\n",
       "      <td>0.0</td>\n",
       "      <td>0.0</td>\n",
       "      <td>0.0</td>\n",
       "    </tr>\n",
       "    <tr>\n",
       "      <th>206186</th>\n",
       "      <td>4</td>\n",
       "      <td>6</td>\n",
       "      <td>15.0</td>\n",
       "      <td>16.200000</td>\n",
       "      <td>0.0</td>\n",
       "      <td>0.0</td>\n",
       "      <td>0.0</td>\n",
       "      <td>0.0</td>\n",
       "      <td>0.0</td>\n",
       "      <td>0.0</td>\n",
       "      <td>...</td>\n",
       "      <td>1.0</td>\n",
       "      <td>0.0</td>\n",
       "      <td>0.0</td>\n",
       "      <td>0.0</td>\n",
       "      <td>0.0</td>\n",
       "      <td>0.0</td>\n",
       "      <td>0.0</td>\n",
       "      <td>4.0</td>\n",
       "      <td>0.0</td>\n",
       "      <td>0.0</td>\n",
       "    </tr>\n",
       "    <tr>\n",
       "      <th>206196</th>\n",
       "      <td>5</td>\n",
       "      <td>6</td>\n",
       "      <td>15.0</td>\n",
       "      <td>25.569767</td>\n",
       "      <td>0.0</td>\n",
       "      <td>0.0</td>\n",
       "      <td>0.0</td>\n",
       "      <td>0.0</td>\n",
       "      <td>0.0</td>\n",
       "      <td>0.0</td>\n",
       "      <td>...</td>\n",
       "      <td>1.0</td>\n",
       "      <td>1.0</td>\n",
       "      <td>0.0</td>\n",
       "      <td>0.0</td>\n",
       "      <td>0.0</td>\n",
       "      <td>0.0</td>\n",
       "      <td>1.0</td>\n",
       "      <td>7.0</td>\n",
       "      <td>0.0</td>\n",
       "      <td>0.0</td>\n",
       "    </tr>\n",
       "    <tr>\n",
       "      <th>206204</th>\n",
       "      <td>4</td>\n",
       "      <td>5</td>\n",
       "      <td>12.5</td>\n",
       "      <td>15.638298</td>\n",
       "      <td>0.0</td>\n",
       "      <td>2.0</td>\n",
       "      <td>0.0</td>\n",
       "      <td>0.0</td>\n",
       "      <td>0.0</td>\n",
       "      <td>0.0</td>\n",
       "      <td>...</td>\n",
       "      <td>1.0</td>\n",
       "      <td>0.0</td>\n",
       "      <td>0.0</td>\n",
       "      <td>1.0</td>\n",
       "      <td>0.0</td>\n",
       "      <td>0.0</td>\n",
       "      <td>0.0</td>\n",
       "      <td>0.0</td>\n",
       "      <td>0.0</td>\n",
       "      <td>2.0</td>\n",
       "    </tr>\n",
       "    <tr>\n",
       "      <th>206205</th>\n",
       "      <td>4</td>\n",
       "      <td>1</td>\n",
       "      <td>16.0</td>\n",
       "      <td>14.705882</td>\n",
       "      <td>0.0</td>\n",
       "      <td>0.0</td>\n",
       "      <td>1.0</td>\n",
       "      <td>0.0</td>\n",
       "      <td>0.0</td>\n",
       "      <td>0.0</td>\n",
       "      <td>...</td>\n",
       "      <td>0.0</td>\n",
       "      <td>0.0</td>\n",
       "      <td>0.0</td>\n",
       "      <td>0.0</td>\n",
       "      <td>0.0</td>\n",
       "      <td>0.0</td>\n",
       "      <td>0.0</td>\n",
       "      <td>0.0</td>\n",
       "      <td>0.0</td>\n",
       "      <td>9.0</td>\n",
       "    </tr>\n",
       "  </tbody>\n",
       "</table>\n",
       "<p>49404 rows × 138 columns</p>\n",
       "</div>"
      ],
      "text/plain": [
       "         num_orders  mode_order_dow  median_order_hour  mean_days_since  \\\n",
       "user_id                                                                   \n",
       "4                 5               4               13.0        15.357143   \n",
       "5                 5               0               16.0        12.314286   \n",
       "6                 3               4               17.0         7.800000   \n",
       "8                 4               1                0.0        22.173913   \n",
       "9                 4               5               12.0        26.117647   \n",
       "...             ...             ...                ...              ...   \n",
       "206184            5               2               11.0        24.705882   \n",
       "206186            4               6               15.0        16.200000   \n",
       "206196            5               6               15.0        25.569767   \n",
       "206204            4               5               12.5        15.638298   \n",
       "206205            4               1               16.0        14.705882   \n",
       "\n",
       "         aisle_air fresheners candles  aisle_asian foods  \\\n",
       "user_id                                                    \n",
       "4                                 0.0                0.0   \n",
       "5                                 1.0                4.0   \n",
       "6                                 0.0                0.0   \n",
       "8                                 0.0                1.0   \n",
       "9                                 0.0                0.0   \n",
       "...                               ...                ...   \n",
       "206184                            0.0                1.0   \n",
       "206186                            0.0                0.0   \n",
       "206196                            0.0                0.0   \n",
       "206204                            0.0                2.0   \n",
       "206205                            0.0                0.0   \n",
       "\n",
       "         aisle_baby accessories  aisle_baby bath body care  \\\n",
       "user_id                                                      \n",
       "4                           0.0                        0.0   \n",
       "5                           0.0                        0.0   \n",
       "6                           0.0                        0.0   \n",
       "8                           0.0                        0.0   \n",
       "9                           0.0                        0.0   \n",
       "...                         ...                        ...   \n",
       "206184                      0.0                        0.0   \n",
       "206186                      0.0                        0.0   \n",
       "206196                      0.0                        0.0   \n",
       "206204                      0.0                        0.0   \n",
       "206205                      1.0                        0.0   \n",
       "\n",
       "         aisle_baby food formula  aisle_bakery desserts  ...  aisle_spreads  \\\n",
       "user_id                                                  ...                  \n",
       "4                            0.0                    0.0  ...            0.0   \n",
       "5                            0.0                    0.0  ...            0.0   \n",
       "6                            0.0                    0.0  ...            0.0   \n",
       "8                            0.0                    0.0  ...            0.0   \n",
       "9                            6.0                    0.0  ...            0.0   \n",
       "...                          ...                    ...  ...            ...   \n",
       "206184                       0.0                    0.0  ...            0.0   \n",
       "206186                       0.0                    0.0  ...            1.0   \n",
       "206196                       0.0                    0.0  ...            1.0   \n",
       "206204                       0.0                    0.0  ...            1.0   \n",
       "206205                       0.0                    0.0  ...            0.0   \n",
       "\n",
       "         aisle_tea  aisle_tofu meat alternatives  aisle_tortillas flat bread  \\\n",
       "user_id                                                                        \n",
       "4              0.0                           0.0                         1.0   \n",
       "5              0.0                           0.0                         0.0   \n",
       "6              0.0                           0.0                         0.0   \n",
       "8              0.0                           1.0                         1.0   \n",
       "9              0.0                           0.0                         0.0   \n",
       "...            ...                           ...                         ...   \n",
       "206184         0.0                           0.0                         0.0   \n",
       "206186         0.0                           0.0                         0.0   \n",
       "206196         1.0                           0.0                         0.0   \n",
       "206204         0.0                           0.0                         1.0   \n",
       "206205         0.0                           0.0                         0.0   \n",
       "\n",
       "         aisle_trail mix snack mix  aisle_trash bags liners  \\\n",
       "user_id                                                       \n",
       "4                              0.0                      0.0   \n",
       "5                              0.0                      0.0   \n",
       "6                              0.0                      0.0   \n",
       "8                              0.0                      0.0   \n",
       "9                              0.0                      0.0   \n",
       "...                            ...                      ...   \n",
       "206184                         0.0                      0.0   \n",
       "206186                         0.0                      0.0   \n",
       "206196                         0.0                      0.0   \n",
       "206204                         0.0                      0.0   \n",
       "206205                         0.0                      0.0   \n",
       "\n",
       "         aisle_vitamins supplements  aisle_water seltzer sparkling water  \\\n",
       "user_id                                                                    \n",
       "4                               0.0                                  1.0   \n",
       "5                               0.0                                  0.0   \n",
       "6                               0.0                                  0.0   \n",
       "8                               0.0                                  0.0   \n",
       "9                               0.0                                  3.0   \n",
       "...                             ...                                  ...   \n",
       "206184                          0.0                                  0.0   \n",
       "206186                          0.0                                  4.0   \n",
       "206196                          1.0                                  7.0   \n",
       "206204                          0.0                                  0.0   \n",
       "206205                          0.0                                  0.0   \n",
       "\n",
       "         aisle_white wines  aisle_yogurt  \n",
       "user_id                                   \n",
       "4                      0.0           0.0  \n",
       "5                      0.0           3.0  \n",
       "6                      0.0           0.0  \n",
       "8                      0.0           0.0  \n",
       "9                      0.0          28.0  \n",
       "...                    ...           ...  \n",
       "206184                 0.0           0.0  \n",
       "206186                 0.0           0.0  \n",
       "206196                 0.0           0.0  \n",
       "206204                 0.0           2.0  \n",
       "206205                 0.0           9.0  \n",
       "\n",
       "[49404 rows x 138 columns]"
      ]
     },
     "execution_count": 71,
     "metadata": {},
     "output_type": "execute_result"
    }
   ],
   "source": [
    "# Might be better by eliminating users with few products ordered instead of few orders\n",
    "# Grouped_users is fromm the clustering notebook\n",
    "# Need to recalculate this\n",
    "grouped_users = pickle.load(open(\"Pickle/grouped_users.p\", \"rb\"))\n",
    "grouped_users[grouped_users['num_orders']<=5] # 49000 users with 5 or fewer orders"
   ]
  },
  {
   "cell_type": "code",
   "execution_count": 72,
   "metadata": {
    "scrolled": false
   },
   "outputs": [
    {
     "data": {
      "text/html": [
       "<div>\n",
       "<style scoped>\n",
       "    .dataframe tbody tr th:only-of-type {\n",
       "        vertical-align: middle;\n",
       "    }\n",
       "\n",
       "    .dataframe tbody tr th {\n",
       "        vertical-align: top;\n",
       "    }\n",
       "\n",
       "    .dataframe thead th {\n",
       "        text-align: right;\n",
       "    }\n",
       "</style>\n",
       "<table border=\"1\" class=\"dataframe\">\n",
       "  <thead>\n",
       "    <tr style=\"text-align: right;\">\n",
       "      <th></th>\n",
       "      <th>count</th>\n",
       "    </tr>\n",
       "    <tr>\n",
       "      <th>product_id</th>\n",
       "      <th></th>\n",
       "    </tr>\n",
       "  </thead>\n",
       "  <tbody>\n",
       "    <tr>\n",
       "      <th>36233</th>\n",
       "      <td>1</td>\n",
       "    </tr>\n",
       "    <tr>\n",
       "      <th>11254</th>\n",
       "      <td>1</td>\n",
       "    </tr>\n",
       "    <tr>\n",
       "      <th>43098</th>\n",
       "      <td>1</td>\n",
       "    </tr>\n",
       "    <tr>\n",
       "      <th>14485</th>\n",
       "      <td>1</td>\n",
       "    </tr>\n",
       "    <tr>\n",
       "      <th>7626</th>\n",
       "      <td>1</td>\n",
       "    </tr>\n",
       "    <tr>\n",
       "      <th>...</th>\n",
       "      <td>...</td>\n",
       "    </tr>\n",
       "    <tr>\n",
       "      <th>8009</th>\n",
       "      <td>5</td>\n",
       "    </tr>\n",
       "    <tr>\n",
       "      <th>45085</th>\n",
       "      <td>5</td>\n",
       "    </tr>\n",
       "    <tr>\n",
       "      <th>6525</th>\n",
       "      <td>5</td>\n",
       "    </tr>\n",
       "    <tr>\n",
       "      <th>23068</th>\n",
       "      <td>5</td>\n",
       "    </tr>\n",
       "    <tr>\n",
       "      <th>40766</th>\n",
       "      <td>5</td>\n",
       "    </tr>\n",
       "  </tbody>\n",
       "</table>\n",
       "<p>2741 rows × 1 columns</p>\n",
       "</div>"
      ],
      "text/plain": [
       "            count\n",
       "product_id       \n",
       "36233           1\n",
       "11254           1\n",
       "43098           1\n",
       "14485           1\n",
       "7626            1\n",
       "...           ...\n",
       "8009            5\n",
       "45085           5\n",
       "6525            5\n",
       "23068           5\n",
       "40766           5\n",
       "\n",
       "[2741 rows x 1 columns]"
      ]
     },
     "execution_count": 72,
     "metadata": {},
     "output_type": "execute_result"
    }
   ],
   "source": [
    "products_with_count = rec_df.groupby('product_id').sum().drop(columns='user_id').sort_values(by='count')\n",
    "products_with_count[products_with_count['count']<=5]  # 2741 products ordered 5 times or less"
   ]
  },
  {
   "cell_type": "markdown",
   "metadata": {},
   "source": [
    "### Modeling a recommendation system"
   ]
  },
  {
   "cell_type": "code",
   "execution_count": 2,
   "metadata": {},
   "outputs": [],
   "source": [
    "from surprise import NormalPredictor\n",
    "from surprise import Dataset\n",
    "from surprise import Reader\n",
    "from surprise.model_selection import cross_validate\n",
    "from surprise import SVD\n",
    "from surprise import KNNBaseline\n",
    "from surprise import KNNBasic\n",
    "from surprise.model_selection import train_test_split\n",
    "from surprise.prediction_algorithms import knns\n",
    "from surprise.similarities import cosine, msd, pearson\n",
    "from surprise.prediction_algorithms import SVD, SVDpp\n",
    "from surprise.model_selection import GridSearchCV\n",
    "from surprise import accuracy"
   ]
  },
  {
   "cell_type": "code",
   "execution_count": 14,
   "metadata": {},
   "outputs": [],
   "source": [
    "# A reader is still needed but only the rating_scale param is required.\n",
    "reader = Reader(rating_scale=(1, 100))\n",
    "\n",
    "# The columns must correspond to user id, item id and ratings (in that order).\n",
    "rec_data = Dataset.load_from_df(rec_df, reader)\n",
    "\n",
    "# sample random trainset and testset\n",
    "# test set is made of 25% of the ratings.\n",
    "trainset, testset = train_test_split(rec_data, test_size=.25, random_state=12)"
   ]
  },
  {
   "cell_type": "code",
   "execution_count": 75,
   "metadata": {},
   "outputs": [],
   "source": [
    "# Start with a memory-based model\n",
    "\n",
    "# These just take up too much memory for the size of my data.  Moving on to model-based.\n",
    "\n",
    "# sim_cos = {'name':'cosine', 'user_based':False}\n",
    "\n",
    "# tic = time.time()\n",
    "\n",
    "# basic = knns.KNNBasic(sim_options=sim_cos)\n",
    "# basic.fit(trainset)\n",
    "\n",
    "# fit_time = time.time()-tic\n",
    "# print('fit ', fit_time)"
   ]
  },
  {
   "cell_type": "code",
   "execution_count": 76,
   "metadata": {
    "scrolled": true
   },
   "outputs": [
    {
     "data": {
      "text/plain": [
       "\"tic = time.time()\\n\\nsvd_algo = SVD()\\n\\nsvd_algo.fit(trainset)\\n\\nfit_time = time.time()-tic\\nprint('fit ', fit_time)\\ntoc = time.time()\\n\\nsvd_algo_predictions = svd_algo.test(testset)\\n\\npred_time = time.time()-toc\\nprint('pred ', pred_time)\\n\\n# Then compute RMSE\\naccuracy.rmse(svd_algo_predictions)\""
      ]
     },
     "execution_count": 76,
     "metadata": {},
     "output_type": "execute_result"
    }
   ],
   "source": [
    "# Can't believe I got this to work on the whole data set\n",
    "\n",
    "'''tic = time.time()\n",
    "\n",
    "svd_algo = SVD()\n",
    "\n",
    "svd_algo.fit(trainset)\n",
    "\n",
    "fit_time = time.time()-tic\n",
    "print('fit ', fit_time)\n",
    "toc = time.time()\n",
    "\n",
    "svd_algo_predictions = svd_algo.test(testset)\n",
    "\n",
    "pred_time = time.time()-toc\n",
    "print('pred ', pred_time)\n",
    "\n",
    "# Then compute RMSE\n",
    "accuracy.rmse(svd_algo_predictions)'''\n",
    "\n",
    "# 3.46 RMSE on a scale of 1-100 is pretty darn good, but my data is so skewed it may be misleading."
   ]
  },
  {
   "cell_type": "code",
   "execution_count": 77,
   "metadata": {},
   "outputs": [],
   "source": [
    "# pickle.dump(svd_algo, open(\"Pickle/svd_algo.p\", \"wb\"))"
   ]
  },
  {
   "cell_type": "code",
   "execution_count": 78,
   "metadata": {},
   "outputs": [],
   "source": [
    "# pickle.dump(svd_algo_predictions, open(\"Pickle/svd_algo_predictions.p\", \"wb\"))"
   ]
  },
  {
   "cell_type": "code",
   "execution_count": 79,
   "metadata": {},
   "outputs": [],
   "source": [
    "svd_algo = pickle.load(open(\"Pickle/svd_algo.p\", \"rb\"))"
   ]
  },
  {
   "cell_type": "code",
   "execution_count": 80,
   "metadata": {},
   "outputs": [],
   "source": [
    "svd_algo_predictions = pickle.load(open(\"Pickle/svd_algo_predictions.p\", \"rb\"))"
   ]
  },
  {
   "cell_type": "code",
   "execution_count": 81,
   "metadata": {},
   "outputs": [
    {
     "name": "stdout",
     "output_type": "stream",
     "text": [
      "RMSE: 3.4616\n"
     ]
    },
    {
     "data": {
      "text/plain": [
       "3.4615887522647553"
      ]
     },
     "execution_count": 81,
     "metadata": {},
     "output_type": "execute_result"
    }
   ],
   "source": [
    "accuracy.rmse(svd_algo_predictions)"
   ]
  },
  {
   "cell_type": "code",
   "execution_count": 82,
   "metadata": {
    "scrolled": false
   },
   "outputs": [
    {
     "data": {
      "text/html": [
       "<div>\n",
       "<style scoped>\n",
       "    .dataframe tbody tr th:only-of-type {\n",
       "        vertical-align: middle;\n",
       "    }\n",
       "\n",
       "    .dataframe tbody tr th {\n",
       "        vertical-align: top;\n",
       "    }\n",
       "\n",
       "    .dataframe thead th {\n",
       "        text-align: right;\n",
       "    }\n",
       "</style>\n",
       "<table border=\"1\" class=\"dataframe\">\n",
       "  <thead>\n",
       "    <tr style=\"text-align: right;\">\n",
       "      <th></th>\n",
       "      <th>user_id</th>\n",
       "      <th>product_id</th>\n",
       "      <th>count</th>\n",
       "    </tr>\n",
       "  </thead>\n",
       "  <tbody>\n",
       "    <tr>\n",
       "      <th>12354</th>\n",
       "      <td>196</td>\n",
       "      <td>13176</td>\n",
       "      <td>2</td>\n",
       "    </tr>\n",
       "    <tr>\n",
       "      <th>12355</th>\n",
       "      <td>196</td>\n",
       "      <td>1957</td>\n",
       "      <td>1</td>\n",
       "    </tr>\n",
       "  </tbody>\n",
       "</table>\n",
       "</div>"
      ],
      "text/plain": [
       "       user_id  product_id  count\n",
       "12354      196       13176      2\n",
       "12355      196        1957      1"
      ]
     },
     "execution_count": 82,
     "metadata": {},
     "output_type": "execute_result"
    }
   ],
   "source": [
    "# Picking a random user to look at one of their ratings\n",
    "\n",
    "rec_df[rec_df['user_id'] == 196]"
   ]
  },
  {
   "cell_type": "code",
   "execution_count": 83,
   "metadata": {},
   "outputs": [
    {
     "name": "stdout",
     "output_type": "stream",
     "text": [
      "user: 196        item: 13176      r_ui = 2.00   est = 1.77   {'was_impossible': False}\n"
     ]
    }
   ],
   "source": [
    "uid=196\n",
    "iid=13176\n",
    "# actual value was 2, prediction is 1.77\n",
    "pred = svd_algo.predict(uid, iid, r_ui=2, verbose=True)"
   ]
  },
  {
   "cell_type": "code",
   "execution_count": 84,
   "metadata": {},
   "outputs": [
    {
     "data": {
      "text/plain": [
       "(127895, 6101, 2.0)"
      ]
     },
     "execution_count": 84,
     "metadata": {},
     "output_type": "execute_result"
    }
   ],
   "source": [
    "# Examining the first record in my test set for its actual value\n",
    "testset[0]"
   ]
  },
  {
   "cell_type": "code",
   "execution_count": 85,
   "metadata": {},
   "outputs": [
    {
     "name": "stdout",
     "output_type": "stream",
     "text": [
      "user: 127895     item: 6101       r_ui = 2.00   est = 1.15   {'was_impossible': False}\n"
     ]
    }
   ],
   "source": [
    "# Prediction is 1.15\n",
    "pred = svd_algo.predict(127895, 6101, r_ui=2, verbose=True)"
   ]
  },
  {
   "cell_type": "code",
   "execution_count": 86,
   "metadata": {},
   "outputs": [
    {
     "data": {
      "text/plain": [
       "Prediction(uid=127895, iid=6101, r_ui=2.0, est=1.1531549806442887, details={'was_impossible': False})"
      ]
     },
     "execution_count": 86,
     "metadata": {},
     "output_type": "execute_result"
    }
   ],
   "source": [
    "svd_algo_predictions[0]"
   ]
  },
  {
   "cell_type": "markdown",
   "metadata": {},
   "source": [
    "### Perform a grid search"
   ]
  },
  {
   "cell_type": "code",
   "execution_count": 99,
   "metadata": {},
   "outputs": [],
   "source": [
    "# Started at 6:45pm, ended at 9:30\n",
    "\n",
    "# param_grid = {'n_factors':[20, 100],'n_epochs': [5, 10], 'lr_all': [0.002, 0.005],\n",
    "#               'reg_all': [0.4, 0.6]}\n",
    "# gs_model = GridSearchCV(SVD, param_grid=param_grid, n_jobs = -1, joblib_verbose=5)\n",
    "# gs_model.fit(rec_data)"
   ]
  },
  {
   "cell_type": "code",
   "execution_count": 94,
   "metadata": {},
   "outputs": [],
   "source": [
    "# pickle.dump(gs_model, open(\"Pickle/gs_model.p\", \"wb\"))"
   ]
  },
  {
   "cell_type": "code",
   "execution_count": 95,
   "metadata": {},
   "outputs": [],
   "source": [
    "gs_model = pickle.load(open(\"Pickle/gs_model.p\", \"rb\"))"
   ]
  },
  {
   "cell_type": "code",
   "execution_count": 96,
   "metadata": {
    "scrolled": true
   },
   "outputs": [
    {
     "data": {
      "text/plain": [
       "{'rmse': {'n_factors': 100, 'n_epochs': 10, 'lr_all': 0.005, 'reg_all': 0.4},\n",
       " 'mae': {'n_factors': 100, 'n_epochs': 10, 'lr_all': 0.005, 'reg_all': 0.4}}"
      ]
     },
     "execution_count": 96,
     "metadata": {},
     "output_type": "execute_result"
    }
   ],
   "source": [
    "gs_model.best_params"
   ]
  },
  {
   "cell_type": "code",
   "execution_count": 97,
   "metadata": {},
   "outputs": [],
   "source": [
    "results_df = pd.DataFrame.from_dict(gs_model.cv_results)"
   ]
  },
  {
   "cell_type": "code",
   "execution_count": 98,
   "metadata": {},
   "outputs": [
    {
     "name": "stdout",
     "output_type": "stream",
     "text": [
      "fit  323.62454080581665\n",
      "pred  107.7913568019867\n",
      "RMSE: 3.2478\n"
     ]
    },
    {
     "data": {
      "text/plain": [
       "3.2478170587039923"
      ]
     },
     "execution_count": 98,
     "metadata": {},
     "output_type": "execute_result"
    }
   ],
   "source": [
    "# Creating the model from the best params\n",
    "\n",
    "tic = time.time()\n",
    "\n",
    "svd_best_gs = SVD(n_factors = 100, n_epochs = 10, lr_all = 0.005, reg_all = 0.4)\n",
    "\n",
    "svd_best_gs.fit(trainset)\n",
    "\n",
    "fit_time = time.time()-tic\n",
    "print('fit ', fit_time)\n",
    "toc = time.time()\n",
    "\n",
    "svd_best_gs_predictions = svd_best_gs.test(testset)\n",
    "\n",
    "pred_time = time.time()-toc\n",
    "print('pred ', pred_time)\n",
    "\n",
    "# Then compute RMSE\n",
    "accuracy.rmse(svd_best_gs_predictions)\n",
    "\n",
    "# RMSE went down on grid search model from 3.4616 to 3.2483"
   ]
  },
  {
   "cell_type": "markdown",
   "metadata": {},
   "source": [
    "### Try a different rating scale"
   ]
  },
  {
   "cell_type": "code",
   "execution_count": 100,
   "metadata": {},
   "outputs": [
    {
     "data": {
      "text/plain": [
       "(41356, 38652, 100.0)"
      ]
     },
     "execution_count": 100,
     "metadata": {},
     "output_type": "execute_result"
    }
   ],
   "source": [
    "# I am curious how the model predicts one of the items purchased 100 times\n",
    "\n",
    "max(testset,key=lambda item:item[2])"
   ]
  },
  {
   "cell_type": "code",
   "execution_count": 101,
   "metadata": {},
   "outputs": [
    {
     "name": "stdout",
     "output_type": "stream",
     "text": [
      "user: 41356      item: 38652      r_ui = 100.00   est = 22.26   {'was_impossible': False}\n"
     ]
    }
   ],
   "source": [
    "# This one was predicted to be 22.27, that's pretty far off\n",
    "\n",
    "pred = svd_best_gs.predict(41356,38652, r_ui=100.0, verbose=True)"
   ]
  },
  {
   "cell_type": "code",
   "execution_count": 102,
   "metadata": {},
   "outputs": [
    {
     "data": {
      "text/plain": [
       "[141736, 14947, 96.0, 52.345649285613014]"
      ]
     },
     "execution_count": 102,
     "metadata": {},
     "output_type": "execute_result"
    }
   ],
   "source": [
    "# What is my highest prediction?  53.221 on a true rating of 96\n",
    "\n",
    "# It seems like the model gets worse for higher ratings\n",
    "\n",
    "top_est = 0\n",
    "top_pred = [0,0,0,0]\n",
    "for uid, iid, true_r, est, _ in svd_best_gs_predictions:\n",
    "    if est > top_est:\n",
    "        top_est = est\n",
    "        top_pred = [uid,iid,true_r,est]\n",
    "top_pred        "
   ]
  },
  {
   "cell_type": "code",
   "execution_count": 103,
   "metadata": {},
   "outputs": [
    {
     "data": {
      "text/plain": [
       "1      8299266\n",
       "2      2296606\n",
       "3      1074345\n",
       "4       612369\n",
       "5       384418\n",
       "        ...   \n",
       "94           5\n",
       "97           4\n",
       "99           4\n",
       "100          3\n",
       "98           2\n",
       "Name: count, Length: 100, dtype: int64"
      ]
     },
     "execution_count": 103,
     "metadata": {},
     "output_type": "execute_result"
    }
   ],
   "source": [
    "# Perhaps I can convert into a rating on a 1 to 5 scale\n",
    "rec_df['count'].value_counts()"
   ]
  },
  {
   "cell_type": "code",
   "execution_count": 15,
   "metadata": {
    "scrolled": true
   },
   "outputs": [
    {
     "data": {
      "image/png": "[encoded data removed]",
      "text/plain": [
       "<Figure size 432x288 with 1 Axes>"
      ]
     },
     "metadata": {
      "needs_background": "light"
     },
     "output_type": "display_data"
    }
   ],
   "source": [
    "plt.hist(rec_df['count']);"
   ]
  },
  {
   "cell_type": "code",
   "execution_count": 5,
   "metadata": {},
   "outputs": [],
   "source": [
    "# Well I'm not sure if this is the best way, but there are so few above 5 I think I can group them all together\n",
    "rec_df['rating'] = rec_df['count'].apply(lambda x: 5 if (x >= 5) else x)"
   ]
  },
  {
   "cell_type": "code",
   "execution_count": 6,
   "metadata": {},
   "outputs": [
    {
     "data": {
      "image/png": "[encoded data removed]",
      "text/plain": [
       "<Figure size 432x288 with 1 Axes>"
      ]
     },
     "metadata": {
      "needs_background": "light"
     },
     "output_type": "display_data"
    }
   ],
   "source": [
    "plt.hist(rec_df['rating']);"
   ]
  },
  {
   "cell_type": "code",
   "execution_count": 7,
   "metadata": {
    "scrolled": false
   },
   "outputs": [
    {
     "data": {
      "text/html": [
       "<div>\n",
       "<style scoped>\n",
       "    .dataframe tbody tr th:only-of-type {\n",
       "        vertical-align: middle;\n",
       "    }\n",
       "\n",
       "    .dataframe tbody tr th {\n",
       "        vertical-align: top;\n",
       "    }\n",
       "\n",
       "    .dataframe thead th {\n",
       "        text-align: right;\n",
       "    }\n",
       "</style>\n",
       "<table border=\"1\" class=\"dataframe\">\n",
       "  <thead>\n",
       "    <tr style=\"text-align: right;\">\n",
       "      <th></th>\n",
       "      <th>user_id</th>\n",
       "      <th>product_id</th>\n",
       "      <th>rating</th>\n",
       "    </tr>\n",
       "  </thead>\n",
       "  <tbody>\n",
       "    <tr>\n",
       "      <th>13863741</th>\n",
       "      <td>206209</td>\n",
       "      <td>4461</td>\n",
       "      <td>1</td>\n",
       "    </tr>\n",
       "    <tr>\n",
       "      <th>13863742</th>\n",
       "      <td>206209</td>\n",
       "      <td>20842</td>\n",
       "      <td>1</td>\n",
       "    </tr>\n",
       "    <tr>\n",
       "      <th>13863743</th>\n",
       "      <td>206209</td>\n",
       "      <td>23909</td>\n",
       "      <td>1</td>\n",
       "    </tr>\n",
       "    <tr>\n",
       "      <th>13863744</th>\n",
       "      <td>206209</td>\n",
       "      <td>26209</td>\n",
       "      <td>1</td>\n",
       "    </tr>\n",
       "    <tr>\n",
       "      <th>13863745</th>\n",
       "      <td>206209</td>\n",
       "      <td>14870</td>\n",
       "      <td>1</td>\n",
       "    </tr>\n",
       "  </tbody>\n",
       "</table>\n",
       "</div>"
      ],
      "text/plain": [
       "          user_id  product_id  rating\n",
       "13863741   206209        4461       1\n",
       "13863742   206209       20842       1\n",
       "13863743   206209       23909       1\n",
       "13863744   206209       26209       1\n",
       "13863745   206209       14870       1"
      ]
     },
     "execution_count": 7,
     "metadata": {},
     "output_type": "execute_result"
    }
   ],
   "source": [
    "new_rec_df = rec_df.drop(columns='count')\n",
    "new_rec_df.tail()"
   ]
  },
  {
   "cell_type": "code",
   "execution_count": 8,
   "metadata": {},
   "outputs": [],
   "source": [
    "pickle.dump(new_rec_df, open(\"Pickle/new_rec_df.p\", \"wb\"))"
   ]
  },
  {
   "cell_type": "code",
   "execution_count": 3,
   "metadata": {},
   "outputs": [],
   "source": [
    "new_rec_df = pickle.load(open(\"Pickle/new_rec_df.p\", \"rb\"))"
   ]
  },
  {
   "cell_type": "code",
   "execution_count": 4,
   "metadata": {
    "scrolled": true
   },
   "outputs": [
    {
     "data": {
      "text/html": [
       "<div>\n",
       "<style scoped>\n",
       "    .dataframe tbody tr th:only-of-type {\n",
       "        vertical-align: middle;\n",
       "    }\n",
       "\n",
       "    .dataframe tbody tr th {\n",
       "        vertical-align: top;\n",
       "    }\n",
       "\n",
       "    .dataframe thead th {\n",
       "        text-align: right;\n",
       "    }\n",
       "</style>\n",
       "<table border=\"1\" class=\"dataframe\">\n",
       "  <thead>\n",
       "    <tr style=\"text-align: right;\">\n",
       "      <th></th>\n",
       "      <th>user_id</th>\n",
       "      <th>product_id</th>\n",
       "      <th>rating</th>\n",
       "    </tr>\n",
       "  </thead>\n",
       "  <tbody>\n",
       "    <tr>\n",
       "      <th>0</th>\n",
       "      <td>1</td>\n",
       "      <td>196</td>\n",
       "      <td>5</td>\n",
       "    </tr>\n",
       "    <tr>\n",
       "      <th>1</th>\n",
       "      <td>1</td>\n",
       "      <td>12427</td>\n",
       "      <td>5</td>\n",
       "    </tr>\n",
       "    <tr>\n",
       "      <th>2</th>\n",
       "      <td>1</td>\n",
       "      <td>10258</td>\n",
       "      <td>5</td>\n",
       "    </tr>\n",
       "    <tr>\n",
       "      <th>3</th>\n",
       "      <td>1</td>\n",
       "      <td>25133</td>\n",
       "      <td>5</td>\n",
       "    </tr>\n",
       "    <tr>\n",
       "      <th>4</th>\n",
       "      <td>1</td>\n",
       "      <td>46149</td>\n",
       "      <td>4</td>\n",
       "    </tr>\n",
       "    <tr>\n",
       "      <th>...</th>\n",
       "      <td>...</td>\n",
       "      <td>...</td>\n",
       "      <td>...</td>\n",
       "    </tr>\n",
       "    <tr>\n",
       "      <th>13863741</th>\n",
       "      <td>206209</td>\n",
       "      <td>4461</td>\n",
       "      <td>1</td>\n",
       "    </tr>\n",
       "    <tr>\n",
       "      <th>13863742</th>\n",
       "      <td>206209</td>\n",
       "      <td>20842</td>\n",
       "      <td>1</td>\n",
       "    </tr>\n",
       "    <tr>\n",
       "      <th>13863743</th>\n",
       "      <td>206209</td>\n",
       "      <td>23909</td>\n",
       "      <td>1</td>\n",
       "    </tr>\n",
       "    <tr>\n",
       "      <th>13863744</th>\n",
       "      <td>206209</td>\n",
       "      <td>26209</td>\n",
       "      <td>1</td>\n",
       "    </tr>\n",
       "    <tr>\n",
       "      <th>13863745</th>\n",
       "      <td>206209</td>\n",
       "      <td>14870</td>\n",
       "      <td>1</td>\n",
       "    </tr>\n",
       "  </tbody>\n",
       "</table>\n",
       "<p>13863746 rows × 3 columns</p>\n",
       "</div>"
      ],
      "text/plain": [
       "          user_id  product_id  rating\n",
       "0               1         196       5\n",
       "1               1       12427       5\n",
       "2               1       10258       5\n",
       "3               1       25133       5\n",
       "4               1       46149       4\n",
       "...           ...         ...     ...\n",
       "13863741   206209        4461       1\n",
       "13863742   206209       20842       1\n",
       "13863743   206209       23909       1\n",
       "13863744   206209       26209       1\n",
       "13863745   206209       14870       1\n",
       "\n",
       "[13863746 rows x 3 columns]"
      ]
     },
     "execution_count": 4,
     "metadata": {},
     "output_type": "execute_result"
    }
   ],
   "source": [
    "new_rec_df"
   ]
  },
  {
   "cell_type": "code",
   "execution_count": 5,
   "metadata": {},
   "outputs": [],
   "source": [
    "# Passing pieces of dataframe in FLASK to be put back together there\n",
    "pickle.dump(new_rec_df.columns.values,open('Pickle/rec_columns.p','wb'))\n",
    "pickle.dump(new_rec_df.index.values, open('Pickle/rec_index.p', 'wb'))\n",
    "pickle.dump(new_rec_df.user_id.values, open('Pickle/rec_user.p', 'wb'))\n",
    "pickle.dump(new_rec_df.rating.values, open('Pickle/rec_rating.p', 'wb'))\n",
    "pickle.dump(new_rec_df.product_id.values, open('Pickle/rec_prod_id.p', 'wb'))"
   ]
  },
  {
   "cell_type": "code",
   "execution_count": 6,
   "metadata": {},
   "outputs": [],
   "source": [
    "rec_columns = pickle.load(open('Pickle/rec_columns.p','rb'))\n",
    "rec_index = pickle.load(open('Pickle/rec_index.p', 'rb'))\n",
    "rec_user = pickle.load(open('Pickle/rec_user.p', 'rb'))\n",
    "rec_rating = pickle.load(open('Pickle/rec_rating.p', 'rb'))\n",
    "rec_prod_id = pickle.load(open('Pickle/rec_prod_id.p', 'rb'))"
   ]
  },
  {
   "cell_type": "code",
   "execution_count": 7,
   "metadata": {},
   "outputs": [],
   "source": [
    "new_df = pd.DataFrame(np.column_stack([rec_user, rec_prod_id, rec_rating]), index=rec_index, columns=rec_columns)"
   ]
  },
  {
   "cell_type": "code",
   "execution_count": 8,
   "metadata": {},
   "outputs": [
    {
     "data": {
      "text/html": [
       "<div>\n",
       "<style scoped>\n",
       "    .dataframe tbody tr th:only-of-type {\n",
       "        vertical-align: middle;\n",
       "    }\n",
       "\n",
       "    .dataframe tbody tr th {\n",
       "        vertical-align: top;\n",
       "    }\n",
       "\n",
       "    .dataframe thead th {\n",
       "        text-align: right;\n",
       "    }\n",
       "</style>\n",
       "<table border=\"1\" class=\"dataframe\">\n",
       "  <thead>\n",
       "    <tr style=\"text-align: right;\">\n",
       "      <th></th>\n",
       "      <th>user_id</th>\n",
       "      <th>product_id</th>\n",
       "      <th>rating</th>\n",
       "    </tr>\n",
       "  </thead>\n",
       "  <tbody>\n",
       "    <tr>\n",
       "      <th>0</th>\n",
       "      <td>1</td>\n",
       "      <td>196</td>\n",
       "      <td>5</td>\n",
       "    </tr>\n",
       "    <tr>\n",
       "      <th>1</th>\n",
       "      <td>1</td>\n",
       "      <td>12427</td>\n",
       "      <td>5</td>\n",
       "    </tr>\n",
       "    <tr>\n",
       "      <th>2</th>\n",
       "      <td>1</td>\n",
       "      <td>10258</td>\n",
       "      <td>5</td>\n",
       "    </tr>\n",
       "    <tr>\n",
       "      <th>3</th>\n",
       "      <td>1</td>\n",
       "      <td>25133</td>\n",
       "      <td>5</td>\n",
       "    </tr>\n",
       "    <tr>\n",
       "      <th>4</th>\n",
       "      <td>1</td>\n",
       "      <td>46149</td>\n",
       "      <td>4</td>\n",
       "    </tr>\n",
       "    <tr>\n",
       "      <th>...</th>\n",
       "      <td>...</td>\n",
       "      <td>...</td>\n",
       "      <td>...</td>\n",
       "    </tr>\n",
       "    <tr>\n",
       "      <th>13863741</th>\n",
       "      <td>206209</td>\n",
       "      <td>4461</td>\n",
       "      <td>1</td>\n",
       "    </tr>\n",
       "    <tr>\n",
       "      <th>13863742</th>\n",
       "      <td>206209</td>\n",
       "      <td>20842</td>\n",
       "      <td>1</td>\n",
       "    </tr>\n",
       "    <tr>\n",
       "      <th>13863743</th>\n",
       "      <td>206209</td>\n",
       "      <td>23909</td>\n",
       "      <td>1</td>\n",
       "    </tr>\n",
       "    <tr>\n",
       "      <th>13863744</th>\n",
       "      <td>206209</td>\n",
       "      <td>26209</td>\n",
       "      <td>1</td>\n",
       "    </tr>\n",
       "    <tr>\n",
       "      <th>13863745</th>\n",
       "      <td>206209</td>\n",
       "      <td>14870</td>\n",
       "      <td>1</td>\n",
       "    </tr>\n",
       "  </tbody>\n",
       "</table>\n",
       "<p>13863746 rows × 3 columns</p>\n",
       "</div>"
      ],
      "text/plain": [
       "          user_id  product_id  rating\n",
       "0               1         196       5\n",
       "1               1       12427       5\n",
       "2               1       10258       5\n",
       "3               1       25133       5\n",
       "4               1       46149       4\n",
       "...           ...         ...     ...\n",
       "13863741   206209        4461       1\n",
       "13863742   206209       20842       1\n",
       "13863743   206209       23909       1\n",
       "13863744   206209       26209       1\n",
       "13863745   206209       14870       1\n",
       "\n",
       "[13863746 rows x 3 columns]"
      ]
     },
     "execution_count": 8,
     "metadata": {},
     "output_type": "execute_result"
    }
   ],
   "source": [
    "new_df"
   ]
  },
  {
   "cell_type": "code",
   "execution_count": 9,
   "metadata": {},
   "outputs": [
    {
     "name": "stdout",
     "output_type": "stream",
     "text": [
      "0.0\n",
      "13.450033187866211\n",
      "41.20182418823242\n"
     ]
    }
   ],
   "source": [
    "# Must start with a new reader\n",
    "\n",
    "tic = time.time()\n",
    "reader = Reader(rating_scale=(1, 5))\n",
    "readtime = time.time()-tic\n",
    "print(readtime)\n",
    "# The columns must correspond to user id, item id and ratings (in that order).\n",
    "toc = time.time()\n",
    "new_rec_data = Dataset.load_from_df(new_rec_df, reader)\n",
    "loadtime = time.time()-toc\n",
    "print(loadtime)\n",
    "# sample random trainset and testset\n",
    "# test set is made of 25% of the ratings.\n",
    "tac = time.time()\n",
    "new_trainset, new_testset = train_test_split(new_rec_data, test_size=.25, random_state=12)\n",
    "splittime = time.time()-tac\n",
    "print(splittime)"
   ]
  },
  {
   "cell_type": "code",
   "execution_count": 10,
   "metadata": {},
   "outputs": [],
   "source": [
    "pickle.dump(reader, open(\"Pickle/reader.p\", \"wb\"))"
   ]
  },
  {
   "cell_type": "code",
   "execution_count": 102,
   "metadata": {},
   "outputs": [
    {
     "name": "stdout",
     "output_type": "stream",
     "text": [
      "fit  288.56942772865295\n",
      "pred  204.20226907730103\n",
      "RMSE: 1.2649\n"
     ]
    },
    {
     "data": {
      "text/plain": [
       "1.2648735882122"
      ]
     },
     "execution_count": 102,
     "metadata": {},
     "output_type": "execute_result"
    }
   ],
   "source": [
    "# Might as well start with the best params from the last model\n",
    "\n",
    "'''tic = time.time()\n",
    "\n",
    "new_svd_algo = SVD(n_factors = 100, n_epochs = 10, lr_all = 0.005, reg_all = 0.4)\n",
    "\n",
    "new_svd_algo.fit(new_trainset)\n",
    "\n",
    "fit_time = time.time()-tic\n",
    "print('fit ', fit_time)\n",
    "toc = time.time()\n",
    "\n",
    "new_predictions = new_svd_algo.test(new_testset)\n",
    "\n",
    "pred_time = time.time()-toc\n",
    "print('pred ', pred_time)\n",
    "\n",
    "# Then compute RMSE\n",
    "accuracy.rmse(new_predictions)\n",
    "\n",
    "# Not bad, RMSE went to to 1.2649'''"
   ]
  },
  {
   "cell_type": "code",
   "execution_count": 103,
   "metadata": {},
   "outputs": [],
   "source": [
    "# pickle.dump(new_svd_algo, open(\"Pickle/new_svd_algo.p\", \"wb\"))"
   ]
  },
  {
   "cell_type": "code",
   "execution_count": 104,
   "metadata": {},
   "outputs": [],
   "source": [
    "# pickle.dump(new_predictions, open(\"Pickle/new_predictions.p\", \"wb\"))"
   ]
  },
  {
   "cell_type": "code",
   "execution_count": 11,
   "metadata": {},
   "outputs": [],
   "source": [
    "new_svd_algo = pickle.load(open(\"Pickle/new_svd_algo.p\", \"rb\"))"
   ]
  },
  {
   "cell_type": "code",
   "execution_count": 12,
   "metadata": {},
   "outputs": [],
   "source": [
    "new_predictions = pickle.load(open(\"Pickle/new_predictions.p\", \"rb\"))"
   ]
  },
  {
   "cell_type": "code",
   "execution_count": 107,
   "metadata": {},
   "outputs": [
    {
     "name": "stdout",
     "output_type": "stream",
     "text": [
      "RMSE: 1.2649\n"
     ]
    },
    {
     "data": {
      "text/plain": [
       "1.2648735882122"
      ]
     },
     "execution_count": 107,
     "metadata": {},
     "output_type": "execute_result"
    }
   ],
   "source": [
    "accuracy.rmse(new_predictions)"
   ]
  },
  {
   "cell_type": "code",
   "execution_count": 108,
   "metadata": {},
   "outputs": [
    {
     "name": "stdout",
     "output_type": "stream",
     "text": [
      "user: 196        item: 13176      r_ui = 2.00   est = 2.12   {'was_impossible': False}\n"
     ]
    }
   ],
   "source": [
    "# This prediction was 1.76 before, it has gone up to 2.12 with the new scale\n",
    "\n",
    "uid=196\n",
    "iid=13176\n",
    "# get a prediction for specific users and items.\n",
    "pred = new_svd_algo.predict(uid, iid, r_ui=2, verbose=True)"
   ]
  },
  {
   "cell_type": "code",
   "execution_count": 109,
   "metadata": {},
   "outputs": [
    {
     "data": {
      "text/plain": [
       "Prediction(uid=127895, iid=6101, r_ui=2.0, est=1.475188661747201, details={'was_impossible': False})"
      ]
     },
     "execution_count": 109,
     "metadata": {},
     "output_type": "execute_result"
    }
   ],
   "source": [
    "# This estimate was 1.498 before and now it is 1.475\n",
    "\n",
    "new_predictions[0]"
   ]
  },
  {
   "cell_type": "code",
   "execution_count": 110,
   "metadata": {},
   "outputs": [
    {
     "name": "stdout",
     "output_type": "stream",
     "text": [
      "user: 41356      item: 38652      r_ui = 5.00   est = 3.21   {'was_impossible': False}\n"
     ]
    }
   ],
   "source": [
    "# this one was 100 on the last scale but predicted as 21.59\n",
    "# now it is a 5 on the new scale and predicted at 3.21\n",
    "\n",
    "pred = new_svd_algo.predict(41356,38652, r_ui=5.0, verbose=True)"
   ]
  },
  {
   "cell_type": "code",
   "execution_count": 11,
   "metadata": {},
   "outputs": [
    {
     "name": "stderr",
     "output_type": "stream",
     "text": [
      "[Parallel(n_jobs=-1)]: Using backend LokyBackend with 8 concurrent workers.\n",
      "[Parallel(n_jobs=-1)]: Done   2 tasks      | elapsed:  4.5min\n",
      "[Parallel(n_jobs=-1)]: Done  56 tasks      | elapsed: 76.9min\n",
      "[Parallel(n_jobs=-1)]: Done  80 out of  80 | elapsed: 133.1min finished\n"
     ]
    }
   ],
   "source": [
    "# Well lets try another grid search\n",
    "\n",
    "# Started at 9:57am, ended at 12:30pm\n",
    "\n",
    "'''param_grid = {'n_factors':[20, 100],'n_epochs': [5, 10], 'lr_all': [0.002, 0.005],\n",
    "              'reg_all': [0.4, 0.6]}\n",
    "new_gs_model = GridSearchCV(SVD, param_grid=param_grid, n_jobs = -1, joblib_verbose=5)\n",
    "new_gs_model.fit(new_rec_data)'''"
   ]
  },
  {
   "cell_type": "code",
   "execution_count": 12,
   "metadata": {},
   "outputs": [],
   "source": [
    "# pickle.dump(new_gs_model, open(\"Pickle/new_gs_model.p\", \"wb\"))"
   ]
  },
  {
   "cell_type": "code",
   "execution_count": 12,
   "metadata": {},
   "outputs": [],
   "source": [
    "new_gs_model = pickle.load(open(\"Pickle/new_gs_model.p\", \"rb\"))"
   ]
  },
  {
   "cell_type": "code",
   "execution_count": 13,
   "metadata": {
    "scrolled": true
   },
   "outputs": [
    {
     "data": {
      "text/plain": [
       "{'rmse': {'n_factors': 20, 'n_epochs': 10, 'lr_all': 0.005, 'reg_all': 0.4},\n",
       " 'mae': {'n_factors': 20, 'n_epochs': 10, 'lr_all': 0.005, 'reg_all': 0.4}}"
      ]
     },
     "execution_count": 13,
     "metadata": {},
     "output_type": "execute_result"
    }
   ],
   "source": [
    "new_gs_model.best_params"
   ]
  },
  {
   "cell_type": "code",
   "execution_count": 14,
   "metadata": {},
   "outputs": [],
   "source": [
    "new_results_df = pd.DataFrame.from_dict(new_gs_model.cv_results)"
   ]
  },
  {
   "cell_type": "code",
   "execution_count": 17,
   "metadata": {},
   "outputs": [
    {
     "name": "stdout",
     "output_type": "stream",
     "text": [
      "fit  135.78296637535095\n",
      "pred  63.0951828956604\n",
      "RMSE: 1.2648\n"
     ]
    },
    {
     "data": {
      "text/plain": [
       "1.2648270072757875"
      ]
     },
     "execution_count": 17,
     "metadata": {},
     "output_type": "execute_result"
    }
   ],
   "source": [
    "# Creating the model from the best params\n",
    "\n",
    "'''tic = time.time()\n",
    "\n",
    "new_svd_best_gs = SVD(n_factors = 20, n_epochs = 10, lr_all = 0.005, reg_all = 0.4)\n",
    "\n",
    "new_svd_best_gs.fit(new_trainset)\n",
    "\n",
    "fit_time = time.time()-tic\n",
    "print('fit ', fit_time)\n",
    "toc = time.time()\n",
    "\n",
    "new_svd_best_gs_predictions = new_svd_best_gs.test(new_testset)\n",
    "\n",
    "pred_time = time.time()-toc\n",
    "print('pred ', pred_time)\n",
    "\n",
    "# Then compute RMSE\n",
    "accuracy.rmse(new_svd_best_gs_predictions)'''\n",
    "\n",
    "# RMSE went down on grid search model from 1.2649 to 1.2648.  lol, not much."
   ]
  },
  {
   "cell_type": "code",
   "execution_count": 19,
   "metadata": {},
   "outputs": [],
   "source": [
    "# pickle.dump(new_svd_best_gs, open(\"Pickle/new_svd_best_gs.p\", \"wb\"))"
   ]
  },
  {
   "cell_type": "code",
   "execution_count": 20,
   "metadata": {},
   "outputs": [],
   "source": [
    "# pickle.dump(new_svd_best_gs_predictions, open(\"Pickle/new_svd_best_gs_predictions.p\", \"wb\"))"
   ]
  },
  {
   "cell_type": "code",
   "execution_count": 13,
   "metadata": {},
   "outputs": [],
   "source": [
    "new_svd_best_gs = pickle.load(open(\"Pickle/new_svd_best_gs.p\", \"rb\"))"
   ]
  },
  {
   "cell_type": "code",
   "execution_count": 14,
   "metadata": {},
   "outputs": [],
   "source": [
    "new_svd_best_gs_predictions = pickle.load(open(\"Pickle/new_svd_best_gs_predictions.p\", \"rb\"))"
   ]
  },
  {
   "cell_type": "markdown",
   "metadata": {},
   "source": [
    "## Get top n predictions for a user"
   ]
  },
  {
   "cell_type": "code",
   "execution_count": 15,
   "metadata": {},
   "outputs": [],
   "source": [
    "# Get top predictions for a user\n",
    "\n",
    "from collections import defaultdict\n",
    "\n",
    "def get_top_n(predictions, n=10):\n",
    "    \"\"\"Return the top-N recommendation for each user from a set of predictions.\n",
    "\n",
    "    Args:\n",
    "        predictions(list of Prediction objects): The list of predictions, as\n",
    "            returned by the test method of an algorithm.\n",
    "        n(int): The number of recommendation to output for each user. Default\n",
    "            is 10.\n",
    "\n",
    "    Returns:\n",
    "    A dict where keys are user (raw) ids and values are lists of tuples:\n",
    "        [(raw item id, rating estimation), ...] of size n.\n",
    "    \"\"\"\n",
    "\n",
    "    # First map the predictions to each user.\n",
    "    top_n = defaultdict(list)\n",
    "    for uid, iid, true_r, est, _ in predictions:\n",
    "        top_n[uid].append((iid, est))\n",
    "\n",
    "    # Then sort the predictions for each user and retrieve the k highest ones.\n",
    "    for uid, user_ratings in top_n.items():\n",
    "        user_ratings.sort(key=lambda x: x[1], reverse=True)\n",
    "        top_n[uid] = user_ratings[:n]\n",
    "\n",
    "    return top_n\n",
    "\n",
    "\n",
    "# First train an SVD algorithm on the movielens dataset.\n",
    "# data = Dataset.load_builtin('ml-100k')\n",
    "# trainset = data.build_full_trainset()\n",
    "# algo = SVD()\n",
    "# algo.fit(trainset)\n",
    "\n",
    "# Than predict ratings for all pairs (u, i) that are NOT in the training set.\n",
    "# anti_testset = new_trainset.build_anti_testset()\n",
    "# predictions = anti_new_svd_best_gs.test(anti_testset)"
   ]
  },
  {
   "cell_type": "code",
   "execution_count": 16,
   "metadata": {},
   "outputs": [],
   "source": [
    "top_n = get_top_n(new_svd_best_gs_predictions, n=10)"
   ]
  },
  {
   "cell_type": "markdown",
   "metadata": {},
   "source": [
    "### Analyze popularity bias"
   ]
  },
  {
   "cell_type": "code",
   "execution_count": 17,
   "metadata": {},
   "outputs": [
    {
     "data": {
      "text/plain": [
       "True"
      ]
     },
     "execution_count": 17,
     "metadata": {},
     "output_type": "execute_result"
    }
   ],
   "source": [
    "1 in top_n"
   ]
  },
  {
   "cell_type": "code",
   "execution_count": 18,
   "metadata": {
    "scrolled": false
   },
   "outputs": [
    {
     "data": {
      "text/plain": [
       "[(196, 2.8803536813931596),\n",
       " (17122, 2.214499357390091),\n",
       " (30450, 2.060545637467949),\n",
       " (13032, 2.0436925955680065)]"
      ]
     },
     "execution_count": 18,
     "metadata": {},
     "output_type": "execute_result"
    }
   ],
   "source": [
    "top_n[1] # Recommendations for user number 1"
   ]
  },
  {
   "cell_type": "code",
   "execution_count": 19,
   "metadata": {
    "scrolled": true
   },
   "outputs": [
    {
     "data": {
      "text/plain": [
       "203501"
      ]
     },
     "execution_count": 19,
     "metadata": {},
     "output_type": "execute_result"
    }
   ],
   "source": [
    "len(top_n.values())"
   ]
  },
  {
   "cell_type": "code",
   "execution_count": 28,
   "metadata": {},
   "outputs": [
    {
     "data": {
      "text/plain": [
       "Banana                                                                     491291\n",
       "Bag of Organic Bananas                                                     394930\n",
       "Organic Strawberries                                                       275577\n",
       "Organic Baby Spinach                                                       251705\n",
       "Organic Hass Avocado                                                       220877\n",
       "                                                                            ...  \n",
       "Wasabi Cheddar Spreadable Cheese                                                1\n",
       "Sugar Leaf  Stevia and Raw Cane Sugar                                           1\n",
       "Piquillo & Jalapeno Bruschetta                                                  1\n",
       "1,000 Mg Vitamin C Tangerine Grapefruit Effervescent Powdered Drink Mix         1\n",
       "Chardonnay Carneros                                                             1\n",
       "Name: product_name, Length: 49685, dtype: int64"
      ]
     },
     "execution_count": 28,
     "metadata": {},
     "output_type": "execute_result"
    }
   ],
   "source": [
    "order_products_desc['product_name'].value_counts()"
   ]
  },
  {
   "cell_type": "code",
   "execution_count": 29,
   "metadata": {
    "scrolled": true
   },
   "outputs": [],
   "source": [
    "all_rec_items=[]  # Making a list of all recommended items in the top for each user, then count them\n",
    "for idx in range(len(top_n.values())-200000):\n",
    "    all_rec_items.extend([x[0] for x in [*top_n.values()][idx]]) # product_ids recommended for first user\n",
    "# all_rec_items    "
   ]
  },
  {
   "cell_type": "code",
   "execution_count": 30,
   "metadata": {},
   "outputs": [],
   "source": [
    "from collections import Counter\n",
    "\n",
    "ctr = Counter(all_rec_items)\n",
    "most_ctr = ctr.most_common(20)"
   ]
  },
  {
   "cell_type": "code",
   "execution_count": 31,
   "metadata": {},
   "outputs": [
    {
     "data": {
      "text/plain": [
       "[(24852, 450),\n",
       " (13176, 374),\n",
       " (21903, 341),\n",
       " (47766, 268),\n",
       " (47209, 266),\n",
       " (16797, 244),\n",
       " (21137, 197),\n",
       " (27966, 178),\n",
       " (28204, 175),\n",
       " (27845, 158),\n",
       " (19057, 145),\n",
       " (45066, 141),\n",
       " (27086, 138),\n",
       " (21616, 133),\n",
       " (8277, 131),\n",
       " (39877, 125),\n",
       " (30489, 118),\n",
       " (39275, 113),\n",
       " (49235, 109),\n",
       " (44632, 109)]"
      ]
     },
     "execution_count": 31,
     "metadata": {},
     "output_type": "execute_result"
    }
   ],
   "source": [
    "most_ctr"
   ]
  },
  {
   "cell_type": "code",
   "execution_count": 32,
   "metadata": {
    "scrolled": true
   },
   "outputs": [
    {
     "data": {
      "text/plain": [
       "['Banana',\n",
       " 'Bag of Organic Bananas',\n",
       " 'Organic Baby Spinach',\n",
       " 'Organic Avocado',\n",
       " 'Organic Hass Avocado',\n",
       " 'Strawberries',\n",
       " 'Organic Strawberries',\n",
       " 'Organic Raspberries',\n",
       " 'Organic Fuji Apple',\n",
       " 'Organic Whole Milk',\n",
       " 'Organic Large Extra Fancy Fuji Apple',\n",
       " 'Honeycrisp Apple',\n",
       " 'Half & Half',\n",
       " 'Organic Baby Arugula',\n",
       " 'Apple Honeycrisp Organic',\n",
       " 'Organic Granny Smith Apple',\n",
       " 'Original Hummus',\n",
       " 'Organic Blueberries',\n",
       " 'Organic Half & Half',\n",
       " 'Sparkling Water Grapefruit']"
      ]
     },
     "execution_count": 32,
     "metadata": {},
     "output_type": "execute_result"
    }
   ],
   "source": [
    "[products_desc[products_desc['product_id']==x]['product_name'].iloc[0] for x in [x[0] for x in most_ctr]]"
   ]
  },
  {
   "cell_type": "code",
   "execution_count": 33,
   "metadata": {},
   "outputs": [
    {
     "data": {
      "text/plain": [
       "13863746"
      ]
     },
     "execution_count": 33,
     "metadata": {},
     "output_type": "execute_result"
    }
   ],
   "source": [
    "new_rec_df.product_id.value_counts().sum() # 13,863,746 ratings, so the top 80% would be 11,091,000"
   ]
  },
  {
   "cell_type": "code",
   "execution_count": 34,
   "metadata": {},
   "outputs": [
    {
     "data": {
      "text/plain": [
       "array([   76125,   141780,   202909, ..., 11090416, 11090809, 11091202],\n",
       "      dtype=int64)"
      ]
     },
     "execution_count": 34,
     "metadata": {},
     "output_type": "execute_result"
    }
   ],
   "source": [
    "new_rec_df.product_id.value_counts()[:6207].cumsum().values # I admit this was trial and error"
   ]
  },
  {
   "cell_type": "code",
   "execution_count": 35,
   "metadata": {},
   "outputs": [],
   "source": [
    "# so the top 6200 products account for 80% of the ratings (or purchases in this case)\n",
    "short_head = list(new_rec_df.product_id.value_counts()[:6207].cumsum().index)"
   ]
  },
  {
   "cell_type": "code",
   "execution_count": 36,
   "metadata": {},
   "outputs": [],
   "source": [
    "pickle.dump(short_head, open(\"Pickle/short_head.p\", \"wb\"))"
   ]
  },
  {
   "cell_type": "code",
   "execution_count": 37,
   "metadata": {},
   "outputs": [
    {
     "data": {
      "text/plain": [
       "False"
      ]
     },
     "execution_count": 37,
     "metadata": {},
     "output_type": "execute_result"
    }
   ],
   "source": [
    "13176 not in short_head"
   ]
  },
  {
   "cell_type": "code",
   "execution_count": 69,
   "metadata": {},
   "outputs": [],
   "source": [
    "# So now when I generate recommendations I will make sure 20% of the recommendations come from the long tail\n",
    "# Personalized re-ranking"
   ]
  },
  {
   "cell_type": "markdown",
   "metadata": {},
   "source": [
    "## Get recommendations for a new user"
   ]
  },
  {
   "cell_type": "code",
   "execution_count": 8,
   "metadata": {},
   "outputs": [],
   "source": [
    "products_desc = pickle.load(open(\"Pickle/products_desc.p\", \"rb\"))"
   ]
  },
  {
   "cell_type": "code",
   "execution_count": 97,
   "metadata": {},
   "outputs": [],
   "source": [
    "def grocery_rater(df, num, aisle=None):\n",
    "    userID = 300000\n",
    "    rating_list = []\n",
    "    while num > 0:\n",
    "        if aisle:\n",
    "            product = df[df['aisle'].str.contains(aisle)].sample(1)\n",
    "        else:\n",
    "            product = df.sample(1)\n",
    "        print('\\n', product['product_name'].iloc[0])\n",
    "        rating = input('How do you rate this product on a scale of 1-5, choose 0 to rate a different product:\\n')\n",
    "        if rating == '0':\n",
    "            continue\n",
    "        else:\n",
    "            rating_one_product = {'user_id':userID,'product_id':product['product_id'].iloc[0],'rating':int(rating)}\n",
    "            rating_list.append(rating_one_product) \n",
    "            num -= 1\n",
    "    return rating_list  "
   ]
  },
  {
   "cell_type": "code",
   "execution_count": 71,
   "metadata": {},
   "outputs": [
    {
     "name": "stdout",
     "output_type": "stream",
     "text": [
      "\n",
      " Peanut Butter M&Ms\n",
      "How do you rate this product on a scale of 1-5, choose 0 if you are unfamiliar:\n",
      "3\n",
      "\n",
      " Demon Treat Halloween Candy\n",
      "How do you rate this product on a scale of 1-5, choose 0 if you are unfamiliar:\n",
      "0\n",
      "\n",
      " Peppermint Bark With Dark Chocolate\n",
      "How do you rate this product on a scale of 1-5, choose 0 if you are unfamiliar:\n",
      "5\n",
      "\n",
      " Organic Royal Dark 88% Chocolate Bar\n",
      "How do you rate this product on a scale of 1-5, choose 0 if you are unfamiliar:\n",
      "4\n",
      "\n",
      " Milk Chocolate\n",
      "How do you rate this product on a scale of 1-5, choose 0 if you are unfamiliar:\n",
      "3\n"
     ]
    }
   ],
   "source": [
    "# try out the new function here!\n",
    "user_rating = grocery_rater(products_desc, 4, aisle='candy')"
   ]
  },
  {
   "cell_type": "code",
   "execution_count": 72,
   "metadata": {
    "scrolled": true
   },
   "outputs": [
    {
     "data": {
      "text/plain": [
       "[{'user_id': 300000, 'product_id': 18860, 'rating': 3},\n",
       " {'user_id': 300000, 'product_id': 48338, 'rating': 5},\n",
       " {'user_id': 300000, 'product_id': 8589, 'rating': 4},\n",
       " {'user_id': 300000, 'product_id': 6510, 'rating': 3}]"
      ]
     },
     "execution_count": 72,
     "metadata": {},
     "output_type": "execute_result"
    }
   ],
   "source": [
    "user_rating"
   ]
  },
  {
   "cell_type": "code",
   "execution_count": 74,
   "metadata": {},
   "outputs": [],
   "source": [
    "# Get a clean copy of the rec dataframe\n",
    "new_rec_df = pickle.load(open(\"Pickle/new_rec_df.p\", \"rb\"))\n",
    "\n",
    "# add the new ratings to the original ratings DataFrame\n",
    "new_ratings_df = new_rec_df.append(user_rating, ignore_index=True)\n",
    "new_data = Dataset.load_from_df(new_ratings_df, reader)"
   ]
  },
  {
   "cell_type": "code",
   "execution_count": 75,
   "metadata": {},
   "outputs": [
    {
     "data": {
      "text/html": [
       "<div>\n",
       "<style scoped>\n",
       "    .dataframe tbody tr th:only-of-type {\n",
       "        vertical-align: middle;\n",
       "    }\n",
       "\n",
       "    .dataframe tbody tr th {\n",
       "        vertical-align: top;\n",
       "    }\n",
       "\n",
       "    .dataframe thead th {\n",
       "        text-align: right;\n",
       "    }\n",
       "</style>\n",
       "<table border=\"1\" class=\"dataframe\">\n",
       "  <thead>\n",
       "    <tr style=\"text-align: right;\">\n",
       "      <th></th>\n",
       "      <th>user_id</th>\n",
       "      <th>product_id</th>\n",
       "      <th>rating</th>\n",
       "    </tr>\n",
       "  </thead>\n",
       "  <tbody>\n",
       "    <tr>\n",
       "      <th>13863745</th>\n",
       "      <td>206209</td>\n",
       "      <td>14870</td>\n",
       "      <td>1</td>\n",
       "    </tr>\n",
       "    <tr>\n",
       "      <th>13863746</th>\n",
       "      <td>300000</td>\n",
       "      <td>18860</td>\n",
       "      <td>3</td>\n",
       "    </tr>\n",
       "    <tr>\n",
       "      <th>13863747</th>\n",
       "      <td>300000</td>\n",
       "      <td>48338</td>\n",
       "      <td>5</td>\n",
       "    </tr>\n",
       "    <tr>\n",
       "      <th>13863748</th>\n",
       "      <td>300000</td>\n",
       "      <td>8589</td>\n",
       "      <td>4</td>\n",
       "    </tr>\n",
       "    <tr>\n",
       "      <th>13863749</th>\n",
       "      <td>300000</td>\n",
       "      <td>6510</td>\n",
       "      <td>3</td>\n",
       "    </tr>\n",
       "  </tbody>\n",
       "</table>\n",
       "</div>"
      ],
      "text/plain": [
       "          user_id  product_id  rating\n",
       "13863745   206209       14870       1\n",
       "13863746   300000       18860       3\n",
       "13863747   300000       48338       5\n",
       "13863748   300000        8589       4\n",
       "13863749   300000        6510       3"
      ]
     },
     "execution_count": 75,
     "metadata": {},
     "output_type": "execute_result"
    }
   ],
   "source": [
    "new_ratings_df.tail() # You can see the new user's ratings"
   ]
  },
  {
   "cell_type": "code",
   "execution_count": 76,
   "metadata": {
    "scrolled": true
   },
   "outputs": [
    {
     "data": {
      "text/plain": [
       "<surprise.prediction_algorithms.matrix_factorization.SVD at 0x11f161bb940>"
      ]
     },
     "execution_count": 76,
     "metadata": {},
     "output_type": "execute_result"
    }
   ],
   "source": [
    "# train a model using the new combined DataFrame\n",
    "new_user_svd = SVD(n_factors = 20, n_epochs = 10, lr_all = 0.005, reg_all = 0.4)\n",
    "new_user_svd.fit(new_data.build_full_trainset())"
   ]
  },
  {
   "cell_type": "code",
   "execution_count": 77,
   "metadata": {},
   "outputs": [],
   "source": [
    "# make predictions for the user\n",
    "\n",
    "list_of_products = []\n",
    "for product in new_ratings_df['product_id'].unique():\n",
    "    product_name = products_desc[products_desc['product_id'] == product]['product_name'].iloc[0]\n",
    "    product_aisle = products_desc[products_desc['product_id'] == product]['aisle'].iloc[0]\n",
    "    list_of_products.append((product, new_user_svd.predict(300000, product)[3], product_name, product_aisle))"
   ]
  },
  {
   "cell_type": "code",
   "execution_count": 78,
   "metadata": {},
   "outputs": [],
   "source": [
    "# order the predictions from highest to lowest rated\n",
    "\n",
    "# List of (product_id, predicted_rating, product_name, aisle)\n",
    "\n",
    "ranked_products = sorted(list_of_products, key=lambda x:x[1], reverse=True)"
   ]
  },
  {
   "cell_type": "code",
   "execution_count": 79,
   "metadata": {
    "scrolled": true
   },
   "outputs": [],
   "source": [
    "# return the top n recommendations \n",
    "def recommended_products(ranked_products, n, aisle=None):\n",
    "    for idx, rec in enumerate(ranked_products):\n",
    "        if aisle:    \n",
    "            if aisle in rec[3]: \n",
    "                name = rec[2]\n",
    "                print('Recommendation # ', idx+1, ': ', name, '\\n')\n",
    "                n-= 1\n",
    "            elif idx == len(ranked_products)-1:\n",
    "                print('No recommended products found')\n",
    "                continue\n",
    "        else:\n",
    "            name = rec[2]\n",
    "            print('Recommendation # ', idx+1, ': ', name, '\\n')\n",
    "            n-= 1\n",
    "        if n == 0:\n",
    "            break\n",
    "            "
   ]
  },
  {
   "cell_type": "code",
   "execution_count": 80,
   "metadata": {
    "scrolled": true
   },
   "outputs": [
    {
     "name": "stdout",
     "output_type": "stream",
     "text": [
      "Recommendation #  60 :  Authentic Asia Shrimp Wonton Soup With Noodles \n",
      "\n",
      "Recommendation #  61 :  A+ Cinnamon Sweet Potato Pancakes \n",
      "\n",
      "Recommendation #  77 :  Eggo Bites Chocolatey Chip Pancakes \n",
      "\n",
      "Recommendation #  179 :  Original French Toast Sticks \n",
      "\n",
      "Recommendation #  180 :  Eggo Chocolate Chip Pancakes 12 Count \n",
      "\n"
     ]
    }
   ],
   "source": [
    "recommended_products(ranked_products, 5, aisle='frozen')"
   ]
  },
  {
   "cell_type": "code",
   "execution_count": 99,
   "metadata": {},
   "outputs": [],
   "source": [
    "# return the top n diverse recommendations \n",
    "def recommend_diverse_products(ranked_products, n, aisle=None, percent_diverse=.20):\n",
    "    \n",
    "    num_diverse = round(n * percent_diverse)\n",
    "    recs = []\n",
    "    \n",
    "    if n < 1:\n",
    "        print('Number of recommended products must be 1 or more')\n",
    "        return recs\n",
    "    \n",
    "    for idx, rec in enumerate(ranked_products):\n",
    "        \n",
    "        if n == 0:\n",
    "            return recs\n",
    "            \n",
    "        prod_id, rating, prod_name, aisle_name = [*rec]\n",
    "        \n",
    "               \n",
    "        if aisle:                                    # Did we specify an aisle? \n",
    "            if aisle in aisle_name:                  # Is it in the aisle we want?\n",
    "                if n > num_diverse:                  # Are we looking for a long tail product? No\n",
    "                    name = prod_name\n",
    "                    print('Recommendation # ', idx+1, ': ', name, '\\n')\n",
    "                    recs.append(rec)\n",
    "                    n-= 1\n",
    "                else:                                 # Are we looking for a long tail product? Yes\n",
    "                    if prod_id not in short_head:     # Is it NOT in the short_head list?\n",
    "                        name = prod_name\n",
    "                        print('Recommendation # ', idx+1, ': ', name, '\\n')\n",
    "                        recs.append(rec)\n",
    "                        n-= 1\n",
    "                    else:\n",
    "                        continue\n",
    "            elif idx == len(ranked_products)-1:\n",
    "                print('No recommended products found')\n",
    "                continue\n",
    "        else:\n",
    "            if n > num_diverse:                  # Are we looking for a long tail product? No\n",
    "                name = prod_name\n",
    "                print('Recommendation # ', idx+1, ': ', name, '\\n')\n",
    "                recs.append(rec)\n",
    "                n-= 1\n",
    "            else:                                 # Are we looking for a long tail product? Yes\n",
    "                if prod_id not in short_head:     # Is it NOT in the short_head list?\n",
    "                    name = prod_name\n",
    "                    print('Recommendation # ', idx+1, ': ', name, '\\n')\n",
    "                    recs.append(rec)\n",
    "                    n-= 1\n",
    "                else:\n",
    "                    continue\n",
    "            "
   ]
  },
  {
   "cell_type": "code",
   "execution_count": 109,
   "metadata": {},
   "outputs": [
    {
     "name": "stdout",
     "output_type": "stream",
     "text": [
      "Recommendation #  2 :  Lo-Carb Energy Drink \n",
      "\n",
      "Recommendation #  11 :  Organic Grade A Raw Whole Milk \n",
      "\n",
      "Recommendation #  16 :  DanActive Vanilla Probiotic Dairy Drink \n",
      "\n",
      "Recommendation #  21 :  Alimentum Infant Formula \n",
      "\n",
      "Recommendation #  26 :  Plain Soy Milk \n",
      "\n",
      "Recommendation #  28 :  1% Milkfat Low Fat Vitamin A & D Milk \n",
      "\n",
      "Recommendation #  29 :  Ultra-Purified Water \n",
      "\n",
      "Recommendation #  30 :  Kickstart Energizing Orange Citrus Sparkling Juice Beverage \n",
      "\n",
      "Recommendation #  31 :  Purified Alkalkine Water with Minerals pH10 \n",
      "\n",
      "Recommendation #  33 :  Diet Orange & Cream Soda \n",
      "\n"
     ]
    }
   ],
   "source": [
    "recs = recommend_diverse_products(ranked_products, 10, percent_diverse=1)"
   ]
  },
  {
   "cell_type": "code",
   "execution_count": 110,
   "metadata": {
    "scrolled": false
   },
   "outputs": [
    {
     "data": {
      "text/plain": [
       "[(17469, 3.1681957655568276, 'Lo-Carb Energy Drink', 'energy sports drinks'),\n",
       " (40183, 3.0908963571678316, 'Organic Grade A Raw Whole Milk', 'milk'),\n",
       " (48041,\n",
       "  3.0446621058945316,\n",
       "  'DanActive Vanilla Probiotic Dairy Drink',\n",
       "  'yogurt'),\n",
       " (47765, 3.0188712296018654, 'Alimentum Infant Formula', 'baby food formula'),\n",
       " (43734, 3.0073112840778324, 'Plain Soy Milk', 'soy lactosefree'),\n",
       " (13806, 3.004138614968046, '1% Milkfat Low Fat Vitamin A & D Milk', 'milk'),\n",
       " (47231,\n",
       "  2.9989173893746615,\n",
       "  'Ultra-Purified Water',\n",
       "  'water seltzer sparkling water'),\n",
       " (24746,\n",
       "  2.9881899320986793,\n",
       "  'Kickstart Energizing Orange Citrus Sparkling Juice Beverage',\n",
       "  'energy sports drinks'),\n",
       " (13128,\n",
       "  2.972977386570463,\n",
       "  'Purified Alkalkine Water with Minerals pH10',\n",
       "  'water seltzer sparkling water'),\n",
       " (48670, 2.964602995997849, 'Diet Orange & Cream Soda', 'soft drinks')]"
      ]
     },
     "execution_count": 110,
     "metadata": {},
     "output_type": "execute_result"
    }
   ],
   "source": [
    "recs"
   ]
  },
  {
   "cell_type": "code",
   "execution_count": 111,
   "metadata": {},
   "outputs": [
    {
     "data": {
      "text/plain": [
       "False"
      ]
     },
     "execution_count": 111,
     "metadata": {},
     "output_type": "execute_result"
    }
   ],
   "source": [
    "17469 in short_head"
   ]
  },
  {
   "cell_type": "code",
   "execution_count": 95,
   "metadata": {},
   "outputs": [],
   "source": [
    "#  I'd like to put everything into one function that will ask for your ratings and then return recommendations\n",
    "#  It will take a while to run though so I am adding print statements so we know where we are in the process\n",
    "\n",
    "def generate_new_user_recommendations(new_rec_df, products_desc, n_to_rate, n_to_rec, percent_diverse, \n",
    "                                      rate_aisle=None, rec_aisle=None):\n",
    "    \n",
    "    # Get user ratings\n",
    "    user_rating = grocery_rater(products_desc, n_to_rate, aisle=rate_aisle)\n",
    "    \n",
    "    ## add the new ratings to the original ratings DataFrame\n",
    "    print('Creating ratings dataset...')\n",
    "    new_ratings_df = new_rec_df.append(user_rating, ignore_index=True)\n",
    "    new_data = Dataset.load_from_df(new_ratings_df, reader)\n",
    "    \n",
    "    # train a model using the new combined DataFrame\n",
    "    print('Training recommendation model...')\n",
    "    new_user_svd = SVD(n_factors = 20, n_epochs = 10, lr_all = 0.005, reg_all = 0.4)\n",
    "    new_user_svd.fit(new_data.build_full_trainset())\n",
    "    \n",
    "    # make predictions for the user\n",
    "    print('Making predictions...')\n",
    "    list_of_products = []\n",
    "    for product in new_ratings_df['product_id'].unique():\n",
    "        product_name = products_desc[products_desc['product_id'] == product]['product_name'].iloc[0]\n",
    "        product_aisle = products_desc[products_desc['product_id'] == product]['aisle'].iloc[0]\n",
    "        list_of_products.append((product, new_user_svd.predict(300000, product)[3], product_name, product_aisle))\n",
    "    \n",
    "    # order the predictions from highest to lowest rated\n",
    "    ranked_products = sorted(list_of_products, key=lambda x:x[1], reverse=True)\n",
    "    \n",
    "    # return the top n recommendation\n",
    "    return recommend_diverse_products(ranked_products, n_to_rec, aisle=rec_aisle, percent_diverse=percent_diverse)\n",
    "    "
   ]
  },
  {
   "cell_type": "code",
   "execution_count": 98,
   "metadata": {},
   "outputs": [
    {
     "name": "stdout",
     "output_type": "stream",
     "text": [
      "\n",
      " No Salt Added Solid Light Tuna In Water\n",
      "How do you rate this product on a scale of 1-5, choose 0 to rate a different product:\n",
      "3\n",
      "\n",
      " Beef Bone Broth\n",
      "How do you rate this product on a scale of 1-5, choose 0 to rate a different product:\n",
      "3\n",
      "\n",
      " Slow Cookers BBQ Pulled Pork Seasoning Mix\n",
      "How do you rate this product on a scale of 1-5, choose 0 to rate a different product:\n",
      "1\n",
      "\n",
      " Honey Battered Breast Tenders\n",
      "How do you rate this product on a scale of 1-5, choose 0 to rate a different product:\n",
      "0\n",
      "\n",
      " Meatless Lentil Sage Meatloaf\n",
      "How do you rate this product on a scale of 1-5, choose 0 to rate a different product:\n",
      "0\n",
      "\n",
      " Flat Fillets of Anchovies in Olive Oil\n",
      "How do you rate this product on a scale of 1-5, choose 0 to rate a different product:\n",
      "3\n",
      "\n",
      " Lemon Herb Asparagus Seasoning Sauce\n",
      "How do you rate this product on a scale of 1-5, choose 0 to rate a different product:\n",
      "0\n",
      "\n",
      " Beef Bologna\n",
      "How do you rate this product on a scale of 1-5, choose 0 to rate a different product:\n",
      "4\n",
      "Creating ratings dataset...\n",
      "Training recommendation model...\n",
      "Making predictions...\n",
      "Recommendation #  2 :  Lo-Carb Energy Drink \n",
      "\n",
      "Recommendation #  6 :  Organic Grade A Raw Whole Milk \n",
      "\n",
      "Recommendation #  14 :  DanActive Vanilla Probiotic Dairy Drink \n",
      "\n",
      "Recommendation #  19 :  Diet Orange & Cream Soda \n",
      "\n",
      "Recommendation #  22 :  Plain Soy Milk \n",
      "\n",
      "Recommendation #  25 :  Alimentum Infant Formula \n",
      "\n"
     ]
    }
   ],
   "source": [
    "# Get a clean copy of the rec dataframe before running\n",
    "new_rec_df = pickle.load(open(\"Pickle/new_rec_df.p\", \"rb\"))\n",
    "\n",
    "recs = generate_new_user_recommendations(new_rec_df, products_desc, n_to_rate=5, n_to_rec=6, \n",
    "                                  percent_diverse=1, rate_aisle='meat', rec_aisle=None)"
   ]
  },
  {
   "cell_type": "markdown",
   "metadata": {},
   "source": [
    "## Interpret Results / Conclusions"
   ]
  },
  {
   "cell_type": "markdown",
   "metadata": {},
   "source": [
    "Results: \n",
    "\n",
    "* Cluster data is fabulous for market segmentation and targeted marketing\n",
    "* It is important to look at the buying power of each cluster to determine how much effort to put into targeting\n",
    "* The SVD model created much better predictions when we lowered the rating scale of the products to 1-5\n",
    "* Popularity bias skewed the SVD model but it can be controlled by personalized re-ranking of the recommendation"
   ]
  },
  {
   "cell_type": "markdown",
   "metadata": {},
   "source": [
    "Next Steps/Future Work: \n",
    "\n",
    "* Go back and cluster again allowing more than 20 clusters to make some of the big clusters smaller?  \n",
    "* Create a dashboard using DASH for graphical representation of the clusters\n",
    "* Generate word embeddings for the search engine for more specific search results\n",
    "* Create SQL tables of the data and load onto AWS\n",
    "* Use Heroku to push local FLASK app to the web\n",
    "* Perform market basket analysis by cluster using efficient-apriori model\n"
   ]
  },
  {
   "cell_type": "markdown",
   "metadata": {},
   "source": [
    "## Future work - Move data in SQL tables (on AWS?)"
   ]
  },
  {
   "cell_type": "code",
   "execution_count": 69,
   "metadata": {},
   "outputs": [],
   "source": [
    "# from sqlalchemy import create_engine\n",
    "\n",
    "# engine = create_engine('sqlite:///grocery.db', echo=True)"
   ]
  },
  {
   "cell_type": "code",
   "execution_count": null,
   "metadata": {
    "scrolled": true
   },
   "outputs": [],
   "source": [
    "# user_data.to_sql('users', con=engine, if_exists='replace')  generates a memory error"
   ]
  },
  {
   "cell_type": "code",
   "execution_count": null,
   "metadata": {},
   "outputs": [],
   "source": [
    "# result = engine.execute('SELECT * from users;')\n",
    "# pd.DataFrame(result.fetchall(), columns = result.keys())"
   ]
  }
 ],
 "metadata": {
  "kernelspec": {
   "display_name": "Python 3 (ipykernel)",
   "language": "python",
   "name": "python3"
  },
  "language_info": {
   "codemirror_mode": {
    "name": "ipython",
    "version": 3
   },
   "file_extension": ".py",
   "mimetype": "text/x-python",
   "name": "python",
   "nbconvert_exporter": "python",
   "pygments_lexer": "ipython3",
   "version": "3.9.0"
  },
  "toc": {
   "base_numbering": 1,
   "nav_menu": {},
   "number_sections": false,
   "sideBar": true,
   "skip_h1_title": false,
   "title_cell": "Table of Contents",
   "title_sidebar": "Contents",
   "toc_cell": false,
   "toc_position": {
    "height": "calc(100% - 180px)",
    "left": "10px",
    "top": "150px",
    "width": "323px"
   },
   "toc_section_display": true,
   "toc_window_display": false
  },
  "varInspector": {
   "cols": {
    "lenName": 16,
    "lenType": 16,
    "lenVar": 40
   },
   "kernels_config": {
    "python": {
     "delete_cmd_postfix": "",
     "delete_cmd_prefix": "del ",
     "library": "var_list.py",
     "varRefreshCmd": "print(var_dic_list())"
    },
    "r": {
     "delete_cmd_postfix": ") ",
     "delete_cmd_prefix": "rm(",
     "library": "var_list.r",
     "varRefreshCmd": "cat(var_dic_list()) "
    }
   },
   "types_to_exclude": [
    "module",
    "function",
    "builtin_function_or_method",
    "instance",
    "_Feature"
   ],
   "window_display": false
  }
 },
 "nbformat": 4,
 "nbformat_minor": 4
}
